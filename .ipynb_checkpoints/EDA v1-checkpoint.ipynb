{
 "cells": [
  {
   "cell_type": "code",
   "execution_count": 1,
   "metadata": {},
   "outputs": [],
   "source": [
    "import pandas as pd\n",
    "import numpy as np \n",
    "import matplotlib.pyplot as plt \n",
    "import json\n",
    "import os \n",
    "import re"
   ]
  },
  {
   "cell_type": "code",
   "execution_count": 2,
   "metadata": {},
   "outputs": [],
   "source": [
    "from importlib import reload"
   ]
  },
  {
   "cell_type": "code",
   "execution_count": 3,
   "metadata": {},
   "outputs": [
    {
     "data": {
      "text/plain": [
       "<module 'Scripts.EDA_functions' from '/home/owner/Documents/Github_projects/Tinder_analysis/Scripts/EDA_functions.py'>"
      ]
     },
     "execution_count": 3,
     "metadata": {},
     "output_type": "execute_result"
    }
   ],
   "source": [
    "from Scripts import EDA_functions as mt_eda\n",
    "reload(mt_eda)"
   ]
  },
  {
   "cell_type": "code",
   "execution_count": 4,
   "metadata": {},
   "outputs": [],
   "source": [
    "data_path = \"Data/data.json\""
   ]
  },
  {
   "cell_type": "code",
   "execution_count": 5,
   "metadata": {},
   "outputs": [
    {
     "data": {
      "text/plain": [
       "True"
      ]
     },
     "execution_count": 5,
     "metadata": {},
     "output_type": "execute_result"
    }
   ],
   "source": [
    "os.path.isfile(data_path)"
   ]
  },
  {
   "cell_type": "code",
   "execution_count": 6,
   "metadata": {},
   "outputs": [],
   "source": [
    "with open(data_path, \"rb\") as inp: \n",
    "    data = json.load(inp)"
   ]
  },
  {
   "cell_type": "code",
   "execution_count": 7,
   "metadata": {},
   "outputs": [
    {
     "data": {
      "text/plain": [
       "dict_keys(['Messages', 'Photos', 'Places', 'Purchases', 'Spotify', 'Usage', 'User'])"
      ]
     },
     "execution_count": 7,
     "metadata": {},
     "output_type": "execute_result"
    }
   ],
   "source": [
    "data.keys()"
   ]
  },
  {
   "cell_type": "markdown",
   "metadata": {},
   "source": [
    "## Explore Messages \"tab\""
   ]
  },
  {
   "cell_type": "code",
   "execution_count": 8,
   "metadata": {},
   "outputs": [
    {
     "data": {
      "text/plain": [
       "169"
      ]
     },
     "execution_count": 8,
     "metadata": {},
     "output_type": "execute_result"
    }
   ],
   "source": [
    "len(data['Messages'])"
   ]
  },
  {
   "cell_type": "code",
   "execution_count": 9,
   "metadata": {},
   "outputs": [
    {
     "data": {
      "text/plain": [
       "list"
      ]
     },
     "execution_count": 9,
     "metadata": {},
     "output_type": "execute_result"
    }
   ],
   "source": [
    "type(data['Messages'])"
   ]
  },
  {
   "cell_type": "code",
   "execution_count": 10,
   "metadata": {
    "scrolled": true
   },
   "outputs": [
    {
     "data": {
      "text/plain": [
       "[{'match_id': 'Match 169',\n",
       "  'messages': [{'to': '5bda0f045c67bcb02727e8c3',\n",
       "    'from': 'You',\n",
       "    'message': 'Rose!! 🌹 I get it',\n",
       "    'sent_date': 'Thu, 29 Nov 2018 06:43:33 GMT'}]},\n",
       " {'match_id': 'Match 168',\n",
       "  'messages': [{'to': '5bdc7209e53ebed626ea4a03',\n",
       "    'from': 'You',\n",
       "    'message': 'https://media0.giphy.com/media/6wpHEQNjkd74Q/giphy.gif?width=250&height=132',\n",
       "    'sent_date': 'Wed, 21 Nov 2018 01:18:37 GMT',\n",
       "    'type': 'gif',\n",
       "    'fixed_height': 'https://media0.giphy.com/media/6wpHEQNjkd74Q/200.gif?width=379&height=200'},\n",
       "   {'to': '5bdc7209e53ebed626ea4a03',\n",
       "    'from': 'You',\n",
       "    'message': 'Hahaha that was fantastic!',\n",
       "    'sent_date': 'Wed, 21 Nov 2018 01:18:55 GMT'},\n",
       "   {'to': '5bdc7209e53ebed626ea4a03',\n",
       "    'from': 'You',\n",
       "    'message': 'Also can you be the phosphorus and i have the big wooden stick 😁👍🏾😉',\n",
       "    'sent_date': 'Wed, 21 Nov 2018 01:19:30 GMT'},\n",
       "   {'to': '5bdc7209e53ebed626ea4a03',\n",
       "    'from': 'You',\n",
       "    'message': 'Big sticks don’t impress you?',\n",
       "    'sent_date': 'Wed, 21 Nov 2018 01:27:49 GMT'},\n",
       "   {'to': '5bdc7209e53ebed626ea4a03',\n",
       "    'from': 'You',\n",
       "    'message': 'That’s probably better for me anyways',\n",
       "    'sent_date': 'Wed, 21 Nov 2018 01:28:06 GMT'}]},\n",
       " {'match_id': 'Match 167',\n",
       "  'messages': [{'to': '5aa4c938ce81fc740cf975bf',\n",
       "    'from': 'You',\n",
       "    'message': 'Hey how’s it going? Happy Wednesday!',\n",
       "    'sent_date': 'Thu, 07 Jun 2018 00:57:00 GMT'},\n",
       "   {'to': '5aa4c938ce81fc740cf975bf',\n",
       "    'from': 'You',\n",
       "    'message': 'What beach is that in your pic and can we still go there?',\n",
       "    'sent_date': 'Sun, 07 Oct 2018 12:56:52 GMT'},\n",
       "   {'to': '5aa4c938ce81fc740cf975bf',\n",
       "    'from': 'You',\n",
       "    'message': 'Hey',\n",
       "    'sent_date': 'Sat, 17 Nov 2018 16:16:23 GMT'},\n",
       "   {'to': '5aa4c938ce81fc740cf975bf',\n",
       "    'from': 'You',\n",
       "    'message': 'How’s it going?',\n",
       "    'sent_date': 'Tue, 20 Nov 2018 05:33:00 GMT'}]}]"
      ]
     },
     "execution_count": 10,
     "metadata": {},
     "output_type": "execute_result"
    }
   ],
   "source": [
    "data['Messages'][:3]"
   ]
  },
  {
   "cell_type": "code",
   "execution_count": 11,
   "metadata": {},
   "outputs": [
    {
     "data": {
      "text/plain": [
       "dict"
      ]
     },
     "execution_count": 11,
     "metadata": {},
     "output_type": "execute_result"
    }
   ],
   "source": [
    "type(data['Messages'][0])"
   ]
  },
  {
   "cell_type": "code",
   "execution_count": 12,
   "metadata": {},
   "outputs": [
    {
     "data": {
      "text/plain": [
       "dict_keys(['match_id', 'messages'])"
      ]
     },
     "execution_count": 12,
     "metadata": {},
     "output_type": "execute_result"
    }
   ],
   "source": [
    "data['Messages'][1].keys()"
   ]
  },
  {
   "cell_type": "code",
   "execution_count": 13,
   "metadata": {
    "scrolled": true
   },
   "outputs": [
    {
     "data": {
      "text/plain": [
       "{'match_id': 'Match 168',\n",
       " 'messages': [{'to': '5bdc7209e53ebed626ea4a03',\n",
       "   'from': 'You',\n",
       "   'message': 'https://media0.giphy.com/media/6wpHEQNjkd74Q/giphy.gif?width=250&height=132',\n",
       "   'sent_date': 'Wed, 21 Nov 2018 01:18:37 GMT',\n",
       "   'type': 'gif',\n",
       "   'fixed_height': 'https://media0.giphy.com/media/6wpHEQNjkd74Q/200.gif?width=379&height=200'},\n",
       "  {'to': '5bdc7209e53ebed626ea4a03',\n",
       "   'from': 'You',\n",
       "   'message': 'Hahaha that was fantastic!',\n",
       "   'sent_date': 'Wed, 21 Nov 2018 01:18:55 GMT'},\n",
       "  {'to': '5bdc7209e53ebed626ea4a03',\n",
       "   'from': 'You',\n",
       "   'message': 'Also can you be the phosphorus and i have the big wooden stick 😁👍🏾😉',\n",
       "   'sent_date': 'Wed, 21 Nov 2018 01:19:30 GMT'},\n",
       "  {'to': '5bdc7209e53ebed626ea4a03',\n",
       "   'from': 'You',\n",
       "   'message': 'Big sticks don’t impress you?',\n",
       "   'sent_date': 'Wed, 21 Nov 2018 01:27:49 GMT'},\n",
       "  {'to': '5bdc7209e53ebed626ea4a03',\n",
       "   'from': 'You',\n",
       "   'message': 'That’s probably better for me anyways',\n",
       "   'sent_date': 'Wed, 21 Nov 2018 01:28:06 GMT'}]}"
      ]
     },
     "execution_count": 13,
     "metadata": {},
     "output_type": "execute_result"
    }
   ],
   "source": [
    "data['Messages'][1]"
   ]
  },
  {
   "cell_type": "code",
   "execution_count": 14,
   "metadata": {},
   "outputs": [
    {
     "data": {
      "text/plain": [
       "{'match_id': 'Match 168',\n",
       " 'messages': [{'to': '5bdc7209e53ebed626ea4a03',\n",
       "   'from': 'You',\n",
       "   'message': 'https://media0.giphy.com/media/6wpHEQNjkd74Q/giphy.gif?width=250&height=132',\n",
       "   'sent_date': 'Wed, 21 Nov 2018 01:18:37 GMT',\n",
       "   'type': 'gif',\n",
       "   'fixed_height': 'https://media0.giphy.com/media/6wpHEQNjkd74Q/200.gif?width=379&height=200'},\n",
       "  {'to': '5bdc7209e53ebed626ea4a03',\n",
       "   'from': 'You',\n",
       "   'message': 'Hahaha that was fantastic!',\n",
       "   'sent_date': 'Wed, 21 Nov 2018 01:18:55 GMT'},\n",
       "  {'to': '5bdc7209e53ebed626ea4a03',\n",
       "   'from': 'You',\n",
       "   'message': 'Also can you be the phosphorus and i have the big wooden stick 😁👍🏾😉',\n",
       "   'sent_date': 'Wed, 21 Nov 2018 01:19:30 GMT'},\n",
       "  {'to': '5bdc7209e53ebed626ea4a03',\n",
       "   'from': 'You',\n",
       "   'message': 'Big sticks don’t impress you?',\n",
       "   'sent_date': 'Wed, 21 Nov 2018 01:27:49 GMT'},\n",
       "  {'to': '5bdc7209e53ebed626ea4a03',\n",
       "   'from': 'You',\n",
       "   'message': 'That’s probably better for me anyways',\n",
       "   'sent_date': 'Wed, 21 Nov 2018 01:28:06 GMT'}]}"
      ]
     },
     "execution_count": 14,
     "metadata": {},
     "output_type": "execute_result"
    }
   ],
   "source": [
    "data['Messages'][1]"
   ]
  },
  {
   "cell_type": "code",
   "execution_count": 15,
   "metadata": {},
   "outputs": [
    {
     "data": {
      "text/plain": [
       "{'match_id': str, 'messages': list}"
      ]
     },
     "execution_count": 15,
     "metadata": {},
     "output_type": "execute_result"
    }
   ],
   "source": [
    "# Structure for each item in messages \n",
    "{k: type(v) for k, v in data['Messages'][0].items()}"
   ]
  },
  {
   "cell_type": "code",
   "execution_count": 16,
   "metadata": {},
   "outputs": [],
   "source": [
    "msg_df = pd.DataFrame(data['Messages'][10]['messages'])"
   ]
  },
  {
   "cell_type": "code",
   "execution_count": 17,
   "metadata": {},
   "outputs": [
    {
     "data": {
      "text/html": [
       "<div>\n",
       "<style scoped>\n",
       "    .dataframe tbody tr th:only-of-type {\n",
       "        vertical-align: middle;\n",
       "    }\n",
       "\n",
       "    .dataframe tbody tr th {\n",
       "        vertical-align: top;\n",
       "    }\n",
       "\n",
       "    .dataframe thead th {\n",
       "        text-align: right;\n",
       "    }\n",
       "</style>\n",
       "<table border=\"1\" class=\"dataframe\">\n",
       "  <thead>\n",
       "    <tr style=\"text-align: right;\">\n",
       "      <th></th>\n",
       "      <th>from</th>\n",
       "      <th>message</th>\n",
       "      <th>sent_date</th>\n",
       "      <th>to</th>\n",
       "    </tr>\n",
       "  </thead>\n",
       "  <tbody>\n",
       "    <tr>\n",
       "      <th>0</th>\n",
       "      <td>You</td>\n",
       "      <td>Interesting pic by the toilet.... not quite su...</td>\n",
       "      <td>Sat, 10 Nov 2018 03:50:33 GMT</td>\n",
       "      <td>5b949a891501499e1faa047e</td>\n",
       "    </tr>\n",
       "  </tbody>\n",
       "</table>\n",
       "</div>"
      ],
      "text/plain": [
       "  from                                            message  \\\n",
       "0  You  Interesting pic by the toilet.... not quite su...   \n",
       "\n",
       "                       sent_date                        to  \n",
       "0  Sat, 10 Nov 2018 03:50:33 GMT  5b949a891501499e1faa047e  "
      ]
     },
     "execution_count": 17,
     "metadata": {},
     "output_type": "execute_result"
    }
   ],
   "source": [
    "msg_df.head()"
   ]
  },
  {
   "cell_type": "code",
   "execution_count": null,
   "metadata": {},
   "outputs": [],
   "source": []
  },
  {
   "cell_type": "code",
   "execution_count": 18,
   "metadata": {},
   "outputs": [],
   "source": [
    "msg_df['sent_date'] = pd.to_datetime(msg_df['sent_date'])"
   ]
  },
  {
   "cell_type": "code",
   "execution_count": 19,
   "metadata": {},
   "outputs": [
    {
     "data": {
      "text/plain": [
       "Index(['from', 'message', 'sent_date', 'to'], dtype='object')"
      ]
     },
     "execution_count": 19,
     "metadata": {},
     "output_type": "execute_result"
    }
   ],
   "source": [
    "msg_df.columns"
   ]
  },
  {
   "cell_type": "code",
   "execution_count": 20,
   "metadata": {
    "scrolled": true
   },
   "outputs": [
    {
     "data": {
      "text/plain": [
       "[{'match_id': 'Match 62', 'messages': []},\n",
       " {'match_id': 'Match 61',\n",
       "  'messages': [{'to': '5603cbd9b2f521ea2c44916c',\n",
       "    'from': 'You',\n",
       "    'message': 'Do you believe in ghosts? ',\n",
       "    'sent_date': 'Sat, 26 Sep 2015 17:40:45 GMT'},\n",
       "   {'to': '5603cbd9b2f521ea2c44916c',\n",
       "    'from': 'You',\n",
       "    'message': \"Hey how's it going?  \",\n",
       "    'sent_date': 'Sat, 26 Sep 2015 17:46:38 GMT'}]}]"
      ]
     },
     "execution_count": 20,
     "metadata": {},
     "output_type": "execute_result"
    }
   ],
   "source": [
    "data['Messages'][107:109]"
   ]
  },
  {
   "cell_type": "markdown",
   "metadata": {},
   "source": [
    "## Make master dataset of all message info"
   ]
  },
  {
   "cell_type": "code",
   "execution_count": null,
   "metadata": {},
   "outputs": [],
   "source": []
  },
  {
   "cell_type": "code",
   "execution_count": 21,
   "metadata": {},
   "outputs": [
    {
     "data": {
      "text/plain": [
       "<module 'Scripts.EDA_functions' from '/home/owner/Documents/Github_projects/Tinder_analysis/Scripts/EDA_functions.py'>"
      ]
     },
     "execution_count": 21,
     "metadata": {},
     "output_type": "execute_result"
    }
   ],
   "source": [
    "reload(mt_eda)"
   ]
  },
  {
   "cell_type": "code",
   "execution_count": 22,
   "metadata": {},
   "outputs": [],
   "source": [
    "list_of_dfs = [mt_eda.get_msg_df(msg_dict) for msg_dict in data[\"Messages\"]]"
   ]
  },
  {
   "cell_type": "code",
   "execution_count": 23,
   "metadata": {
    "scrolled": false
   },
   "outputs": [],
   "source": [
    "list_of_dfs = []\n",
    "i=0\n",
    "for x in data[\"Messages\"]:\n",
    "    i+=1\n",
    "    try:\n",
    "        list_of_dfs.append(mt_eda.get_msg_df(x))\n",
    "    except:\n",
    "        print(\"Index Number\", i)\n",
    "        print(\"Contents: \\n\", x)\n",
    "        pass\n",
    "# list_of_dfs = [mt_eda.get_msg_df(msg_dict) for msg_dict in data[\"Messages\"]]"
   ]
  },
  {
   "cell_type": "code",
   "execution_count": 24,
   "metadata": {},
   "outputs": [],
   "source": [
    "list2 = []\n",
    "for df in list_of_dfs:\n",
    "    if -1 in df.columns:\n",
    "        list2.append(df)\n",
    "        print(df)"
   ]
  },
  {
   "cell_type": "code",
   "execution_count": 25,
   "metadata": {},
   "outputs": [
    {
     "data": {
      "text/plain": [
       "169"
      ]
     },
     "execution_count": 25,
     "metadata": {},
     "output_type": "execute_result"
    }
   ],
   "source": [
    "len(list_of_dfs)"
   ]
  },
  {
   "cell_type": "code",
   "execution_count": 26,
   "metadata": {},
   "outputs": [],
   "source": [
    "all_msg_df = pd.concat(list_of_dfs, axis = 0)\n"
   ]
  },
  {
   "cell_type": "code",
   "execution_count": 27,
   "metadata": {
    "scrolled": true
   },
   "outputs": [
    {
     "data": {
      "text/html": [
       "<div>\n",
       "<style scoped>\n",
       "    .dataframe tbody tr th:only-of-type {\n",
       "        vertical-align: middle;\n",
       "    }\n",
       "\n",
       "    .dataframe tbody tr th {\n",
       "        vertical-align: top;\n",
       "    }\n",
       "\n",
       "    .dataframe thead th {\n",
       "        text-align: right;\n",
       "    }\n",
       "</style>\n",
       "<table border=\"1\" class=\"dataframe\">\n",
       "  <thead>\n",
       "    <tr style=\"text-align: right;\">\n",
       "      <th></th>\n",
       "      <th></th>\n",
       "      <th>explicit_word_in_msg</th>\n",
       "      <th>fixed_height</th>\n",
       "      <th>from</th>\n",
       "      <th>funny_word_in_msg</th>\n",
       "      <th>message</th>\n",
       "      <th>n_words_in_msg</th>\n",
       "      <th>question_mark_in_msg</th>\n",
       "      <th>question_word_in_msg</th>\n",
       "      <th>sent_date</th>\n",
       "      <th>time_since_last_2_msgs</th>\n",
       "      <th>time_since_last_msg</th>\n",
       "      <th>to</th>\n",
       "      <th>type</th>\n",
       "    </tr>\n",
       "    <tr>\n",
       "      <th>match_id</th>\n",
       "      <th>msg_number</th>\n",
       "      <th></th>\n",
       "      <th></th>\n",
       "      <th></th>\n",
       "      <th></th>\n",
       "      <th></th>\n",
       "      <th></th>\n",
       "      <th></th>\n",
       "      <th></th>\n",
       "      <th></th>\n",
       "      <th></th>\n",
       "      <th></th>\n",
       "      <th></th>\n",
       "      <th></th>\n",
       "    </tr>\n",
       "  </thead>\n",
       "  <tbody>\n",
       "    <tr>\n",
       "      <th>Match 169</th>\n",
       "      <th>0</th>\n",
       "      <td>0.0</td>\n",
       "      <td>NaN</td>\n",
       "      <td>You</td>\n",
       "      <td>0.0</td>\n",
       "      <td>Rose!! 🌹 I get it</td>\n",
       "      <td>5.0</td>\n",
       "      <td>0.0</td>\n",
       "      <td>0.0</td>\n",
       "      <td>2018-11-29 06:43:33</td>\n",
       "      <td>NaT</td>\n",
       "      <td>NaT</td>\n",
       "      <td>5bda0f045c67bcb02727e8c3</td>\n",
       "      <td>NaN</td>\n",
       "    </tr>\n",
       "    <tr>\n",
       "      <th rowspan=\"5\" valign=\"top\">Match 168</th>\n",
       "      <th>0</th>\n",
       "      <td>0.0</td>\n",
       "      <td>https://media0.giphy.com/media/6wpHEQNjkd74Q/2...</td>\n",
       "      <td>You</td>\n",
       "      <td>0.0</td>\n",
       "      <td>https://media0.giphy.com/media/6wpHEQNjkd74Q/g...</td>\n",
       "      <td>1.0</td>\n",
       "      <td>1.0</td>\n",
       "      <td>0.0</td>\n",
       "      <td>2018-11-21 01:18:37</td>\n",
       "      <td>NaT</td>\n",
       "      <td>NaT</td>\n",
       "      <td>5bdc7209e53ebed626ea4a03</td>\n",
       "      <td>gif</td>\n",
       "    </tr>\n",
       "    <tr>\n",
       "      <th>1</th>\n",
       "      <td>0.0</td>\n",
       "      <td>NaN</td>\n",
       "      <td>You</td>\n",
       "      <td>1.0</td>\n",
       "      <td>Hahaha that was fantastic!</td>\n",
       "      <td>4.0</td>\n",
       "      <td>0.0</td>\n",
       "      <td>0.0</td>\n",
       "      <td>2018-11-21 01:18:55</td>\n",
       "      <td>NaT</td>\n",
       "      <td>0 days 00:00:18</td>\n",
       "      <td>5bdc7209e53ebed626ea4a03</td>\n",
       "      <td>NaN</td>\n",
       "    </tr>\n",
       "    <tr>\n",
       "      <th>2</th>\n",
       "      <td>0.0</td>\n",
       "      <td>NaN</td>\n",
       "      <td>You</td>\n",
       "      <td>0.0</td>\n",
       "      <td>Also can you be the phosphorus and i have the ...</td>\n",
       "      <td>14.0</td>\n",
       "      <td>0.0</td>\n",
       "      <td>0.0</td>\n",
       "      <td>2018-11-21 01:19:30</td>\n",
       "      <td>0 days 00:00:53</td>\n",
       "      <td>0 days 00:00:35</td>\n",
       "      <td>5bdc7209e53ebed626ea4a03</td>\n",
       "      <td>NaN</td>\n",
       "    </tr>\n",
       "    <tr>\n",
       "      <th>3</th>\n",
       "      <td>0.0</td>\n",
       "      <td>NaN</td>\n",
       "      <td>You</td>\n",
       "      <td>0.0</td>\n",
       "      <td>Big sticks don’t impress you?</td>\n",
       "      <td>5.0</td>\n",
       "      <td>1.0</td>\n",
       "      <td>0.0</td>\n",
       "      <td>2018-11-21 01:27:49</td>\n",
       "      <td>0 days 00:08:54</td>\n",
       "      <td>0 days 00:08:19</td>\n",
       "      <td>5bdc7209e53ebed626ea4a03</td>\n",
       "      <td>NaN</td>\n",
       "    </tr>\n",
       "    <tr>\n",
       "      <th>4</th>\n",
       "      <td>0.0</td>\n",
       "      <td>NaN</td>\n",
       "      <td>You</td>\n",
       "      <td>0.0</td>\n",
       "      <td>That’s probably better for me anyways</td>\n",
       "      <td>6.0</td>\n",
       "      <td>0.0</td>\n",
       "      <td>0.0</td>\n",
       "      <td>2018-11-21 01:28:06</td>\n",
       "      <td>0 days 00:08:36</td>\n",
       "      <td>0 days 00:00:17</td>\n",
       "      <td>5bdc7209e53ebed626ea4a03</td>\n",
       "      <td>NaN</td>\n",
       "    </tr>\n",
       "    <tr>\n",
       "      <th rowspan=\"4\" valign=\"top\">Match 167</th>\n",
       "      <th>0</th>\n",
       "      <td>0.0</td>\n",
       "      <td>NaN</td>\n",
       "      <td>You</td>\n",
       "      <td>0.0</td>\n",
       "      <td>Hey how’s it going? Happy Wednesday!</td>\n",
       "      <td>6.0</td>\n",
       "      <td>1.0</td>\n",
       "      <td>0.0</td>\n",
       "      <td>2018-06-07 00:57:00</td>\n",
       "      <td>NaT</td>\n",
       "      <td>NaT</td>\n",
       "      <td>5aa4c938ce81fc740cf975bf</td>\n",
       "      <td>NaN</td>\n",
       "    </tr>\n",
       "    <tr>\n",
       "      <th>1</th>\n",
       "      <td>0.0</td>\n",
       "      <td>NaN</td>\n",
       "      <td>You</td>\n",
       "      <td>0.0</td>\n",
       "      <td>What beach is that in your pic and can we stil...</td>\n",
       "      <td>13.0</td>\n",
       "      <td>1.0</td>\n",
       "      <td>1.0</td>\n",
       "      <td>2018-10-07 12:56:52</td>\n",
       "      <td>NaT</td>\n",
       "      <td>122 days 11:59:52</td>\n",
       "      <td>5aa4c938ce81fc740cf975bf</td>\n",
       "      <td>NaN</td>\n",
       "    </tr>\n",
       "    <tr>\n",
       "      <th>2</th>\n",
       "      <td>0.0</td>\n",
       "      <td>NaN</td>\n",
       "      <td>You</td>\n",
       "      <td>0.0</td>\n",
       "      <td>Hey</td>\n",
       "      <td>1.0</td>\n",
       "      <td>0.0</td>\n",
       "      <td>0.0</td>\n",
       "      <td>2018-11-17 16:16:23</td>\n",
       "      <td>163 days 15:19:23</td>\n",
       "      <td>41 days 03:19:31</td>\n",
       "      <td>5aa4c938ce81fc740cf975bf</td>\n",
       "      <td>NaN</td>\n",
       "    </tr>\n",
       "    <tr>\n",
       "      <th>3</th>\n",
       "      <td>0.0</td>\n",
       "      <td>NaN</td>\n",
       "      <td>You</td>\n",
       "      <td>0.0</td>\n",
       "      <td>How’s it going?</td>\n",
       "      <td>3.0</td>\n",
       "      <td>1.0</td>\n",
       "      <td>0.0</td>\n",
       "      <td>2018-11-20 05:33:00</td>\n",
       "      <td>43 days 16:36:08</td>\n",
       "      <td>2 days 13:16:37</td>\n",
       "      <td>5aa4c938ce81fc740cf975bf</td>\n",
       "      <td>NaN</td>\n",
       "    </tr>\n",
       "    <tr>\n",
       "      <th rowspan=\"7\" valign=\"top\">Match 166</th>\n",
       "      <th>0</th>\n",
       "      <td>0.0</td>\n",
       "      <td>NaN</td>\n",
       "      <td>You</td>\n",
       "      <td>0.0</td>\n",
       "      <td>Hey</td>\n",
       "      <td>1.0</td>\n",
       "      <td>0.0</td>\n",
       "      <td>0.0</td>\n",
       "      <td>2018-11-17 20:45:21</td>\n",
       "      <td>NaT</td>\n",
       "      <td>NaT</td>\n",
       "      <td>589c7bb9434a5ee614daa88e</td>\n",
       "      <td>NaN</td>\n",
       "    </tr>\n",
       "    <tr>\n",
       "      <th>1</th>\n",
       "      <td>0.0</td>\n",
       "      <td>NaN</td>\n",
       "      <td>You</td>\n",
       "      <td>0.0</td>\n",
       "      <td>How does a cute web developer end up on Tinder...</td>\n",
       "      <td>17.0</td>\n",
       "      <td>1.0</td>\n",
       "      <td>1.0</td>\n",
       "      <td>2018-11-17 20:56:06</td>\n",
       "      <td>NaT</td>\n",
       "      <td>0 days 00:10:45</td>\n",
       "      <td>589c7bb9434a5ee614daa88e</td>\n",
       "      <td>NaN</td>\n",
       "    </tr>\n",
       "    <tr>\n",
       "      <th>2</th>\n",
       "      <td>0.0</td>\n",
       "      <td>NaN</td>\n",
       "      <td>You</td>\n",
       "      <td>1.0</td>\n",
       "      <td>Haha what are you looking for?</td>\n",
       "      <td>6.0</td>\n",
       "      <td>1.0</td>\n",
       "      <td>1.0</td>\n",
       "      <td>2018-11-17 23:33:17</td>\n",
       "      <td>0 days 02:47:56</td>\n",
       "      <td>0 days 02:37:11</td>\n",
       "      <td>589c7bb9434a5ee614daa88e</td>\n",
       "      <td>NaN</td>\n",
       "    </tr>\n",
       "    <tr>\n",
       "      <th>3</th>\n",
       "      <td>0.0</td>\n",
       "      <td>NaN</td>\n",
       "      <td>You</td>\n",
       "      <td>0.0</td>\n",
       "      <td>And what have you found?</td>\n",
       "      <td>5.0</td>\n",
       "      <td>1.0</td>\n",
       "      <td>1.0</td>\n",
       "      <td>2018-11-17 23:33:29</td>\n",
       "      <td>0 days 02:37:23</td>\n",
       "      <td>0 days 00:00:12</td>\n",
       "      <td>589c7bb9434a5ee614daa88e</td>\n",
       "      <td>NaN</td>\n",
       "    </tr>\n",
       "    <tr>\n",
       "      <th>4</th>\n",
       "      <td>0.0</td>\n",
       "      <td>NaN</td>\n",
       "      <td>You</td>\n",
       "      <td>0.0</td>\n",
       "      <td>Something casual as well. Haven’t found much y...</td>\n",
       "      <td>9.0</td>\n",
       "      <td>0.0</td>\n",
       "      <td>0.0</td>\n",
       "      <td>2018-11-17 23:45:21</td>\n",
       "      <td>0 days 00:12:04</td>\n",
       "      <td>0 days 00:11:52</td>\n",
       "      <td>589c7bb9434a5ee614daa88e</td>\n",
       "      <td>NaN</td>\n",
       "    </tr>\n",
       "    <tr>\n",
       "      <th>5</th>\n",
       "      <td>0.0</td>\n",
       "      <td>NaN</td>\n",
       "      <td>You</td>\n",
       "      <td>0.0</td>\n",
       "      <td>But then again I just found you 😀</td>\n",
       "      <td>8.0</td>\n",
       "      <td>0.0</td>\n",
       "      <td>0.0</td>\n",
       "      <td>2018-11-18 00:44:36</td>\n",
       "      <td>0 days 01:11:07</td>\n",
       "      <td>0 days 00:59:15</td>\n",
       "      <td>589c7bb9434a5ee614daa88e</td>\n",
       "      <td>NaN</td>\n",
       "    </tr>\n",
       "    <tr>\n",
       "      <th>6</th>\n",
       "      <td>0.0</td>\n",
       "      <td>NaN</td>\n",
       "      <td>You</td>\n",
       "      <td>0.0</td>\n",
       "      <td>The dating game is hard... to me at least</td>\n",
       "      <td>9.0</td>\n",
       "      <td>0.0</td>\n",
       "      <td>0.0</td>\n",
       "      <td>2018-11-18 00:54:35</td>\n",
       "      <td>0 days 01:09:14</td>\n",
       "      <td>0 days 00:09:59</td>\n",
       "      <td>589c7bb9434a5ee614daa88e</td>\n",
       "      <td>NaN</td>\n",
       "    </tr>\n",
       "    <tr>\n",
       "      <th rowspan=\"2\" valign=\"top\">Match 165</th>\n",
       "      <th>0</th>\n",
       "      <td>0.0</td>\n",
       "      <td>NaN</td>\n",
       "      <td>You</td>\n",
       "      <td>0.0</td>\n",
       "      <td>Hey</td>\n",
       "      <td>1.0</td>\n",
       "      <td>0.0</td>\n",
       "      <td>0.0</td>\n",
       "      <td>2018-11-17 14:51:22</td>\n",
       "      <td>NaT</td>\n",
       "      <td>NaT</td>\n",
       "      <td>5bd63869c9c9d70e3cda732f</td>\n",
       "      <td>NaN</td>\n",
       "    </tr>\n",
       "    <tr>\n",
       "      <th>1</th>\n",
       "      <td>0.0</td>\n",
       "      <td>NaN</td>\n",
       "      <td>You</td>\n",
       "      <td>0.0</td>\n",
       "      <td>So whatcha leaving NY for?</td>\n",
       "      <td>5.0</td>\n",
       "      <td>1.0</td>\n",
       "      <td>0.0</td>\n",
       "      <td>2018-11-17 20:56:32</td>\n",
       "      <td>NaT</td>\n",
       "      <td>0 days 06:05:10</td>\n",
       "      <td>5bd63869c9c9d70e3cda732f</td>\n",
       "      <td>NaN</td>\n",
       "    </tr>\n",
       "    <tr>\n",
       "      <th>Match 164</th>\n",
       "      <th>0</th>\n",
       "      <td>0.0</td>\n",
       "      <td>NaN</td>\n",
       "      <td>You</td>\n",
       "      <td>0.0</td>\n",
       "      <td>Hey so is that your dog in the pics?</td>\n",
       "      <td>9.0</td>\n",
       "      <td>1.0</td>\n",
       "      <td>0.0</td>\n",
       "      <td>2018-11-17 20:45:12</td>\n",
       "      <td>NaT</td>\n",
       "      <td>NaT</td>\n",
       "      <td>56e20320211c32112a2a3206</td>\n",
       "      <td>NaN</td>\n",
       "    </tr>\n",
       "  </tbody>\n",
       "</table>\n",
       "</div>"
      ],
      "text/plain": [
       "                      explicit_word_in_msg  \\\n",
       "match_id  msg_number                         \n",
       "Match 169 0                            0.0   \n",
       "Match 168 0                            0.0   \n",
       "          1                            0.0   \n",
       "          2                            0.0   \n",
       "          3                            0.0   \n",
       "          4                            0.0   \n",
       "Match 167 0                            0.0   \n",
       "          1                            0.0   \n",
       "          2                            0.0   \n",
       "          3                            0.0   \n",
       "Match 166 0                            0.0   \n",
       "          1                            0.0   \n",
       "          2                            0.0   \n",
       "          3                            0.0   \n",
       "          4                            0.0   \n",
       "          5                            0.0   \n",
       "          6                            0.0   \n",
       "Match 165 0                            0.0   \n",
       "          1                            0.0   \n",
       "Match 164 0                            0.0   \n",
       "\n",
       "                                                           fixed_height from  \\\n",
       "match_id  msg_number                                                           \n",
       "Match 169 0                                                         NaN  You   \n",
       "Match 168 0           https://media0.giphy.com/media/6wpHEQNjkd74Q/2...  You   \n",
       "          1                                                         NaN  You   \n",
       "          2                                                         NaN  You   \n",
       "          3                                                         NaN  You   \n",
       "          4                                                         NaN  You   \n",
       "Match 167 0                                                         NaN  You   \n",
       "          1                                                         NaN  You   \n",
       "          2                                                         NaN  You   \n",
       "          3                                                         NaN  You   \n",
       "Match 166 0                                                         NaN  You   \n",
       "          1                                                         NaN  You   \n",
       "          2                                                         NaN  You   \n",
       "          3                                                         NaN  You   \n",
       "          4                                                         NaN  You   \n",
       "          5                                                         NaN  You   \n",
       "          6                                                         NaN  You   \n",
       "Match 165 0                                                         NaN  You   \n",
       "          1                                                         NaN  You   \n",
       "Match 164 0                                                         NaN  You   \n",
       "\n",
       "                      funny_word_in_msg  \\\n",
       "match_id  msg_number                      \n",
       "Match 169 0                         0.0   \n",
       "Match 168 0                         0.0   \n",
       "          1                         1.0   \n",
       "          2                         0.0   \n",
       "          3                         0.0   \n",
       "          4                         0.0   \n",
       "Match 167 0                         0.0   \n",
       "          1                         0.0   \n",
       "          2                         0.0   \n",
       "          3                         0.0   \n",
       "Match 166 0                         0.0   \n",
       "          1                         0.0   \n",
       "          2                         1.0   \n",
       "          3                         0.0   \n",
       "          4                         0.0   \n",
       "          5                         0.0   \n",
       "          6                         0.0   \n",
       "Match 165 0                         0.0   \n",
       "          1                         0.0   \n",
       "Match 164 0                         0.0   \n",
       "\n",
       "                                                                message  \\\n",
       "match_id  msg_number                                                      \n",
       "Match 169 0                                           Rose!! 🌹 I get it   \n",
       "Match 168 0           https://media0.giphy.com/media/6wpHEQNjkd74Q/g...   \n",
       "          1                                  Hahaha that was fantastic!   \n",
       "          2           Also can you be the phosphorus and i have the ...   \n",
       "          3                               Big sticks don’t impress you?   \n",
       "          4                       That’s probably better for me anyways   \n",
       "Match 167 0                        Hey how’s it going? Happy Wednesday!   \n",
       "          1           What beach is that in your pic and can we stil...   \n",
       "          2                                                         Hey   \n",
       "          3                                             How’s it going?   \n",
       "Match 166 0                                                         Hey   \n",
       "          1           How does a cute web developer end up on Tinder...   \n",
       "          2                              Haha what are you looking for?   \n",
       "          3                                    And what have you found?   \n",
       "          4           Something casual as well. Haven’t found much y...   \n",
       "          5                           But then again I just found you 😀   \n",
       "          6                   The dating game is hard... to me at least   \n",
       "Match 165 0                                                         Hey   \n",
       "          1                                  So whatcha leaving NY for?   \n",
       "Match 164 0                        Hey so is that your dog in the pics?   \n",
       "\n",
       "                      n_words_in_msg  question_mark_in_msg  \\\n",
       "match_id  msg_number                                         \n",
       "Match 169 0                      5.0                   0.0   \n",
       "Match 168 0                      1.0                   1.0   \n",
       "          1                      4.0                   0.0   \n",
       "          2                     14.0                   0.0   \n",
       "          3                      5.0                   1.0   \n",
       "          4                      6.0                   0.0   \n",
       "Match 167 0                      6.0                   1.0   \n",
       "          1                     13.0                   1.0   \n",
       "          2                      1.0                   0.0   \n",
       "          3                      3.0                   1.0   \n",
       "Match 166 0                      1.0                   0.0   \n",
       "          1                     17.0                   1.0   \n",
       "          2                      6.0                   1.0   \n",
       "          3                      5.0                   1.0   \n",
       "          4                      9.0                   0.0   \n",
       "          5                      8.0                   0.0   \n",
       "          6                      9.0                   0.0   \n",
       "Match 165 0                      1.0                   0.0   \n",
       "          1                      5.0                   1.0   \n",
       "Match 164 0                      9.0                   1.0   \n",
       "\n",
       "                      question_word_in_msg           sent_date  \\\n",
       "match_id  msg_number                                             \n",
       "Match 169 0                            0.0 2018-11-29 06:43:33   \n",
       "Match 168 0                            0.0 2018-11-21 01:18:37   \n",
       "          1                            0.0 2018-11-21 01:18:55   \n",
       "          2                            0.0 2018-11-21 01:19:30   \n",
       "          3                            0.0 2018-11-21 01:27:49   \n",
       "          4                            0.0 2018-11-21 01:28:06   \n",
       "Match 167 0                            0.0 2018-06-07 00:57:00   \n",
       "          1                            1.0 2018-10-07 12:56:52   \n",
       "          2                            0.0 2018-11-17 16:16:23   \n",
       "          3                            0.0 2018-11-20 05:33:00   \n",
       "Match 166 0                            0.0 2018-11-17 20:45:21   \n",
       "          1                            1.0 2018-11-17 20:56:06   \n",
       "          2                            1.0 2018-11-17 23:33:17   \n",
       "          3                            1.0 2018-11-17 23:33:29   \n",
       "          4                            0.0 2018-11-17 23:45:21   \n",
       "          5                            0.0 2018-11-18 00:44:36   \n",
       "          6                            0.0 2018-11-18 00:54:35   \n",
       "Match 165 0                            0.0 2018-11-17 14:51:22   \n",
       "          1                            0.0 2018-11-17 20:56:32   \n",
       "Match 164 0                            0.0 2018-11-17 20:45:12   \n",
       "\n",
       "                     time_since_last_2_msgs time_since_last_msg  \\\n",
       "match_id  msg_number                                              \n",
       "Match 169 0                             NaT                 NaT   \n",
       "Match 168 0                             NaT                 NaT   \n",
       "          1                             NaT     0 days 00:00:18   \n",
       "          2                 0 days 00:00:53     0 days 00:00:35   \n",
       "          3                 0 days 00:08:54     0 days 00:08:19   \n",
       "          4                 0 days 00:08:36     0 days 00:00:17   \n",
       "Match 167 0                             NaT                 NaT   \n",
       "          1                             NaT   122 days 11:59:52   \n",
       "          2               163 days 15:19:23    41 days 03:19:31   \n",
       "          3                43 days 16:36:08     2 days 13:16:37   \n",
       "Match 166 0                             NaT                 NaT   \n",
       "          1                             NaT     0 days 00:10:45   \n",
       "          2                 0 days 02:47:56     0 days 02:37:11   \n",
       "          3                 0 days 02:37:23     0 days 00:00:12   \n",
       "          4                 0 days 00:12:04     0 days 00:11:52   \n",
       "          5                 0 days 01:11:07     0 days 00:59:15   \n",
       "          6                 0 days 01:09:14     0 days 00:09:59   \n",
       "Match 165 0                             NaT                 NaT   \n",
       "          1                             NaT     0 days 06:05:10   \n",
       "Match 164 0                             NaT                 NaT   \n",
       "\n",
       "                                            to type  \n",
       "match_id  msg_number                                 \n",
       "Match 169 0           5bda0f045c67bcb02727e8c3  NaN  \n",
       "Match 168 0           5bdc7209e53ebed626ea4a03  gif  \n",
       "          1           5bdc7209e53ebed626ea4a03  NaN  \n",
       "          2           5bdc7209e53ebed626ea4a03  NaN  \n",
       "          3           5bdc7209e53ebed626ea4a03  NaN  \n",
       "          4           5bdc7209e53ebed626ea4a03  NaN  \n",
       "Match 167 0           5aa4c938ce81fc740cf975bf  NaN  \n",
       "          1           5aa4c938ce81fc740cf975bf  NaN  \n",
       "          2           5aa4c938ce81fc740cf975bf  NaN  \n",
       "          3           5aa4c938ce81fc740cf975bf  NaN  \n",
       "Match 166 0           589c7bb9434a5ee614daa88e  NaN  \n",
       "          1           589c7bb9434a5ee614daa88e  NaN  \n",
       "          2           589c7bb9434a5ee614daa88e  NaN  \n",
       "          3           589c7bb9434a5ee614daa88e  NaN  \n",
       "          4           589c7bb9434a5ee614daa88e  NaN  \n",
       "          5           589c7bb9434a5ee614daa88e  NaN  \n",
       "          6           589c7bb9434a5ee614daa88e  NaN  \n",
       "Match 165 0           5bd63869c9c9d70e3cda732f  NaN  \n",
       "          1           5bd63869c9c9d70e3cda732f  NaN  \n",
       "Match 164 0           56e20320211c32112a2a3206  NaN  "
      ]
     },
     "execution_count": 27,
     "metadata": {},
     "output_type": "execute_result"
    }
   ],
   "source": [
    "all_msg_df.head(20)"
   ]
  },
  {
   "cell_type": "code",
   "execution_count": 28,
   "metadata": {},
   "outputs": [
    {
     "data": {
      "text/plain": [
       "explicit_word_in_msg                       1\n",
       "funny_word_in_msg                         66\n",
       "n_words_in_msg                         10653\n",
       "question_mark_in_msg                     501\n",
       "question_word_in_msg                     297\n",
       "time_since_last_2_msgs    3040 days 11:03:52\n",
       "time_since_last_msg       2497 days 09:55:19\n",
       "dtype: object"
      ]
     },
     "execution_count": 28,
     "metadata": {},
     "output_type": "execute_result"
    }
   ],
   "source": [
    "all_msg_df.sum(axis=0)"
   ]
  },
  {
   "cell_type": "code",
   "execution_count": 29,
   "metadata": {},
   "outputs": [
    {
     "name": "stdout",
     "output_type": "stream",
     "text": [
      "['Haha that sounds pretty interesting. All I listen to are podcasts about sex or economics 🤓']\n"
     ]
    }
   ],
   "source": [
    "print(all_msg_df[all_msg_df['explicit_word_in_msg'] == 1]['message'].values)"
   ]
  },
  {
   "cell_type": "code",
   "execution_count": 30,
   "metadata": {},
   "outputs": [
    {
     "data": {
      "text/html": [
       "<div>\n",
       "<style scoped>\n",
       "    .dataframe tbody tr th:only-of-type {\n",
       "        vertical-align: middle;\n",
       "    }\n",
       "\n",
       "    .dataframe tbody tr th {\n",
       "        vertical-align: top;\n",
       "    }\n",
       "\n",
       "    .dataframe thead th {\n",
       "        text-align: right;\n",
       "    }\n",
       "</style>\n",
       "<table border=\"1\" class=\"dataframe\">\n",
       "  <thead>\n",
       "    <tr style=\"text-align: right;\">\n",
       "      <th>q_word_in_msg</th>\n",
       "      <th>0.0</th>\n",
       "      <th>1.0</th>\n",
       "    </tr>\n",
       "    <tr>\n",
       "      <th>q_mark_in_msg</th>\n",
       "      <th></th>\n",
       "      <th></th>\n",
       "    </tr>\n",
       "  </thead>\n",
       "  <tbody>\n",
       "    <tr>\n",
       "      <th>0.0</th>\n",
       "      <td>408</td>\n",
       "      <td>52</td>\n",
       "    </tr>\n",
       "    <tr>\n",
       "      <th>1.0</th>\n",
       "      <td>256</td>\n",
       "      <td>245</td>\n",
       "    </tr>\n",
       "  </tbody>\n",
       "</table>\n",
       "</div>"
      ],
      "text/plain": [
       "q_word_in_msg  0.0  1.0\n",
       "q_mark_in_msg          \n",
       "0.0            408   52\n",
       "1.0            256  245"
      ]
     },
     "execution_count": 30,
     "metadata": {},
     "output_type": "execute_result"
    }
   ],
   "source": [
    "pd.crosstab(all_msg_df['question_mark_in_msg'].values, all_msg_df['question_word_in_msg'].values\n",
    "           , rownames=[\"q_mark_in_msg\"]\n",
    "           , colnames=[\"q_word_in_msg\"]\n",
    "           )"
   ]
  },
  {
   "cell_type": "code",
   "execution_count": 31,
   "metadata": {},
   "outputs": [
    {
     "data": {
      "text/html": [
       "<div>\n",
       "<style scoped>\n",
       "    .dataframe tbody tr th:only-of-type {\n",
       "        vertical-align: middle;\n",
       "    }\n",
       "\n",
       "    .dataframe tbody tr th {\n",
       "        vertical-align: top;\n",
       "    }\n",
       "\n",
       "    .dataframe thead th {\n",
       "        text-align: right;\n",
       "    }\n",
       "</style>\n",
       "<table border=\"1\" class=\"dataframe\">\n",
       "  <thead>\n",
       "    <tr style=\"text-align: right;\">\n",
       "      <th>q_word_in_msg</th>\n",
       "      <th>0.0</th>\n",
       "      <th>1.0</th>\n",
       "    </tr>\n",
       "    <tr>\n",
       "      <th>q_mark_in_msg</th>\n",
       "      <th></th>\n",
       "      <th></th>\n",
       "    </tr>\n",
       "  </thead>\n",
       "  <tbody>\n",
       "    <tr>\n",
       "      <th>0.0</th>\n",
       "      <td>0.424558</td>\n",
       "      <td>0.054110</td>\n",
       "    </tr>\n",
       "    <tr>\n",
       "      <th>1.0</th>\n",
       "      <td>0.266389</td>\n",
       "      <td>0.254943</td>\n",
       "    </tr>\n",
       "  </tbody>\n",
       "</table>\n",
       "</div>"
      ],
      "text/plain": [
       "q_word_in_msg       0.0       1.0\n",
       "q_mark_in_msg                    \n",
       "0.0            0.424558  0.054110\n",
       "1.0            0.266389  0.254943"
      ]
     },
     "execution_count": 31,
     "metadata": {},
     "output_type": "execute_result"
    }
   ],
   "source": [
    "pd.crosstab(all_msg_df['question_mark_in_msg'].values, all_msg_df['question_word_in_msg'].values\n",
    "           , rownames=[\"q_mark_in_msg\"]\n",
    "           , colnames=[\"q_word_in_msg\"]\n",
    "           , normalize = True)"
   ]
  },
  {
   "cell_type": "code",
   "execution_count": null,
   "metadata": {},
   "outputs": [],
   "source": []
  },
  {
   "cell_type": "code",
   "execution_count": 32,
   "metadata": {},
   "outputs": [],
   "source": [
    "n_rows = [df.shape[0] for df in list_of_dfs]"
   ]
  },
  {
   "cell_type": "code",
   "execution_count": 33,
   "metadata": {},
   "outputs": [
    {
     "data": {
      "text/plain": [
       "count    169.000000\n",
       "mean       5.710059\n",
       "std        9.289905\n",
       "min        1.000000\n",
       "25%        1.000000\n",
       "50%        2.000000\n",
       "75%        5.000000\n",
       "max       64.000000\n",
       "dtype: float64"
      ]
     },
     "execution_count": 33,
     "metadata": {},
     "output_type": "execute_result"
    }
   ],
   "source": [
    "pd.Series(n_rows).describe()"
   ]
  },
  {
   "cell_type": "code",
   "execution_count": 34,
   "metadata": {},
   "outputs": [
    {
     "data": {
      "text/plain": [
       "965"
      ]
     },
     "execution_count": 34,
     "metadata": {},
     "output_type": "execute_result"
    }
   ],
   "source": [
    "pd.Series(n_rows).sum()"
   ]
  },
  {
   "cell_type": "code",
   "execution_count": 35,
   "metadata": {},
   "outputs": [
    {
     "data": {
      "text/html": [
       "<div>\n",
       "<style scoped>\n",
       "    .dataframe tbody tr th:only-of-type {\n",
       "        vertical-align: middle;\n",
       "    }\n",
       "\n",
       "    .dataframe tbody tr th {\n",
       "        vertical-align: top;\n",
       "    }\n",
       "\n",
       "    .dataframe thead th {\n",
       "        text-align: right;\n",
       "    }\n",
       "</style>\n",
       "<table border=\"1\" class=\"dataframe\">\n",
       "  <thead>\n",
       "    <tr style=\"text-align: right;\">\n",
       "      <th></th>\n",
       "      <th></th>\n",
       "      <th>from</th>\n",
       "      <th>message</th>\n",
       "      <th>sent_date</th>\n",
       "      <th>to</th>\n",
       "      <th>fixed_height</th>\n",
       "      <th>type</th>\n",
       "      <th>n_words_in_msg</th>\n",
       "      <th>time_since_last_msg</th>\n",
       "      <th>time_since_last_2_msgs</th>\n",
       "      <th>funny_word_in_msg</th>\n",
       "      <th>question_word_in_msg</th>\n",
       "      <th>question_mark_in_msg</th>\n",
       "      <th>explicit_word_in_msg</th>\n",
       "    </tr>\n",
       "    <tr>\n",
       "      <th>match_id</th>\n",
       "      <th>msg_number</th>\n",
       "      <th></th>\n",
       "      <th></th>\n",
       "      <th></th>\n",
       "      <th></th>\n",
       "      <th></th>\n",
       "      <th></th>\n",
       "      <th></th>\n",
       "      <th></th>\n",
       "      <th></th>\n",
       "      <th></th>\n",
       "      <th></th>\n",
       "      <th></th>\n",
       "      <th></th>\n",
       "    </tr>\n",
       "  </thead>\n",
       "  <tbody>\n",
       "    <tr>\n",
       "      <th rowspan=\"2\" valign=\"top\">Match 3</th>\n",
       "      <th>0</th>\n",
       "      <td>You</td>\n",
       "      <td>Hey girl how's it going?</td>\n",
       "      <td>2014-03-27 16:25:19</td>\n",
       "      <td>533379aa329c196b56000a6d</td>\n",
       "      <td>NaN</td>\n",
       "      <td>NaN</td>\n",
       "      <td>6</td>\n",
       "      <td>NaT</td>\n",
       "      <td>NaT</td>\n",
       "      <td>0</td>\n",
       "      <td>1</td>\n",
       "      <td>1</td>\n",
       "      <td>0</td>\n",
       "    </tr>\n",
       "    <tr>\n",
       "      <th>1</th>\n",
       "      <td>You</td>\n",
       "      <td>Going out tonight?</td>\n",
       "      <td>2014-03-27 22:04:16</td>\n",
       "      <td>533379aa329c196b56000a6d</td>\n",
       "      <td>NaN</td>\n",
       "      <td>NaN</td>\n",
       "      <td>4</td>\n",
       "      <td>05:38:57</td>\n",
       "      <td>NaT</td>\n",
       "      <td>0</td>\n",
       "      <td>0</td>\n",
       "      <td>1</td>\n",
       "      <td>0</td>\n",
       "    </tr>\n",
       "  </tbody>\n",
       "</table>\n",
       "</div>"
      ],
      "text/plain": [
       "                    from                    message           sent_date  \\\n",
       "match_id msg_number                                                       \n",
       "Match 3  0           You  Hey girl how's it going?  2014-03-27 16:25:19   \n",
       "         1           You        Going out tonight?  2014-03-27 22:04:16   \n",
       "\n",
       "                                           to  fixed_height  type  \\\n",
       "match_id msg_number                                                 \n",
       "Match 3  0           533379aa329c196b56000a6d           NaN   NaN   \n",
       "         1           533379aa329c196b56000a6d           NaN   NaN   \n",
       "\n",
       "                     n_words_in_msg time_since_last_msg  \\\n",
       "match_id msg_number                                       \n",
       "Match 3  0                        6                 NaT   \n",
       "         1                        4            05:38:57   \n",
       "\n",
       "                    time_since_last_2_msgs  funny_word_in_msg  \\\n",
       "match_id msg_number                                             \n",
       "Match 3  0                             NaT                  0   \n",
       "         1                             NaT                  0   \n",
       "\n",
       "                     question_word_in_msg  question_mark_in_msg  \\\n",
       "match_id msg_number                                               \n",
       "Match 3  0                              1                     1   \n",
       "         1                              0                     1   \n",
       "\n",
       "                     explicit_word_in_msg  \n",
       "match_id msg_number                        \n",
       "Match 3  0                              0  \n",
       "         1                              0  "
      ]
     },
     "execution_count": 35,
     "metadata": {},
     "output_type": "execute_result"
    }
   ],
   "source": [
    "list_of_dfs[-3]"
   ]
  },
  {
   "cell_type": "code",
   "execution_count": 36,
   "metadata": {},
   "outputs": [
    {
     "data": {
      "text/html": [
       "<div>\n",
       "<style scoped>\n",
       "    .dataframe tbody tr th:only-of-type {\n",
       "        vertical-align: middle;\n",
       "    }\n",
       "\n",
       "    .dataframe tbody tr th {\n",
       "        vertical-align: top;\n",
       "    }\n",
       "\n",
       "    .dataframe thead th {\n",
       "        text-align: right;\n",
       "    }\n",
       "</style>\n",
       "<table border=\"1\" class=\"dataframe\">\n",
       "  <thead>\n",
       "    <tr style=\"text-align: right;\">\n",
       "      <th></th>\n",
       "      <th></th>\n",
       "      <th>from</th>\n",
       "      <th>message</th>\n",
       "      <th>sent_date</th>\n",
       "      <th>to</th>\n",
       "      <th>fixed_height</th>\n",
       "      <th>type</th>\n",
       "      <th>n_words_in_msg</th>\n",
       "      <th>time_since_last_msg</th>\n",
       "      <th>time_since_last_2_msgs</th>\n",
       "      <th>funny_word_in_msg</th>\n",
       "      <th>question_word_in_msg</th>\n",
       "      <th>question_mark_in_msg</th>\n",
       "      <th>explicit_word_in_msg</th>\n",
       "    </tr>\n",
       "    <tr>\n",
       "      <th>match_id</th>\n",
       "      <th>msg_number</th>\n",
       "      <th></th>\n",
       "      <th></th>\n",
       "      <th></th>\n",
       "      <th></th>\n",
       "      <th></th>\n",
       "      <th></th>\n",
       "      <th></th>\n",
       "      <th></th>\n",
       "      <th></th>\n",
       "      <th></th>\n",
       "      <th></th>\n",
       "      <th></th>\n",
       "      <th></th>\n",
       "    </tr>\n",
       "  </thead>\n",
       "  <tbody>\n",
       "    <tr>\n",
       "      <th>Match 169</th>\n",
       "      <th>0</th>\n",
       "      <td>You</td>\n",
       "      <td>Rose!! 🌹 I get it</td>\n",
       "      <td>2018-11-29 06:43:33</td>\n",
       "      <td>5bda0f045c67bcb02727e8c3</td>\n",
       "      <td>NaN</td>\n",
       "      <td>NaN</td>\n",
       "      <td>5</td>\n",
       "      <td>NaT</td>\n",
       "      <td>NaT</td>\n",
       "      <td>0</td>\n",
       "      <td>0</td>\n",
       "      <td>0</td>\n",
       "      <td>0</td>\n",
       "    </tr>\n",
       "  </tbody>\n",
       "</table>\n",
       "</div>"
      ],
      "text/plain": [
       "                     from            message           sent_date  \\\n",
       "match_id  msg_number                                               \n",
       "Match 169 0           You  Rose!! 🌹 I get it 2018-11-29 06:43:33   \n",
       "\n",
       "                                            to  fixed_height  type  \\\n",
       "match_id  msg_number                                                 \n",
       "Match 169 0           5bda0f045c67bcb02727e8c3           NaN   NaN   \n",
       "\n",
       "                      n_words_in_msg time_since_last_msg  \\\n",
       "match_id  msg_number                                       \n",
       "Match 169 0                        5                 NaT   \n",
       "\n",
       "                     time_since_last_2_msgs  funny_word_in_msg  \\\n",
       "match_id  msg_number                                             \n",
       "Match 169 0                             NaT                  0   \n",
       "\n",
       "                      question_word_in_msg  question_mark_in_msg  \\\n",
       "match_id  msg_number                                               \n",
       "Match 169 0                              0                     0   \n",
       "\n",
       "                      explicit_word_in_msg  \n",
       "match_id  msg_number                        \n",
       "Match 169 0                              0  "
      ]
     },
     "execution_count": 36,
     "metadata": {},
     "output_type": "execute_result"
    }
   ],
   "source": [
    "list_of_dfs[0]"
   ]
  },
  {
   "cell_type": "code",
   "execution_count": null,
   "metadata": {},
   "outputs": [],
   "source": []
  },
  {
   "cell_type": "code",
   "execution_count": 37,
   "metadata": {},
   "outputs": [
    {
     "data": {
      "text/plain": [
       "(965, 13)"
      ]
     },
     "execution_count": 37,
     "metadata": {},
     "output_type": "execute_result"
    }
   ],
   "source": [
    "all_msg_df.shape"
   ]
  },
  {
   "cell_type": "code",
   "execution_count": 38,
   "metadata": {},
   "outputs": [
    {
     "data": {
      "text/html": [
       "<div>\n",
       "<style scoped>\n",
       "    .dataframe tbody tr th:only-of-type {\n",
       "        vertical-align: middle;\n",
       "    }\n",
       "\n",
       "    .dataframe tbody tr th {\n",
       "        vertical-align: top;\n",
       "    }\n",
       "\n",
       "    .dataframe thead th {\n",
       "        text-align: right;\n",
       "    }\n",
       "</style>\n",
       "<table border=\"1\" class=\"dataframe\">\n",
       "  <thead>\n",
       "    <tr style=\"text-align: right;\">\n",
       "      <th></th>\n",
       "      <th></th>\n",
       "      <th>explicit_word_in_msg</th>\n",
       "      <th>fixed_height</th>\n",
       "      <th>from</th>\n",
       "      <th>funny_word_in_msg</th>\n",
       "      <th>message</th>\n",
       "      <th>n_words_in_msg</th>\n",
       "      <th>question_mark_in_msg</th>\n",
       "      <th>question_word_in_msg</th>\n",
       "      <th>sent_date</th>\n",
       "      <th>time_since_last_2_msgs</th>\n",
       "      <th>time_since_last_msg</th>\n",
       "      <th>to</th>\n",
       "      <th>type</th>\n",
       "    </tr>\n",
       "    <tr>\n",
       "      <th>match_id</th>\n",
       "      <th>msg_number</th>\n",
       "      <th></th>\n",
       "      <th></th>\n",
       "      <th></th>\n",
       "      <th></th>\n",
       "      <th></th>\n",
       "      <th></th>\n",
       "      <th></th>\n",
       "      <th></th>\n",
       "      <th></th>\n",
       "      <th></th>\n",
       "      <th></th>\n",
       "      <th></th>\n",
       "      <th></th>\n",
       "    </tr>\n",
       "  </thead>\n",
       "  <tbody>\n",
       "    <tr>\n",
       "      <th>Match 169</th>\n",
       "      <th>0</th>\n",
       "      <td>0.0</td>\n",
       "      <td>NaN</td>\n",
       "      <td>You</td>\n",
       "      <td>0.0</td>\n",
       "      <td>Rose!! 🌹 I get it</td>\n",
       "      <td>5.0</td>\n",
       "      <td>0.0</td>\n",
       "      <td>0.0</td>\n",
       "      <td>2018-11-29 06:43:33</td>\n",
       "      <td>NaT</td>\n",
       "      <td>NaT</td>\n",
       "      <td>5bda0f045c67bcb02727e8c3</td>\n",
       "      <td>NaN</td>\n",
       "    </tr>\n",
       "    <tr>\n",
       "      <th rowspan=\"4\" valign=\"top\">Match 168</th>\n",
       "      <th>0</th>\n",
       "      <td>0.0</td>\n",
       "      <td>https://media0.giphy.com/media/6wpHEQNjkd74Q/2...</td>\n",
       "      <td>You</td>\n",
       "      <td>0.0</td>\n",
       "      <td>https://media0.giphy.com/media/6wpHEQNjkd74Q/g...</td>\n",
       "      <td>1.0</td>\n",
       "      <td>1.0</td>\n",
       "      <td>0.0</td>\n",
       "      <td>2018-11-21 01:18:37</td>\n",
       "      <td>NaT</td>\n",
       "      <td>NaT</td>\n",
       "      <td>5bdc7209e53ebed626ea4a03</td>\n",
       "      <td>gif</td>\n",
       "    </tr>\n",
       "    <tr>\n",
       "      <th>1</th>\n",
       "      <td>0.0</td>\n",
       "      <td>NaN</td>\n",
       "      <td>You</td>\n",
       "      <td>1.0</td>\n",
       "      <td>Hahaha that was fantastic!</td>\n",
       "      <td>4.0</td>\n",
       "      <td>0.0</td>\n",
       "      <td>0.0</td>\n",
       "      <td>2018-11-21 01:18:55</td>\n",
       "      <td>NaT</td>\n",
       "      <td>00:00:18</td>\n",
       "      <td>5bdc7209e53ebed626ea4a03</td>\n",
       "      <td>NaN</td>\n",
       "    </tr>\n",
       "    <tr>\n",
       "      <th>2</th>\n",
       "      <td>0.0</td>\n",
       "      <td>NaN</td>\n",
       "      <td>You</td>\n",
       "      <td>0.0</td>\n",
       "      <td>Also can you be the phosphorus and i have the ...</td>\n",
       "      <td>14.0</td>\n",
       "      <td>0.0</td>\n",
       "      <td>0.0</td>\n",
       "      <td>2018-11-21 01:19:30</td>\n",
       "      <td>00:00:53</td>\n",
       "      <td>00:00:35</td>\n",
       "      <td>5bdc7209e53ebed626ea4a03</td>\n",
       "      <td>NaN</td>\n",
       "    </tr>\n",
       "    <tr>\n",
       "      <th>3</th>\n",
       "      <td>0.0</td>\n",
       "      <td>NaN</td>\n",
       "      <td>You</td>\n",
       "      <td>0.0</td>\n",
       "      <td>Big sticks don’t impress you?</td>\n",
       "      <td>5.0</td>\n",
       "      <td>1.0</td>\n",
       "      <td>0.0</td>\n",
       "      <td>2018-11-21 01:27:49</td>\n",
       "      <td>00:08:54</td>\n",
       "      <td>00:08:19</td>\n",
       "      <td>5bdc7209e53ebed626ea4a03</td>\n",
       "      <td>NaN</td>\n",
       "    </tr>\n",
       "  </tbody>\n",
       "</table>\n",
       "</div>"
      ],
      "text/plain": [
       "                      explicit_word_in_msg  \\\n",
       "match_id  msg_number                         \n",
       "Match 169 0                            0.0   \n",
       "Match 168 0                            0.0   \n",
       "          1                            0.0   \n",
       "          2                            0.0   \n",
       "          3                            0.0   \n",
       "\n",
       "                                                           fixed_height from  \\\n",
       "match_id  msg_number                                                           \n",
       "Match 169 0                                                         NaN  You   \n",
       "Match 168 0           https://media0.giphy.com/media/6wpHEQNjkd74Q/2...  You   \n",
       "          1                                                         NaN  You   \n",
       "          2                                                         NaN  You   \n",
       "          3                                                         NaN  You   \n",
       "\n",
       "                      funny_word_in_msg  \\\n",
       "match_id  msg_number                      \n",
       "Match 169 0                         0.0   \n",
       "Match 168 0                         0.0   \n",
       "          1                         1.0   \n",
       "          2                         0.0   \n",
       "          3                         0.0   \n",
       "\n",
       "                                                                message  \\\n",
       "match_id  msg_number                                                      \n",
       "Match 169 0                                           Rose!! 🌹 I get it   \n",
       "Match 168 0           https://media0.giphy.com/media/6wpHEQNjkd74Q/g...   \n",
       "          1                                  Hahaha that was fantastic!   \n",
       "          2           Also can you be the phosphorus and i have the ...   \n",
       "          3                               Big sticks don’t impress you?   \n",
       "\n",
       "                      n_words_in_msg  question_mark_in_msg  \\\n",
       "match_id  msg_number                                         \n",
       "Match 169 0                      5.0                   0.0   \n",
       "Match 168 0                      1.0                   1.0   \n",
       "          1                      4.0                   0.0   \n",
       "          2                     14.0                   0.0   \n",
       "          3                      5.0                   1.0   \n",
       "\n",
       "                      question_word_in_msg           sent_date  \\\n",
       "match_id  msg_number                                             \n",
       "Match 169 0                            0.0 2018-11-29 06:43:33   \n",
       "Match 168 0                            0.0 2018-11-21 01:18:37   \n",
       "          1                            0.0 2018-11-21 01:18:55   \n",
       "          2                            0.0 2018-11-21 01:19:30   \n",
       "          3                            0.0 2018-11-21 01:27:49   \n",
       "\n",
       "                     time_since_last_2_msgs time_since_last_msg  \\\n",
       "match_id  msg_number                                              \n",
       "Match 169 0                             NaT                 NaT   \n",
       "Match 168 0                             NaT                 NaT   \n",
       "          1                             NaT            00:00:18   \n",
       "          2                        00:00:53            00:00:35   \n",
       "          3                        00:08:54            00:08:19   \n",
       "\n",
       "                                            to type  \n",
       "match_id  msg_number                                 \n",
       "Match 169 0           5bda0f045c67bcb02727e8c3  NaN  \n",
       "Match 168 0           5bdc7209e53ebed626ea4a03  gif  \n",
       "          1           5bdc7209e53ebed626ea4a03  NaN  \n",
       "          2           5bdc7209e53ebed626ea4a03  NaN  \n",
       "          3           5bdc7209e53ebed626ea4a03  NaN  "
      ]
     },
     "execution_count": 38,
     "metadata": {},
     "output_type": "execute_result"
    }
   ],
   "source": [
    "all_msg_df.head()"
   ]
  },
  {
   "cell_type": "code",
   "execution_count": null,
   "metadata": {},
   "outputs": [],
   "source": []
  },
  {
   "cell_type": "code",
   "execution_count": 39,
   "metadata": {},
   "outputs": [
    {
     "data": {
      "text/plain": [
       "Index(['explicit_word_in_msg', 'fixed_height', 'from', 'funny_word_in_msg',\n",
       "       'message', 'n_words_in_msg', 'question_mark_in_msg',\n",
       "       'question_word_in_msg', 'sent_date', 'time_since_last_2_msgs',\n",
       "       'time_since_last_msg', 'to', 'type'],\n",
       "      dtype='object')"
      ]
     },
     "execution_count": 39,
     "metadata": {},
     "output_type": "execute_result"
    }
   ],
   "source": [
    "all_msg_df.columns"
   ]
  },
  {
   "cell_type": "code",
   "execution_count": 40,
   "metadata": {},
   "outputs": [],
   "source": [
    "msgs = all_msg_df['message']"
   ]
  },
  {
   "cell_type": "code",
   "execution_count": null,
   "metadata": {},
   "outputs": [],
   "source": []
  },
  {
   "cell_type": "code",
   "execution_count": 41,
   "metadata": {},
   "outputs": [],
   "source": [
    "number = \"7185943385\"\n",
    "# find 10 digit number -- \"^\\d{10}$\"\n",
    "# re.sub('[^A-Za-z0-9]+', '', msg)"
   ]
  },
  {
   "cell_type": "code",
   "execution_count": 42,
   "metadata": {},
   "outputs": [],
   "source": [
    "i = 0\n",
    "numbers = []\n",
    "for msg in msgs.values:\n",
    "    if type(msg) == str:\n",
    "        temp_numb = re.findall(\"\\d{10}$\", msg)\n",
    "        if temp_numb !=[]:\n",
    "            i =+ 1\n",
    "            numbers.append(msg)"
   ]
  },
  {
   "cell_type": "code",
   "execution_count": 43,
   "metadata": {},
   "outputs": [
    {
     "data": {
      "text/plain": [
       "['My number is 7185943385',\n",
       " \"Also do you wanna switch to texting. Tinder doesn't always notify me. My number is 7185943385\",\n",
       " 'My number is 7185943385']"
      ]
     },
     "execution_count": 43,
     "metadata": {},
     "output_type": "execute_result"
    }
   ],
   "source": [
    "numbers"
   ]
  },
  {
   "cell_type": "code",
   "execution_count": null,
   "metadata": {},
   "outputs": [],
   "source": []
  },
  {
   "cell_type": "code",
   "execution_count": 44,
   "metadata": {},
   "outputs": [
    {
     "data": {
      "text/html": [
       "<div>\n",
       "<style scoped>\n",
       "    .dataframe tbody tr th:only-of-type {\n",
       "        vertical-align: middle;\n",
       "    }\n",
       "\n",
       "    .dataframe tbody tr th {\n",
       "        vertical-align: top;\n",
       "    }\n",
       "\n",
       "    .dataframe thead th {\n",
       "        text-align: right;\n",
       "    }\n",
       "</style>\n",
       "<table border=\"1\" class=\"dataframe\">\n",
       "  <thead>\n",
       "    <tr style=\"text-align: right;\">\n",
       "      <th></th>\n",
       "      <th>explicit_word_in_msg</th>\n",
       "      <th>funny_word_in_msg</th>\n",
       "      <th>n_words_in_msg</th>\n",
       "      <th>question_mark_in_msg</th>\n",
       "      <th>question_word_in_msg</th>\n",
       "      <th>time_since_last_2_msgs</th>\n",
       "      <th>time_since_last_msg</th>\n",
       "    </tr>\n",
       "  </thead>\n",
       "  <tbody>\n",
       "    <tr>\n",
       "      <th>count</th>\n",
       "      <td>961.000000</td>\n",
       "      <td>961.000000</td>\n",
       "      <td>961.000000</td>\n",
       "      <td>961.000000</td>\n",
       "      <td>961.000000</td>\n",
       "      <td>699</td>\n",
       "      <td>796</td>\n",
       "    </tr>\n",
       "    <tr>\n",
       "      <th>mean</th>\n",
       "      <td>0.001041</td>\n",
       "      <td>0.068678</td>\n",
       "      <td>11.085328</td>\n",
       "      <td>0.521332</td>\n",
       "      <td>0.309053</td>\n",
       "      <td>4 days 08:23:36.640915</td>\n",
       "      <td>3 days 03:17:56.028894</td>\n",
       "    </tr>\n",
       "    <tr>\n",
       "      <th>std</th>\n",
       "      <td>0.032258</td>\n",
       "      <td>0.253038</td>\n",
       "      <td>7.042949</td>\n",
       "      <td>0.499805</td>\n",
       "      <td>0.462344</td>\n",
       "      <td>19 days 18:18:55.536538</td>\n",
       "      <td>16 days 07:30:45.889065</td>\n",
       "    </tr>\n",
       "    <tr>\n",
       "      <th>min</th>\n",
       "      <td>0.000000</td>\n",
       "      <td>0.000000</td>\n",
       "      <td>1.000000</td>\n",
       "      <td>0.000000</td>\n",
       "      <td>0.000000</td>\n",
       "      <td>0 days 00:00:03</td>\n",
       "      <td>0 days 00:00:01</td>\n",
       "    </tr>\n",
       "    <tr>\n",
       "      <th>25%</th>\n",
       "      <td>0.000000</td>\n",
       "      <td>0.000000</td>\n",
       "      <td>6.000000</td>\n",
       "      <td>0.000000</td>\n",
       "      <td>0.000000</td>\n",
       "      <td>0 days 00:12:11.500000</td>\n",
       "      <td>0 days 00:01:37</td>\n",
       "    </tr>\n",
       "    <tr>\n",
       "      <th>50%</th>\n",
       "      <td>0.000000</td>\n",
       "      <td>0.000000</td>\n",
       "      <td>10.000000</td>\n",
       "      <td>1.000000</td>\n",
       "      <td>0.000000</td>\n",
       "      <td>0 days 02:05:47</td>\n",
       "      <td>0 days 00:17:23</td>\n",
       "    </tr>\n",
       "    <tr>\n",
       "      <th>75%</th>\n",
       "      <td>0.000000</td>\n",
       "      <td>0.000000</td>\n",
       "      <td>14.000000</td>\n",
       "      <td>1.000000</td>\n",
       "      <td>1.000000</td>\n",
       "      <td>1 days 02:08:38</td>\n",
       "      <td>0 days 11:26:52.750000</td>\n",
       "    </tr>\n",
       "    <tr>\n",
       "      <th>max</th>\n",
       "      <td>1.000000</td>\n",
       "      <td>1.000000</td>\n",
       "      <td>47.000000</td>\n",
       "      <td>1.000000</td>\n",
       "      <td>1.000000</td>\n",
       "      <td>230 days 11:35:40</td>\n",
       "      <td>228 days 13:06:03</td>\n",
       "    </tr>\n",
       "  </tbody>\n",
       "</table>\n",
       "</div>"
      ],
      "text/plain": [
       "       explicit_word_in_msg  funny_word_in_msg  n_words_in_msg  \\\n",
       "count            961.000000         961.000000      961.000000   \n",
       "mean               0.001041           0.068678       11.085328   \n",
       "std                0.032258           0.253038        7.042949   \n",
       "min                0.000000           0.000000        1.000000   \n",
       "25%                0.000000           0.000000        6.000000   \n",
       "50%                0.000000           0.000000       10.000000   \n",
       "75%                0.000000           0.000000       14.000000   \n",
       "max                1.000000           1.000000       47.000000   \n",
       "\n",
       "       question_mark_in_msg  question_word_in_msg   time_since_last_2_msgs  \\\n",
       "count            961.000000            961.000000                      699   \n",
       "mean               0.521332              0.309053   4 days 08:23:36.640915   \n",
       "std                0.499805              0.462344  19 days 18:18:55.536538   \n",
       "min                0.000000              0.000000          0 days 00:00:03   \n",
       "25%                0.000000              0.000000   0 days 00:12:11.500000   \n",
       "50%                1.000000              0.000000          0 days 02:05:47   \n",
       "75%                1.000000              1.000000          1 days 02:08:38   \n",
       "max                1.000000              1.000000        230 days 11:35:40   \n",
       "\n",
       "           time_since_last_msg  \n",
       "count                      796  \n",
       "mean    3 days 03:17:56.028894  \n",
       "std    16 days 07:30:45.889065  \n",
       "min            0 days 00:00:01  \n",
       "25%            0 days 00:01:37  \n",
       "50%            0 days 00:17:23  \n",
       "75%     0 days 11:26:52.750000  \n",
       "max          228 days 13:06:03  "
      ]
     },
     "execution_count": 44,
     "metadata": {},
     "output_type": "execute_result"
    }
   ],
   "source": [
    "all_msg_df.describe()"
   ]
  },
  {
   "cell_type": "code",
   "execution_count": null,
   "metadata": {},
   "outputs": [],
   "source": []
  },
  {
   "cell_type": "markdown",
   "metadata": {},
   "source": [
    "## String Work"
   ]
  },
  {
   "cell_type": "code",
   "execution_count": 45,
   "metadata": {},
   "outputs": [],
   "source": [
    "all_texts = all_msg_df['message'].str.cat(sep=' ')"
   ]
  },
  {
   "cell_type": "code",
   "execution_count": 46,
   "metadata": {},
   "outputs": [],
   "source": [
    "all_texts_list = all_texts.split(\" \")"
   ]
  },
  {
   "cell_type": "code",
   "execution_count": 47,
   "metadata": {},
   "outputs": [
    {
     "data": {
      "text/plain": [
       "10653"
      ]
     },
     "execution_count": 47,
     "metadata": {},
     "output_type": "execute_result"
    }
   ],
   "source": [
    "len(all_texts_list)"
   ]
  },
  {
   "cell_type": "code",
   "execution_count": 48,
   "metadata": {},
   "outputs": [
    {
     "data": {
      "text/plain": [
       "2507"
      ]
     },
     "execution_count": 48,
     "metadata": {},
     "output_type": "execute_result"
    }
   ],
   "source": [
    "len(set(all_texts_list))"
   ]
  },
  {
   "cell_type": "code",
   "execution_count": 49,
   "metadata": {},
   "outputs": [],
   "source": [
    "from collections import Counter"
   ]
  },
  {
   "cell_type": "code",
   "execution_count": 55,
   "metadata": {},
   "outputs": [],
   "source": [
    "most_common_words = Counter(all_texts_list).most_common(30)"
   ]
  },
  {
   "cell_type": "code",
   "execution_count": 56,
   "metadata": {},
   "outputs": [
    {
     "data": {
      "text/plain": [
       "2.9"
      ]
     },
     "execution_count": 56,
     "metadata": {},
     "output_type": "execute_result"
    }
   ],
   "source": [
    "np.mean([len(x[0]) for x in most_common_words])"
   ]
  },
  {
   "cell_type": "code",
   "execution_count": null,
   "metadata": {},
   "outputs": [],
   "source": []
  },
  {
   "cell_type": "code",
   "execution_count": null,
   "metadata": {},
   "outputs": [],
   "source": []
  },
  {
   "cell_type": "markdown",
   "metadata": {},
   "source": [
    "# Back to message df "
   ]
  },
  {
   "cell_type": "code",
   "execution_count": 57,
   "metadata": {},
   "outputs": [
    {
     "data": {
      "text/plain": [
       "(965, 13)"
      ]
     },
     "execution_count": 57,
     "metadata": {},
     "output_type": "execute_result"
    }
   ],
   "source": [
    "all_msg_df.shape"
   ]
  },
  {
   "cell_type": "code",
   "execution_count": 58,
   "metadata": {},
   "outputs": [
    {
     "data": {
      "text/plain": [
       "Index(['explicit_word_in_msg', 'fixed_height', 'from', 'funny_word_in_msg',\n",
       "       'message', 'n_words_in_msg', 'question_mark_in_msg',\n",
       "       'question_word_in_msg', 'sent_date', 'time_since_last_2_msgs',\n",
       "       'time_since_last_msg', 'to', 'type'],\n",
       "      dtype='object')"
      ]
     },
     "execution_count": 58,
     "metadata": {},
     "output_type": "execute_result"
    }
   ],
   "source": [
    "all_msg_df.columns"
   ]
  },
  {
   "cell_type": "code",
   "execution_count": 59,
   "metadata": {},
   "outputs": [
    {
     "data": {
      "text/html": [
       "<div>\n",
       "<style scoped>\n",
       "    .dataframe tbody tr th:only-of-type {\n",
       "        vertical-align: middle;\n",
       "    }\n",
       "\n",
       "    .dataframe tbody tr th {\n",
       "        vertical-align: top;\n",
       "    }\n",
       "\n",
       "    .dataframe thead th {\n",
       "        text-align: right;\n",
       "    }\n",
       "</style>\n",
       "<table border=\"1\" class=\"dataframe\">\n",
       "  <thead>\n",
       "    <tr style=\"text-align: right;\">\n",
       "      <th></th>\n",
       "      <th></th>\n",
       "      <th>explicit_word_in_msg</th>\n",
       "      <th>fixed_height</th>\n",
       "      <th>from</th>\n",
       "      <th>funny_word_in_msg</th>\n",
       "      <th>message</th>\n",
       "      <th>n_words_in_msg</th>\n",
       "      <th>question_mark_in_msg</th>\n",
       "      <th>question_word_in_msg</th>\n",
       "      <th>sent_date</th>\n",
       "      <th>time_since_last_2_msgs</th>\n",
       "      <th>time_since_last_msg</th>\n",
       "      <th>to</th>\n",
       "      <th>type</th>\n",
       "    </tr>\n",
       "    <tr>\n",
       "      <th>match_id</th>\n",
       "      <th>msg_number</th>\n",
       "      <th></th>\n",
       "      <th></th>\n",
       "      <th></th>\n",
       "      <th></th>\n",
       "      <th></th>\n",
       "      <th></th>\n",
       "      <th></th>\n",
       "      <th></th>\n",
       "      <th></th>\n",
       "      <th></th>\n",
       "      <th></th>\n",
       "      <th></th>\n",
       "      <th></th>\n",
       "    </tr>\n",
       "  </thead>\n",
       "  <tbody>\n",
       "    <tr>\n",
       "      <th>Match 169</th>\n",
       "      <th>0</th>\n",
       "      <td>0.0</td>\n",
       "      <td>NaN</td>\n",
       "      <td>You</td>\n",
       "      <td>0.0</td>\n",
       "      <td>Rose!! 🌹 I get it</td>\n",
       "      <td>5.0</td>\n",
       "      <td>0.0</td>\n",
       "      <td>0.0</td>\n",
       "      <td>2018-11-29 06:43:33</td>\n",
       "      <td>NaT</td>\n",
       "      <td>NaT</td>\n",
       "      <td>5bda0f045c67bcb02727e8c3</td>\n",
       "      <td>NaN</td>\n",
       "    </tr>\n",
       "    <tr>\n",
       "      <th rowspan=\"4\" valign=\"top\">Match 168</th>\n",
       "      <th>0</th>\n",
       "      <td>0.0</td>\n",
       "      <td>https://media0.giphy.com/media/6wpHEQNjkd74Q/2...</td>\n",
       "      <td>You</td>\n",
       "      <td>0.0</td>\n",
       "      <td>https://media0.giphy.com/media/6wpHEQNjkd74Q/g...</td>\n",
       "      <td>1.0</td>\n",
       "      <td>1.0</td>\n",
       "      <td>0.0</td>\n",
       "      <td>2018-11-21 01:18:37</td>\n",
       "      <td>NaT</td>\n",
       "      <td>NaT</td>\n",
       "      <td>5bdc7209e53ebed626ea4a03</td>\n",
       "      <td>gif</td>\n",
       "    </tr>\n",
       "    <tr>\n",
       "      <th>1</th>\n",
       "      <td>0.0</td>\n",
       "      <td>NaN</td>\n",
       "      <td>You</td>\n",
       "      <td>1.0</td>\n",
       "      <td>Hahaha that was fantastic!</td>\n",
       "      <td>4.0</td>\n",
       "      <td>0.0</td>\n",
       "      <td>0.0</td>\n",
       "      <td>2018-11-21 01:18:55</td>\n",
       "      <td>NaT</td>\n",
       "      <td>00:00:18</td>\n",
       "      <td>5bdc7209e53ebed626ea4a03</td>\n",
       "      <td>NaN</td>\n",
       "    </tr>\n",
       "    <tr>\n",
       "      <th>2</th>\n",
       "      <td>0.0</td>\n",
       "      <td>NaN</td>\n",
       "      <td>You</td>\n",
       "      <td>0.0</td>\n",
       "      <td>Also can you be the phosphorus and i have the ...</td>\n",
       "      <td>14.0</td>\n",
       "      <td>0.0</td>\n",
       "      <td>0.0</td>\n",
       "      <td>2018-11-21 01:19:30</td>\n",
       "      <td>00:00:53</td>\n",
       "      <td>00:00:35</td>\n",
       "      <td>5bdc7209e53ebed626ea4a03</td>\n",
       "      <td>NaN</td>\n",
       "    </tr>\n",
       "    <tr>\n",
       "      <th>3</th>\n",
       "      <td>0.0</td>\n",
       "      <td>NaN</td>\n",
       "      <td>You</td>\n",
       "      <td>0.0</td>\n",
       "      <td>Big sticks don’t impress you?</td>\n",
       "      <td>5.0</td>\n",
       "      <td>1.0</td>\n",
       "      <td>0.0</td>\n",
       "      <td>2018-11-21 01:27:49</td>\n",
       "      <td>00:08:54</td>\n",
       "      <td>00:08:19</td>\n",
       "      <td>5bdc7209e53ebed626ea4a03</td>\n",
       "      <td>NaN</td>\n",
       "    </tr>\n",
       "  </tbody>\n",
       "</table>\n",
       "</div>"
      ],
      "text/plain": [
       "                      explicit_word_in_msg  \\\n",
       "match_id  msg_number                         \n",
       "Match 169 0                            0.0   \n",
       "Match 168 0                            0.0   \n",
       "          1                            0.0   \n",
       "          2                            0.0   \n",
       "          3                            0.0   \n",
       "\n",
       "                                                           fixed_height from  \\\n",
       "match_id  msg_number                                                           \n",
       "Match 169 0                                                         NaN  You   \n",
       "Match 168 0           https://media0.giphy.com/media/6wpHEQNjkd74Q/2...  You   \n",
       "          1                                                         NaN  You   \n",
       "          2                                                         NaN  You   \n",
       "          3                                                         NaN  You   \n",
       "\n",
       "                      funny_word_in_msg  \\\n",
       "match_id  msg_number                      \n",
       "Match 169 0                         0.0   \n",
       "Match 168 0                         0.0   \n",
       "          1                         1.0   \n",
       "          2                         0.0   \n",
       "          3                         0.0   \n",
       "\n",
       "                                                                message  \\\n",
       "match_id  msg_number                                                      \n",
       "Match 169 0                                           Rose!! 🌹 I get it   \n",
       "Match 168 0           https://media0.giphy.com/media/6wpHEQNjkd74Q/g...   \n",
       "          1                                  Hahaha that was fantastic!   \n",
       "          2           Also can you be the phosphorus and i have the ...   \n",
       "          3                               Big sticks don’t impress you?   \n",
       "\n",
       "                      n_words_in_msg  question_mark_in_msg  \\\n",
       "match_id  msg_number                                         \n",
       "Match 169 0                      5.0                   0.0   \n",
       "Match 168 0                      1.0                   1.0   \n",
       "          1                      4.0                   0.0   \n",
       "          2                     14.0                   0.0   \n",
       "          3                      5.0                   1.0   \n",
       "\n",
       "                      question_word_in_msg           sent_date  \\\n",
       "match_id  msg_number                                             \n",
       "Match 169 0                            0.0 2018-11-29 06:43:33   \n",
       "Match 168 0                            0.0 2018-11-21 01:18:37   \n",
       "          1                            0.0 2018-11-21 01:18:55   \n",
       "          2                            0.0 2018-11-21 01:19:30   \n",
       "          3                            0.0 2018-11-21 01:27:49   \n",
       "\n",
       "                     time_since_last_2_msgs time_since_last_msg  \\\n",
       "match_id  msg_number                                              \n",
       "Match 169 0                             NaT                 NaT   \n",
       "Match 168 0                             NaT                 NaT   \n",
       "          1                             NaT            00:00:18   \n",
       "          2                        00:00:53            00:00:35   \n",
       "          3                        00:08:54            00:08:19   \n",
       "\n",
       "                                            to type  \n",
       "match_id  msg_number                                 \n",
       "Match 169 0           5bda0f045c67bcb02727e8c3  NaN  \n",
       "Match 168 0           5bdc7209e53ebed626ea4a03  gif  \n",
       "          1           5bdc7209e53ebed626ea4a03  NaN  \n",
       "          2           5bdc7209e53ebed626ea4a03  NaN  \n",
       "          3           5bdc7209e53ebed626ea4a03  NaN  "
      ]
     },
     "execution_count": 59,
     "metadata": {},
     "output_type": "execute_result"
    }
   ],
   "source": [
    "all_msg_df.head()"
   ]
  },
  {
   "cell_type": "code",
   "execution_count": 60,
   "metadata": {},
   "outputs": [
    {
     "data": {
      "text/plain": [
       "explicit_word_in_msg        2\n",
       "fixed_height                5\n",
       "from                        1\n",
       "funny_word_in_msg           2\n",
       "message                   884\n",
       "n_words_in_msg             38\n",
       "question_mark_in_msg        2\n",
       "question_word_in_msg        2\n",
       "sent_date                 961\n",
       "time_since_last_2_msgs    667\n",
       "time_since_last_msg       629\n",
       "to                        165\n",
       "type                        2\n",
       "dtype: int64"
      ]
     },
     "execution_count": 60,
     "metadata": {},
     "output_type": "execute_result"
    }
   ],
   "source": [
    "all_msg_df.nunique()"
   ]
  },
  {
   "cell_type": "code",
   "execution_count": 61,
   "metadata": {},
   "outputs": [],
   "source": [
    "flag_col = ['explicit_word_in_msg', 'funny_word_in_msg', 'question_mark_in_msg', 'question_word_in_msg']"
   ]
  },
  {
   "cell_type": "code",
   "execution_count": 97,
   "metadata": {},
   "outputs": [
    {
     "data": {
      "text/plain": [
       "'funny_word_in_msg'"
      ]
     },
     "execution_count": 97,
     "metadata": {},
     "output_type": "execute_result"
    }
   ],
   "source": [
    "demo_flg = flag_col[1]\n",
    "demo_flg"
   ]
  },
  {
   "cell_type": "code",
   "execution_count": 111,
   "metadata": {},
   "outputs": [
    {
     "data": {
      "text/plain": [
       "'sg'"
      ]
     },
     "execution_count": 111,
     "metadata": {},
     "output_type": "execute_result"
    }
   ],
   "source": [
    "demo_flg[-2:]"
   ]
  },
  {
   "cell_type": "code",
   "execution_count": 98,
   "metadata": {},
   "outputs": [],
   "source": [
    "def flatten_date(timestamp):\n",
    "    yr_raw = timestamp.year\n",
    "    yr = str(yr_raw)\n",
    "    mon_raw = timestamp.month\n",
    "    if mon_raw < 10:\n",
    "        mon = \"0\"+str(mon_raw)\n",
    "    else:\n",
    "        mon = str(mon_raw)\n",
    "        \n",
    "    flatten_date = yr+mon\n",
    "    return(flatten_date)\n",
    "    \n",
    "    "
   ]
  },
  {
   "cell_type": "code",
   "execution_count": 99,
   "metadata": {},
   "outputs": [
    {
     "data": {
      "text/plain": [
       "11"
      ]
     },
     "execution_count": 99,
     "metadata": {},
     "output_type": "execute_result"
    }
   ],
   "source": [
    "all_msg_df['sent_date'][0].month"
   ]
  },
  {
   "cell_type": "code",
   "execution_count": 100,
   "metadata": {},
   "outputs": [],
   "source": [
    "all_msg_df['flatten_date'] = all_msg_df['sent_date'].apply(flatten_date)"
   ]
  },
  {
   "cell_type": "code",
   "execution_count": 101,
   "metadata": {},
   "outputs": [
    {
     "data": {
      "text/plain": [
       "match_id   msg_number\n",
       "Match 169  0             201811\n",
       "Match 168  0             201811\n",
       "           1             201811\n",
       "           2             201811\n",
       "           3             201811\n",
       "Name: flatten_date, dtype: object"
      ]
     },
     "execution_count": 101,
     "metadata": {},
     "output_type": "execute_result"
    }
   ],
   "source": [
    "all_msg_df['flatten_date'].head()"
   ]
  },
  {
   "cell_type": "code",
   "execution_count": 102,
   "metadata": {},
   "outputs": [],
   "source": [
    "all_msg_df_temp = all_msg_df.reset_index(level=['match_id', 'msg_number'])"
   ]
  },
  {
   "cell_type": "code",
   "execution_count": 103,
   "metadata": {},
   "outputs": [],
   "source": [
    "dt_gb = all_msg_df_temp.groupby('flatten_date')"
   ]
  },
  {
   "cell_type": "code",
   "execution_count": 129,
   "metadata": {},
   "outputs": [],
   "source": [
    "n_msg_over_time = dt_gb[demo_flg].apply(len)"
   ]
  },
  {
   "cell_type": "code",
   "execution_count": 127,
   "metadata": {},
   "outputs": [
    {
     "data": {
      "image/png": "[encoded data removed]",
      "text/plain": [
       "<Figure size 432x288 with 1 Axes>"
      ]
     },
     "metadata": {},
     "output_type": "display_data"
    }
   ],
   "source": [
    "fig, ax = plt.subplots(1)\n",
    "ax.plot(flg_ovr_time)\n",
    "fig.suptitle(\"Number of messages over time\")\n",
    "ax.set_xlabel(\"Year + Month\")\n",
    "ax.set_ylabel(\"Number of Occurances\")\n",
    "ax.grid(True)\n",
    "fig.autofmt_xdate()"
   ]
  },
  {
   "cell_type": "code",
   "execution_count": 132,
   "metadata": {},
   "outputs": [],
   "source": [
    "demo_flg = flag_col[2]"
   ]
  },
  {
   "cell_type": "code",
   "execution_count": 133,
   "metadata": {},
   "outputs": [],
   "source": [
    "flg_ovr_time = dt_gb[demo_flg].sum()"
   ]
  },
  {
   "cell_type": "code",
   "execution_count": 134,
   "metadata": {},
   "outputs": [
    {
     "data": {
      "image/png": "[encoded data removed]",
      "text/plain": [
       "<Figure size 432x288 with 1 Axes>"
      ]
     },
     "metadata": {},
     "output_type": "display_data"
    }
   ],
   "source": [
    "fig, ax = plt.subplots(1)\n",
    "ax.plot(n_msg_over_time, label = \"Number of messages\")\n",
    "ax.plot(flg_ovr_time, label = demo_flg)\n",
    "fig.suptitle(\"Number of messages over time\")\n",
    "ax.set_xlabel(\"Year + Month\")\n",
    "ax.set_ylabel(\"Number of Occurances\")\n",
    "ax.grid(True)\n",
    "fig.autofmt_xdate()\n",
    "\n",
    "leg = ax.legend(loc='best', fancybox=True)\n"
   ]
  },
  {
   "cell_type": "code",
   "execution_count": null,
   "metadata": {},
   "outputs": [],
   "source": []
  },
  {
   "cell_type": "code",
   "execution_count": null,
   "metadata": {},
   "outputs": [],
   "source": []
  }
 ],
 "metadata": {
  "kernelspec": {
   "display_name": "Python 3",
   "language": "python",
   "name": "python3"
  },
  "language_info": {
   "codemirror_mode": {
    "name": "ipython",
    "version": 3
   },
   "file_extension": ".py",
   "mimetype": "text/x-python",
   "name": "python",
   "nbconvert_exporter": "python",
   "pygments_lexer": "ipython3",
   "version": "3.6.4"
  }
 },
 "nbformat": 4,
 "nbformat_minor": 2
}
