{
 "cells": [
  {
   "cell_type": "code",
   "execution_count": 2,
   "metadata": {},
   "outputs": [],
   "source": [
    "import pandas as pd \n",
    "import numpy as np \n",
    "import matplotlib.pyplot as plt\n",
    "import json \n",
    "import os "
   ]
  },
  {
   "cell_type": "code",
   "execution_count": 3,
   "metadata": {},
   "outputs": [],
   "source": [
    "from Scripts import EDA_functions as mt_eda"
   ]
  },
  {
   "cell_type": "code",
   "execution_count": null,
   "metadata": {},
   "outputs": [],
   "source": []
  },
  {
   "cell_type": "markdown",
   "metadata": {},
   "source": [
    "## Quick import of message df  \n",
    "\n",
    "parsing with mt_eda, just use csv and reformat to the point in the df"
   ]
  },
  {
   "cell_type": "code",
   "execution_count": 4,
   "metadata": {},
   "outputs": [
    {
     "data": {
      "text/plain": [
       "dict_keys(['Messages', 'Photos', 'Places', 'Purchases', 'Spotify', 'Usage', 'User'])"
      ]
     },
     "execution_count": 4,
     "metadata": {},
     "output_type": "execute_result"
    }
   ],
   "source": [
    "data_path = \"Data/data.json\"\n",
    "with open(data_path, \"rb\") as inp: \n",
    "    data = json.load(inp)\n",
    "data.keys()"
   ]
  },
  {
   "cell_type": "code",
   "execution_count": 6,
   "metadata": {},
   "outputs": [],
   "source": [
    "list_of_dfs = [mt_eda.get_msg_df(msg_dict) for msg_dict in data[\"Messages\"]]\n",
    "all_msg_df = pd.concat(list_of_dfs, axis=0)"
   ]
  },
  {
   "cell_type": "code",
   "execution_count": 8,
   "metadata": {},
   "outputs": [
    {
     "data": {
      "text/plain": [
       "match_id   msg_number\n",
       "Match 169  0                 NaT\n",
       "Match 168  0                 NaT\n",
       "           1            00:00:18\n",
       "           2            00:00:35\n",
       "           3            00:08:19\n",
       "Name: time_since_last_msg, dtype: timedelta64[ns]"
      ]
     },
     "execution_count": 8,
     "metadata": {},
     "output_type": "execute_result"
    }
   ],
   "source": [
    "all_msg_df['time_since_last_msg'].head()"
   ]
  },
  {
   "cell_type": "code",
   "execution_count": 17,
   "metadata": {},
   "outputs": [],
   "source": [
    "time_since_lst_msg = all_msg_df['time_since_last_msg'][~all_msg_df['time_since_last_msg'].isin([pd.NaT])]"
   ]
  },
  {
   "cell_type": "code",
   "execution_count": 18,
   "metadata": {},
   "outputs": [
    {
     "data": {
      "text/plain": [
       "count                        796\n",
       "mean      3 days 03:17:56.028894\n",
       "std      16 days 07:30:45.889065\n",
       "min              0 days 00:00:01\n",
       "25%              0 days 00:01:37\n",
       "50%              0 days 00:17:23\n",
       "75%       0 days 11:26:52.750000\n",
       "max            228 days 13:06:03\n",
       "Name: time_since_last_msg, dtype: object"
      ]
     },
     "execution_count": 18,
     "metadata": {},
     "output_type": "execute_result"
    }
   ],
   "source": [
    "time_since_lst_msg.describe()"
   ]
  },
  {
   "cell_type": "code",
   "execution_count": 30,
   "metadata": {},
   "outputs": [
    {
     "data": {
      "text/plain": [
       "0.1          0 days 00:00:18\n",
       "0.2          0 days 00:00:53\n",
       "0.3          0 days 00:02:57\n",
       "0.4          0 days 00:07:11\n",
       "0.5          0 days 00:17:23\n",
       "0.6          0 days 01:11:52\n",
       "0.7          0 days 05:56:04\n",
       "0.8          0 days 21:18:45\n",
       "0.9   3 days 00:15:36.500000\n",
       "1.0        228 days 13:06:03\n",
       "Name: time_since_last_msg, dtype: timedelta64[ns]"
      ]
     },
     "execution_count": 30,
     "metadata": {},
     "output_type": "execute_result"
    }
   ],
   "source": [
    "time_since_lst_msg.quantile(np.linspace(0.1,1,10))"
   ]
  },
  {
   "cell_type": "code",
   "execution_count": null,
   "metadata": {},
   "outputs": [],
   "source": []
  },
  {
   "cell_type": "code",
   "execution_count": 43,
   "metadata": {},
   "outputs": [
    {
     "data": {
      "image/png": "[encoded data removed]",
      "text/plain": [
       "<Figure size 432x288 with 2 Axes>"
      ]
     },
     "metadata": {},
     "output_type": "display_data"
    }
   ],
   "source": [
    "fig = plt.figure()\n",
    "ax1 = fig.add_subplot(2,1,1)\n",
    "ax1.hist(time_since_lst_msg.dt.total_seconds())\n",
    "ax1.set_title(\"Hist of total Seconds between message\")\n",
    "ax1.set_xlabel(\"Seconds\")\n",
    "ax1.set_ylabel(\"Number of Occurances\")\n",
    "\n",
    "ax2 =fig.add_subplot(2,1,2)\n",
    "ax2.hist(np.log(time_since_lst_msg.dt.total_seconds()))\n",
    "ax2.set_title(\"Hist of total Seconds between message\")\n",
    "ax2.set_xlabel(\"Seconds\")\n",
    "ax2.set_ylabel(\"Number of Occurances\")\n",
    "\n",
    "fig.tight_layout()"
   ]
  },
  {
   "cell_type": "code",
   "execution_count": 52,
   "metadata": {},
   "outputs": [
    {
     "data": {
      "text/plain": [
       "<matplotlib.axes._subplots.AxesSubplot at 0x7f14ac4bb9e8>"
      ]
     },
     "execution_count": 52,
     "metadata": {},
     "output_type": "execute_result"
    },
    {
     "data": {
      "image/png": "[encoded data removed]",
      "text/plain": [
       "<Figure size 432x288 with 1 Axes>"
      ]
     },
     "metadata": {},
     "output_type": "display_data"
    }
   ],
   "source": [
    "sent_quickly = time_since_lst_msg[time_since_lst_msg.dt.total_seconds() < 1800] # keep message sent with two hours of each other \n",
    "sent_quickly.dt.total_seconds().hist()"
   ]
  },
  {
   "cell_type": "code",
   "execution_count": 50,
   "metadata": {},
   "outputs": [
    {
     "data": {
      "text/plain": [
       "(410,)"
      ]
     },
     "execution_count": 50,
     "metadata": {},
     "output_type": "execute_result"
    }
   ],
   "source": [
    "sent_quickly.shape"
   ]
  },
  {
   "cell_type": "code",
   "execution_count": null,
   "metadata": {},
   "outputs": [],
   "source": []
  }
 ],
 "metadata": {
  "kernelspec": {
   "display_name": "Python 3",
   "language": "python",
   "name": "python3"
  },
  "language_info": {
   "codemirror_mode": {
    "name": "ipython",
    "version": 3
   },
   "file_extension": ".py",
   "mimetype": "text/x-python",
   "name": "python",
   "nbconvert_exporter": "python",
   "pygments_lexer": "ipython3",
   "version": "3.6.4"
  }
 },
 "nbformat": 4,
 "nbformat_minor": 2
}
