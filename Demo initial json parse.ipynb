{
 "cells": [
  {
   "cell_type": "markdown",
   "metadata": {},
   "source": [
    "The goal of this notebook is to explore some of the functionality needed for a first layer lambda function.  \n",
    "This lambda function is mainly for security purposes and scrubbing PII from the data before doing analysis on the main version.  \n",
    "\n",
    "This notebook begins to ...\n",
    "* check for zipped file and extracts \n",
    "* open JSON and checks schema of several of the inner dictionaries \n",
    "* delete PII fields in User dictioanry\n",
    "\n",
    "\n",
    "Remember to add security and environment controls to next part (for downloading and uploading to s3/ other parts of the drive for the save)  \n",
    "\n",
    "Also add the security to the runtime  \n",
    "\n",
    "DO some file play work as well"
   ]
  },
  {
   "cell_type": "code",
   "execution_count": null,
   "metadata": {},
   "outputs": [],
   "source": []
  },
  {
   "cell_type": "code",
   "execution_count": 55,
   "metadata": {},
   "outputs": [],
   "source": [
    "import json \n",
    "import os \n",
    "import pprint as pp\n",
    "import uuid"
   ]
  },
  {
   "cell_type": "code",
   "execution_count": 59,
   "metadata": {},
   "outputs": [
    {
     "data": {
      "text/plain": [
       "UUID('f71e8829-4c10-4956-b386-ca14d7b11909')"
      ]
     },
     "execution_count": 59,
     "metadata": {},
     "output_type": "execute_result"
    }
   ],
   "source": [
    "uuid.uuid4()"
   ]
  },
  {
   "cell_type": "code",
   "execution_count": 2,
   "metadata": {},
   "outputs": [
    {
     "data": {
      "text/plain": [
       "'/home/owner/Documents/Github_projects/Tinder_analysis'"
      ]
     },
     "execution_count": 2,
     "metadata": {},
     "output_type": "execute_result"
    }
   ],
   "source": [
    "os.getcwd()"
   ]
  },
  {
   "cell_type": "code",
   "execution_count": 3,
   "metadata": {},
   "outputs": [],
   "source": [
    "zip_path = '/home/owner/Documents/Github_projects/Tinder_analysis/Data/myData.zip'"
   ]
  },
  {
   "cell_type": "code",
   "execution_count": 51,
   "metadata": {},
   "outputs": [
    {
     "name": "stdout",
     "output_type": "stream",
     "text": [
      "data.json  index.html  your_photos\r\n"
     ]
    }
   ],
   "source": [
    "!ls $new_temp_path"
   ]
  },
  {
   "cell_type": "code",
   "execution_count": 4,
   "metadata": {},
   "outputs": [
    {
     "data": {
      "text/plain": [
       "True"
      ]
     },
     "execution_count": 4,
     "metadata": {},
     "output_type": "execute_result"
    }
   ],
   "source": [
    "zip_path[-4:] == '.zip'"
   ]
  },
  {
   "cell_type": "code",
   "execution_count": 5,
   "metadata": {},
   "outputs": [],
   "source": [
    "from zipfile import ZipFile"
   ]
  },
  {
   "cell_type": "code",
   "execution_count": 6,
   "metadata": {},
   "outputs": [],
   "source": [
    "assert(os.path.isfile(zip_path))"
   ]
  },
  {
   "cell_type": "code",
   "execution_count": 68,
   "metadata": {},
   "outputs": [
    {
     "data": {
      "text/plain": [
       "'1b593f38-358f-11e9-bde6-6c2995106085'"
      ]
     },
     "execution_count": 68,
     "metadata": {},
     "output_type": "execute_result"
    }
   ],
   "source": [
    "str(uuid.uuid1())"
   ]
  },
  {
   "cell_type": "code",
   "execution_count": 61,
   "metadata": {},
   "outputs": [],
   "source": [
    "new_temp_path = \"/tmp/zip_extracts\"+str(uuid.uuid1())\n",
    "if not os.path.isdir(new_temp_path):\n",
    "    os.mkdir(new_temp_path)"
   ]
  },
  {
   "cell_type": "code",
   "execution_count": 62,
   "metadata": {},
   "outputs": [
    {
     "data": {
      "text/plain": [
       "'/tmp/zip_extracts4797344e-d3b9-460b-ac40-54971c219e11'"
      ]
     },
     "execution_count": 62,
     "metadata": {},
     "output_type": "execute_result"
    }
   ],
   "source": [
    "new_temp_path"
   ]
  },
  {
   "cell_type": "code",
   "execution_count": 33,
   "metadata": {},
   "outputs": [
    {
     "name": "stdout",
     "output_type": "stream",
     "text": [
      "File Name                                             Modified             Size\n",
      "your_photos/photo_0.jpg                        2018-12-05 04:00:00        85073\n",
      "your_photos/photo_1.jpg                        2018-12-05 04:00:00       123535\n",
      "your_photos/photo_2.jpg                        2018-12-05 04:00:00        71596\n",
      "your_photos/photo_3.jpg                        2018-12-05 04:00:00        74983\n",
      "your_photos/photo_4.jpg                        2018-12-05 04:00:00        32387\n",
      "index.html                                     2018-12-05 04:00:00       293763\n",
      "data.json                                      2018-12-05 04:00:00       233030\n",
      "Extracting all the files now...\n",
      "Done!\n"
     ]
    }
   ],
   "source": [
    "# opening the zip file in READ mode \n",
    "with ZipFile(zip_path, 'r') as zip: \n",
    "    # printing all the contents of the zip file \n",
    "    zip.printdir() \n",
    "  \n",
    "    # extracting all the files \n",
    "    print('Extracting all the files now...') \n",
    "    zip.extractall(new_temp_path) \n",
    "    print('Done!')"
   ]
  },
  {
   "cell_type": "code",
   "execution_count": null,
   "metadata": {},
   "outputs": [],
   "source": []
  },
  {
   "cell_type": "code",
   "execution_count": null,
   "metadata": {},
   "outputs": [],
   "source": []
  },
  {
   "cell_type": "code",
   "execution_count": 34,
   "metadata": {},
   "outputs": [],
   "source": [
    "path = new_temp_path+'/data.json'"
   ]
  },
  {
   "cell_type": "code",
   "execution_count": 35,
   "metadata": {},
   "outputs": [],
   "source": [
    "assert(os.path.isfile(path))"
   ]
  },
  {
   "cell_type": "code",
   "execution_count": 36,
   "metadata": {},
   "outputs": [],
   "source": [
    "with open(path, 'rb') as hnd:\n",
    "    data = json.load(hnd)"
   ]
  },
  {
   "cell_type": "code",
   "execution_count": 37,
   "metadata": {},
   "outputs": [],
   "source": [
    "top_level_keys = {'Messages', 'Photos', 'Places', 'Purchases', 'Spotify', 'Usage', 'User'}\n",
    "data_keys = set(data.keys())"
   ]
  },
  {
   "cell_type": "code",
   "execution_count": 38,
   "metadata": {},
   "outputs": [
    {
     "data": {
      "text/plain": [
       "True"
      ]
     },
     "execution_count": 38,
     "metadata": {},
     "output_type": "execute_result"
    }
   ],
   "source": [
    "# Check schema \n",
    "top_level_keys.intersection(data_keys) == top_level_keys"
   ]
  },
  {
   "cell_type": "code",
   "execution_count": 39,
   "metadata": {},
   "outputs": [
    {
     "data": {
      "text/plain": [
       "True"
      ]
     },
     "execution_count": 39,
     "metadata": {},
     "output_type": "execute_result"
    }
   ],
   "source": [
    "# No dups\n",
    "len(data_keys) == len(data.keys())"
   ]
  },
  {
   "cell_type": "code",
   "execution_count": 40,
   "metadata": {},
   "outputs": [
    {
     "data": {
      "text/plain": [
       "True"
      ]
     },
     "execution_count": 40,
     "metadata": {},
     "output_type": "execute_result"
    }
   ],
   "source": [
    "# Nothing new in data keys \n",
    "len(top_level_keys.difference(data_keys)) == 0"
   ]
  },
  {
   "cell_type": "code",
   "execution_count": 41,
   "metadata": {},
   "outputs": [
    {
     "data": {
      "text/plain": [
       "True"
      ]
     },
     "execution_count": 41,
     "metadata": {},
     "output_type": "execute_result"
    }
   ],
   "source": [
    "len(data_keys.difference(top_level_keys)) == 0"
   ]
  },
  {
   "cell_type": "code",
   "execution_count": 42,
   "metadata": {},
   "outputs": [],
   "source": [
    "def schema_check(input_list, control_set):\n",
    "    \n",
    "    errors = []\n",
    "    input_set = set(input_list)\n",
    "    \n",
    "    # No dups in input \n",
    "    if len(input_set) != len(input_list): errors.append(\"Duplicates in input list\")\n",
    "    \n",
    "    # Everything in control list should be covered \n",
    "    if len(control_set.difference(input_set)) != 0: errors.append(\"Extra in control-- \"+ str(control_set.difference(input_set)))\n",
    "    \n",
    "    # Everything in data should be covered\n",
    "    if len(input_set.difference(control_set)) != 0: errors.append(\"Extra in control-- \"+ str(input_set.difference(control_set)))\n",
    "    \n",
    "    \n",
    "    return(errors)"
   ]
  },
  {
   "cell_type": "code",
   "execution_count": null,
   "metadata": {},
   "outputs": [],
   "source": []
  },
  {
   "cell_type": "code",
   "execution_count": 69,
   "metadata": {},
   "outputs": [
    {
     "data": {
      "text/plain": [
       "[]"
      ]
     },
     "execution_count": 69,
     "metadata": {},
     "output_type": "execute_result"
    }
   ],
   "source": [
    "schema_check(data.keys(), top_level_keys)"
   ]
  },
  {
   "cell_type": "code",
   "execution_count": 43,
   "metadata": {},
   "outputs": [],
   "source": [
    "schema = {}\n",
    "for k1,v in data.items():\n",
    "    if type(v) == dict:\n",
    "        schema[k1] = v.keys()"
   ]
  },
  {
   "cell_type": "code",
   "execution_count": 44,
   "metadata": {},
   "outputs": [
    {
     "data": {
      "text/plain": [
       "['Places', 'Purchases', 'Spotify', 'Usage', 'User']"
      ]
     },
     "execution_count": 44,
     "metadata": {},
     "output_type": "execute_result"
    }
   ],
   "source": [
    "list(schema.keys())"
   ]
  },
  {
   "cell_type": "code",
   "execution_count": 45,
   "metadata": {},
   "outputs": [
    {
     "name": "stdout",
     "output_type": "stream",
     "text": [
      "{'Places': dict_keys(['recentPlaces', 'blockedPlaces', 'analytics']),\n",
      " 'Purchases': dict_keys(['subscription', 'consumable', 'boost_tracking', 'super_like_tracking']),\n",
      " 'Spotify': dict_keys(['spotify_connected', 'spotify_theme_track']),\n",
      " 'Usage': dict_keys(['app_opens', 'swipes_likes', 'swipes_passes', 'matches', 'messages_sent', 'messages_received']),\n",
      " 'User': dict_keys(['active_time', 'age_filter_max', 'age_filter_min', 'bio', 'birth_date', 'connection_count', 'create_date', 'education', 'email', 'full_name', 'gender', 'gender_filter', 'interested_in', 'interests', 'ip_address', 'is_traveling', 'jobs', 'name', 'pos', 'schools', 'travel_location_info', 'travel_pos', 'phone_id', 'college'])}\n"
     ]
    }
   ],
   "source": [
    "pp.pprint(schema)"
   ]
  },
  {
   "cell_type": "code",
   "execution_count": 46,
   "metadata": {},
   "outputs": [],
   "source": [
    "controlled_schema = {'Places': {'recentPlaces', 'blockedPlaces', 'analytics'},\n",
    "'Purchases': {'subscription', 'consumable', 'boost_tracking', 'super_like_tracking'},\n",
    "'Spotify': {'spotify_connected', 'spotify_theme_track'}, \n",
    "'Usage': {'app_opens', 'swipes_likes', 'swipes_passes', 'matches', 'messages_sent', 'messages_received'}, \n",
    "'User':{'active_time', 'age_filter_max', 'age_filter_min', 'bio', 'birth_date',\n",
    "                 'connection_count', 'create_date',  'education', 'gender', 'gender_filter',\n",
    "                 'jobs', 'schools'}}"
   ]
  },
  {
   "cell_type": "code",
   "execution_count": 47,
   "metadata": {},
   "outputs": [],
   "source": [
    "errors= {}\n",
    "for k in data_keys:\n",
    "    if k in controlled_schema.keys():\n",
    "        errors[k] = schema_check(data[k].keys(), controlled_schema[k])"
   ]
  },
  {
   "cell_type": "code",
   "execution_count": 48,
   "metadata": {},
   "outputs": [
    {
     "data": {
      "text/plain": [
       "{'Places': [],\n",
       " 'Spotify': [],\n",
       " 'Usage': [],\n",
       " 'User': [\"Extra in control-- {'phone_id', 'interested_in', 'travel_location_info', 'name', 'full_name', 'college', 'travel_pos', 'email', 'ip_address', 'is_traveling', 'interests', 'pos'}\"],\n",
       " 'Purchases': []}"
      ]
     },
     "execution_count": 48,
     "metadata": {},
     "output_type": "execute_result"
    }
   ],
   "source": [
    "errors"
   ]
  },
  {
   "cell_type": "code",
   "execution_count": null,
   "metadata": {},
   "outputs": [],
   "source": []
  },
  {
   "cell_type": "code",
   "execution_count": null,
   "metadata": {},
   "outputs": [],
   "source": []
  },
  {
   "cell_type": "code",
   "execution_count": 49,
   "metadata": {},
   "outputs": [],
   "source": [
    "user = data['User']"
   ]
  },
  {
   "cell_type": "code",
   "execution_count": 50,
   "metadata": {},
   "outputs": [
    {
     "data": {
      "text/plain": [
       "dict_keys(['active_time', 'age_filter_max', 'age_filter_min', 'bio', 'birth_date', 'connection_count', 'create_date', 'education', 'email', 'full_name', 'gender', 'gender_filter', 'interested_in', 'interests', 'ip_address', 'is_traveling', 'jobs', 'name', 'pos', 'schools', 'travel_location_info', 'travel_pos', 'phone_id', 'college'])"
      ]
     },
     "execution_count": 50,
     "metadata": {},
     "output_type": "execute_result"
    }
   ],
   "source": [
    "user.keys()"
   ]
  },
  {
   "cell_type": "code",
   "execution_count": 25,
   "metadata": {},
   "outputs": [
    {
     "data": {
      "text/plain": [
       "{'active_time': '2018-12-03T11:51:24.738Z',\n",
       " 'age_filter_max': 28,\n",
       " 'age_filter_min': 22,\n",
       " 'bio': 'New to Brooklyn \\nInterests include salsa dancing and data science 💃\\n\\nHere for a good time not a long time',\n",
       " 'birth_date': '1993-09-14T00:00:00.000Z',\n",
       " 'connection_count': 1376,\n",
       " 'create_date': '2014-03-22T20:49:10.255Z',\n",
       " 'education': 'Has high school and/or college education',\n",
       " 'email': 'themalchemistway@gmail.com',\n",
       " 'full_name': 'Malcolm Taylor',\n",
       " 'gender': 'M',\n",
       " 'gender_filter': 'F',\n",
       " 'interested_in': 'F',\n",
       " 'interests': [{'id': '227871678136099',\n",
       "   'created_time': '2018-11-23T19:25:07+0000',\n",
       "   'name': 'Sam Torres'},\n",
       "  {'id': '70926594298',\n",
       "   'created_time': '2018-09-15T05:03:12+0000',\n",
       "   'name': 'ALDO Shoes'},\n",
       "  {'id': '528365127526143',\n",
       "   'created_time': '2017-12-22T02:20:39+0000',\n",
       "   'name': 'Elena Argudin'},\n",
       "  {'id': '112573976071113',\n",
       "   'created_time': '2017-08-05T12:20:33+0000',\n",
       "   'name': 'SB'},\n",
       "  {'id': '291059770920854',\n",
       "   'created_time': '2014-08-09T03:16:51+0000',\n",
       "   'name': 'Sundown Naturals'},\n",
       "  {'id': '703947916351167',\n",
       "   'created_time': '2016-12-30T04:04:22+0000',\n",
       "   'name': 'GIGadgets'},\n",
       "  {'id': '1692961567590350',\n",
       "   'created_time': '2016-12-16T06:39:58+0000',\n",
       "   'name': 'Transizion'},\n",
       "  {'id': '28710762347',\n",
       "   'created_time': '2016-11-14T16:40:10+0000',\n",
       "   'name': 'Cotton'},\n",
       "  {'id': '157104321310704',\n",
       "   'created_time': '2016-11-14T01:43:16+0000',\n",
       "   'name': 'Mayor Richard Thomas'},\n",
       "  {'id': '10318826318',\n",
       "   'created_time': '2016-11-10T17:48:55+0000',\n",
       "   'name': 'High Valley'},\n",
       "  {'id': '166693784070',\n",
       "   'created_time': '2016-11-07T17:33:56+0000',\n",
       "   'name': 'The Boston University Treblemakers'},\n",
       "  {'id': '161695784254394',\n",
       "   'created_time': '2016-08-04T13:52:06+0000',\n",
       "   'name': 'Math Finance Club'},\n",
       "  {'id': '263168127082024',\n",
       "   'created_time': '2016-05-31T13:13:13+0000',\n",
       "   'name': 'Goldman Sachs Elevator'},\n",
       "  {'id': '5834919267',\n",
       "   'created_time': '2016-03-29T13:49:36+0000',\n",
       "   'name': 'U.S. News and World Report'},\n",
       "  {'id': '237865036265136',\n",
       "   'created_time': '2016-02-17T02:18:42+0000',\n",
       "   'name': 'Elite Daily'},\n",
       "  {'id': '352364611609411',\n",
       "   'created_time': '2016-02-07T22:26:20+0000',\n",
       "   'name': 'Futurism'},\n",
       "  {'id': '199384873427344',\n",
       "   'created_time': '2016-01-11T05:20:08+0000',\n",
       "   'name': 'Combatant Gentlemen'},\n",
       "  {'id': '160442195927',\n",
       "   'created_time': '2015-12-09T22:58:01+0000',\n",
       "   'name': 'Karen Civil'},\n",
       "  {'id': '518261051650119',\n",
       "   'created_time': '2015-12-04T20:52:10+0000',\n",
       "   'name': 'Little Einsteins Videos'},\n",
       "  {'id': '1421623891474947',\n",
       "   'created_time': '2015-10-24T23:23:18+0000',\n",
       "   'name': 'Data Elixir'},\n",
       "  {'id': '250896364604',\n",
       "   'created_time': '2015-10-22T20:17:27+0000',\n",
       "   'name': 'TeamBackPack'},\n",
       "  {'id': '60820264588',\n",
       "   'created_time': '2015-08-11T23:34:23+0000',\n",
       "   'name': 'Zipcar'},\n",
       "  {'id': '174883497240',\n",
       "   'created_time': '2015-07-05T13:21:20+0000',\n",
       "   'name': 'Tim Ferriss'},\n",
       "  {'id': '715762555166785',\n",
       "   'created_time': '2015-06-16T20:18:09+0000',\n",
       "   'name': 'Breakfast Lunch & Dinner'},\n",
       "  {'id': '136702056389937',\n",
       "   'created_time': '2015-03-30T05:32:03+0000',\n",
       "   'name': 'Coalition to Save Affordable Housing of Coop City'},\n",
       "  {'id': '729384937091168',\n",
       "   'created_time': '2015-02-25T07:37:46+0000',\n",
       "   'name': 'Bevel'},\n",
       "  {'id': '441579982678219',\n",
       "   'created_time': '2015-02-18T18:19:52+0000',\n",
       "   'name': 'Fort Minor'},\n",
       "  {'id': '534810646579591',\n",
       "   'created_time': '2015-01-30T09:23:00+0000',\n",
       "   'name': 'Ballroom Guide'},\n",
       "  {'id': '394200553929179',\n",
       "   'created_time': '2015-01-18T21:16:20+0000',\n",
       "   'name': 'Champaign-Chicago Ride Share'},\n",
       "  {'id': '100858346620905',\n",
       "   'created_time': '2015-01-14T11:12:18+0000',\n",
       "   'name': 'Udemy'},\n",
       "  {'id': '104550952956141',\n",
       "   'created_time': '2014-11-27T03:05:42+0000',\n",
       "   'name': 'StackSocial'},\n",
       "  {'id': '164004256963488',\n",
       "   'created_time': '2014-10-29T15:11:11+0000',\n",
       "   'name': 'DJ Real Co'},\n",
       "  {'id': '106290112748928',\n",
       "   'created_time': '2014-10-20T07:05:47+0000',\n",
       "   'name': 'Aaradhna'},\n",
       "  {'id': '1672126893012970',\n",
       "   'created_time': '2014-10-16T23:58:57+0000',\n",
       "   'name': 'Jon Handy'},\n",
       "  {'id': '603730309652930',\n",
       "   'created_time': '2014-09-22T14:36:23+0000',\n",
       "   'name': 'Chase'},\n",
       "  {'id': '561576130629219',\n",
       "   'created_time': '2014-08-25T05:15:42+0000',\n",
       "   'name': 'Cereal Killaz Dance Crew'},\n",
       "  {'id': '78890776294',\n",
       "   'created_time': '2014-08-01T05:28:32+0000',\n",
       "   'name': 'NIVEA'},\n",
       "  {'id': '660726890648496',\n",
       "   'created_time': '2014-06-21T02:24:48+0000',\n",
       "   'name': 'Evan Griffith Music'},\n",
       "  {'id': '554940774613552',\n",
       "   'created_time': '2014-04-23T04:59:05+0000',\n",
       "   'name': '15+'},\n",
       "  {'id': '141413595975025',\n",
       "   'created_time': '2014-04-06T18:00:38+0000',\n",
       "   'name': 'Vicevi'},\n",
       "  {'id': '71731005912',\n",
       "   'created_time': '2014-04-01T19:19:03+0000',\n",
       "   'name': 'The George Washington University'},\n",
       "  {'id': '675892715800210',\n",
       "   'created_time': '2014-03-27T04:38:41+0000',\n",
       "   'name': 'Illini Dancesport Ballroom Team'},\n",
       "  {'id': '140825872612456',\n",
       "   'created_time': '2014-02-19T19:19:14+0000',\n",
       "   'name': \"Zorba's Restaurant, Champaign, IL\"},\n",
       "  {'id': '501482726558953',\n",
       "   'created_time': '2013-12-16T00:56:15+0000',\n",
       "   'name': 'Phi Sigma Sigma at the University of Illinois at Urbana-Champaign'},\n",
       "  {'id': '289067601113391',\n",
       "   'created_time': '2013-12-05T05:10:53+0000',\n",
       "   'name': 'Eden Neville'},\n",
       "  {'id': '275183302606797',\n",
       "   'created_time': '2013-11-23T07:06:39+0000',\n",
       "   'name': 'Wellesley On Tap'},\n",
       "  {'id': '150518198380090',\n",
       "   'created_time': '2013-10-01T19:13:25+0000',\n",
       "   'name': 'SORF Board'},\n",
       "  {'id': '340648012694538',\n",
       "   'created_time': '2013-08-07T10:16:45+0000',\n",
       "   'name': 'Donald Glover'},\n",
       "  {'id': '155175294653621',\n",
       "   'created_time': '2013-07-16T02:00:57+0000',\n",
       "   'name': 'Shave Away Cancer 2014'},\n",
       "  {'id': '9922266427',\n",
       "   'created_time': '2013-06-09T01:09:21+0000',\n",
       "   'name': 'GW Troubadours'},\n",
       "  {'id': '66064503553',\n",
       "   'created_time': '2013-06-09T01:09:14+0000',\n",
       "   'name': 'Manheim Architecture, Inc.'},\n",
       "  {'id': '1420533318177095',\n",
       "   'created_time': '2015-05-18T20:53:19+0000',\n",
       "   'name': 'Microsoft Visual Studio'},\n",
       "  {'id': '119059388146177',\n",
       "   'created_time': '2013-05-05T21:56:00+0000',\n",
       "   'name': 'Star Course Concert Committee'},\n",
       "  {'id': '460806530659377',\n",
       "   'created_time': '2013-04-10T16:29:10+0000',\n",
       "   'name': 'Arkadios Ink'},\n",
       "  {'id': '53590089299',\n",
       "   'created_time': '2013-04-10T05:01:53+0000',\n",
       "   'name': 'Horace Mann School Alumni'},\n",
       "  {'id': '157335737762397',\n",
       "   'created_time': '2013-04-03T03:27:10+0000',\n",
       "   'name': 'Capitol Food Recovery'},\n",
       "  {'id': '352223048229084',\n",
       "   'created_time': '2013-03-11T20:39:34+0000',\n",
       "   'name': 'University of Illinois Secret Admirer'},\n",
       "  {'id': '130033917170476',\n",
       "   'created_time': '2013-03-05T06:37:29+0000',\n",
       "   'name': 'GWU Secrets'},\n",
       "  {'id': '136983996347516',\n",
       "   'created_time': '2013-01-10T22:40:35+0000',\n",
       "   'name': '3LAU'},\n",
       "  {'id': '114140675310997',\n",
       "   'created_time': '2013-01-10T22:23:54+0000',\n",
       "   'name': 'The Jane Doze'},\n",
       "  {'id': '140388946048024',\n",
       "   'created_time': '2012-12-14T06:49:12+0000',\n",
       "   'name': 'Kappa Sigma Fraternity - Alpha-Gamma Chapter - UIUC'},\n",
       "  {'id': '156037164605508',\n",
       "   'created_time': '2012-12-07T23:12:49+0000',\n",
       "   'name': 'IMAX'},\n",
       "  {'id': '186352884815597',\n",
       "   'created_time': '2012-10-29T03:29:50+0000',\n",
       "   'name': 'GW Kappa Delta'},\n",
       "  {'id': '118112136019',\n",
       "   'created_time': '2012-10-16T02:50:27+0000',\n",
       "   'name': 'Trademark'},\n",
       "  {'id': '179806066602',\n",
       "   'created_time': '2012-10-15T19:43:13+0000',\n",
       "   'name': 'Sperry'},\n",
       "  {'id': '382013555175394',\n",
       "   'created_time': '2012-10-10T04:52:34+0000',\n",
       "   'name': 'Simone Cardoso'},\n",
       "  {'id': '386050065267',\n",
       "   'created_time': '2012-10-06T22:06:34+0000',\n",
       "   'name': 'Macklemore'},\n",
       "  {'id': '222664040102',\n",
       "   'created_time': '2012-09-28T04:10:57+0000',\n",
       "   'name': 'Esentrik'},\n",
       "  {'id': '401152003248508',\n",
       "   'created_time': '2012-09-28T04:10:03+0000',\n",
       "   'name': 'Vicetone'},\n",
       "  {'id': '110529672352',\n",
       "   'created_time': '2012-09-28T04:09:21+0000',\n",
       "   'name': 'The Knocks'},\n",
       "  {'id': '168748846506746',\n",
       "   'created_time': '2012-09-05T04:13:55+0000',\n",
       "   'name': 'Kap Slap'},\n",
       "  {'id': '299129809106',\n",
       "   'created_time': '2012-08-23T17:48:04+0000',\n",
       "   'name': 'Get Gelman Going'},\n",
       "  {'id': '183783621088',\n",
       "   'created_time': '2012-08-14T16:10:53+0000',\n",
       "   'name': 'Luke Christopher'},\n",
       "  {'id': '191187460289',\n",
       "   'created_time': '2012-08-01T06:04:50+0000',\n",
       "   'name': 'HP'},\n",
       "  {'id': '177029578989350',\n",
       "   'created_time': '2012-07-13T17:01:50+0000',\n",
       "   'name': 'Logic'},\n",
       "  {'id': '171293496222851',\n",
       "   'created_time': '2012-07-10T08:48:25+0000',\n",
       "   'name': 'Adventure Club'},\n",
       "  {'id': '205344452828349',\n",
       "   'created_time': '2012-05-08T05:01:04+0000',\n",
       "   'name': 'George Takei'},\n",
       "  {'id': '251611948219508',\n",
       "   'created_time': '2012-05-02T18:43:58+0000',\n",
       "   'name': \"GW Engineers' Council\"},\n",
       "  {'id': '6560321844',\n",
       "   'created_time': '2012-04-26T04:46:16+0000',\n",
       "   'name': 'KARMALOOP.com'},\n",
       "  {'id': '106550959381987',\n",
       "   'created_time': '2012-03-24T20:36:15+0000',\n",
       "   'name': 'Childish Gambino'},\n",
       "  {'id': '123376874405357',\n",
       "   'created_time': '2012-03-24T00:54:24+0000',\n",
       "   'name': 'Kappa Sigma Fraternity'},\n",
       "  {'id': '26435256798',\n",
       "   'created_time': '2012-02-14T07:59:10+0000',\n",
       "   'name': 'Avicii'},\n",
       "  {'id': '119702488081975',\n",
       "   'created_time': '2012-02-14T07:59:09+0000',\n",
       "   'name': 'Skrillex'},\n",
       "  {'id': '244929708853349',\n",
       "   'created_time': '2012-01-13T21:46:23+0000',\n",
       "   'name': 'Spotify'},\n",
       "  {'id': '212483697743',\n",
       "   'created_time': '2012-01-04T09:56:02+0000',\n",
       "   'name': 'REACH Prep'},\n",
       "  {'id': '222068564479190',\n",
       "   'created_time': '2011-12-27T12:47:03+0000',\n",
       "   'name': 'Lev Co.'},\n",
       "  {'id': '184567354946891',\n",
       "   'created_time': '2011-12-14T02:20:55+0000',\n",
       "   'name': 'Sujita Basnet'},\n",
       "  {'id': '114377147810',\n",
       "   'created_time': '2011-12-12T18:51:37+0000',\n",
       "   'name': 'GW Kappa Sigma'},\n",
       "  {'id': '137953152882007',\n",
       "   'created_time': '2011-09-15T06:35:34+0000',\n",
       "   'name': 'The Kollection'},\n",
       "  {'id': '17414523278',\n",
       "   'created_time': '2011-08-22T04:22:45+0000',\n",
       "   'name': 'Democracy Now!'},\n",
       "  {'id': '177687865600148',\n",
       "   'created_time': '2011-07-15T01:46:59+0000',\n",
       "   'name': 'GW Class of 2015'},\n",
       "  {'id': '112377135441981',\n",
       "   'created_time': '2011-07-14T06:10:26+0000',\n",
       "   'name': 'George Washington University School of Engineering and Applied Science'},\n",
       "  {'id': '108727889151725',\n",
       "   'created_time': '2011-05-04T04:01:32+0000',\n",
       "   'name': 'George Washington University'},\n",
       "  {'id': '172685102050',\n",
       "   'created_time': '2011-04-13T07:51:02+0000',\n",
       "   'name': 'Iron Maiden'},\n",
       "  {'id': '105439102822800',\n",
       "   'created_time': '2010-04-29T00:55:05+0000',\n",
       "   'name': 'Styles of Beyond'},\n",
       "  {'id': '8128837281',\n",
       "   'created_time': '2010-04-29T00:55:05+0000',\n",
       "   'name': 'Lupe Fiasco'},\n",
       "  {'id': '115048625189871',\n",
       "   'created_time': '2010-04-21T03:40:51+0000',\n",
       "   'name': 'The Dream Team'},\n",
       "  {'id': '31841583910',\n",
       "   'created_time': '2009-04-15T01:49:48+0000',\n",
       "   'name': 'Tucker'},\n",
       "  {'id': '5815249222',\n",
       "   'created_time': '2009-03-11T02:36:53+0000',\n",
       "   'name': 'Junior State of America'}],\n",
       " 'ip_address': '69.112.193.7',\n",
       " 'is_traveling': True,\n",
       " 'jobs': [{'company': {'displayed': True, 'name': 'Marcus by Goldman Sachs'},\n",
       "   'title': {'displayed': True, 'name': 'Data Scientist'}}],\n",
       " 'name': 'Malcolm',\n",
       " 'pos': {'at': 'Sat, 01 Dec 2018 06:23:37 GMT',\n",
       "  'lat': 40.683474899968395,\n",
       "  'lon': -73.9708726563868},\n",
       " 'schools': [{'displayed': True,\n",
       "   'id': '20697868961',\n",
       "   'name': 'Boston University',\n",
       "   'type': 'Graduate School'}],\n",
       " 'travel_location_info': [{'administrative_area_level_1': {'long_name': 'New York',\n",
       "    'short_name': 'NY'},\n",
       "   'administrative_area_level_2': {'long_name': 'Kings County',\n",
       "    'short_name': 'Kings County'},\n",
       "   'country': {'long_name': 'United States', 'short_name': 'US'},\n",
       "   'postal_code': {'long_name': '11217', 'short_name': '11217'},\n",
       "   'route': {'long_name': 'Atlantic Avenue', 'short_name': 'Atlantic Ave'},\n",
       "   'street_number': {'long_name': '378', 'short_name': '378'},\n",
       "   'lat': 40.687052,\n",
       "   'lon': -73.985978}],\n",
       " 'travel_pos': {'lat': 40.68720533805905, 'lon': -73.98592491309388},\n",
       " 'phone_id': '17185943385',\n",
       " 'college': []}"
      ]
     },
     "execution_count": 25,
     "metadata": {},
     "output_type": "execute_result"
    }
   ],
   "source": [
    "user"
   ]
  },
  {
   "cell_type": "markdown",
   "metadata": {},
   "source": [
    "## Things to drop\n",
    "\n",
    "\n",
    "- email, full_name, travel_pos, ip_address, phone_id\n",
    "- travel_location_info -> route, street_number, lat, lon"
   ]
  },
  {
   "cell_type": "code",
   "execution_count": 26,
   "metadata": {},
   "outputs": [],
   "source": [
    "user2 = user.copy()"
   ]
  },
  {
   "cell_type": "code",
   "execution_count": 27,
   "metadata": {},
   "outputs": [],
   "source": [
    "user_drops = ['email', 'full_name', 'travel_pos', 'ip_address', 'phone_id']"
   ]
  },
  {
   "cell_type": "code",
   "execution_count": 28,
   "metadata": {},
   "outputs": [],
   "source": [
    "for key in user_drops:\n",
    "    if key in user2:\n",
    "        try:\n",
    "            del user2[key]\n",
    "        except:\n",
    "            errors.append(\"Failed to drop key: \"+ str(key))\n",
    "            pass"
   ]
  },
  {
   "cell_type": "code",
   "execution_count": 29,
   "metadata": {},
   "outputs": [],
   "source": [
    "user_travel_drops = ['route', 'street_number', 'lat', 'lon']"
   ]
  },
  {
   "cell_type": "code",
   "execution_count": 30,
   "metadata": {},
   "outputs": [],
   "source": [
    "for key in user_travel_drops:\n",
    "    if key in user2:\n",
    "        try:\n",
    "            del user2['travel_location_info'][key]\n",
    "        except:\n",
    "            errors.append(\"Failed to drop key: \"+ str(key))\n",
    "            pass "
   ]
  },
  {
   "cell_type": "code",
   "execution_count": null,
   "metadata": {},
   "outputs": [],
   "source": []
  },
  {
   "cell_type": "markdown",
   "metadata": {},
   "source": [
    "## End with serialization "
   ]
  },
  {
   "cell_type": "code",
   "execution_count": 72,
   "metadata": {},
   "outputs": [],
   "source": [
    "with open(\"demo_dump.json\", \"w\") as hnd:\n",
    "    json.dump(data, hnd)"
   ]
  },
  {
   "cell_type": "code",
   "execution_count": null,
   "metadata": {},
   "outputs": [],
   "source": []
  }
 ],
 "metadata": {
  "kernelspec": {
   "display_name": "Python 3",
   "language": "python",
   "name": "python3"
  },
  "language_info": {
   "codemirror_mode": {
    "name": "ipython",
    "version": 3
   },
   "file_extension": ".py",
   "mimetype": "text/x-python",
   "name": "python",
   "nbconvert_exporter": "python",
   "pygments_lexer": "ipython3",
   "version": "3.6.4"
  }
 },
 "nbformat": 4,
 "nbformat_minor": 2
}
