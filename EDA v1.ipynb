{
 "cells": [
  {
   "cell_type": "code",
   "execution_count": 178,
   "metadata": {},
   "outputs": [],
   "source": [
    "import pandas as pd\n",
    "import numpy as np \n",
    "import matplotlib.pyplot as plt \n",
    "import json\n",
    "import os \n",
    "import re"
   ]
  },
  {
   "cell_type": "code",
   "execution_count": 6,
   "metadata": {},
   "outputs": [],
   "source": [
    "from importlib import reload"
   ]
  },
  {
   "cell_type": "code",
   "execution_count": 7,
   "metadata": {},
   "outputs": [
    {
     "data": {
      "text/plain": [
       "<module 'Scripts.EDA_functions' from '/home/malcolm/Downloads/Tinder_analysis/Scripts/EDA_functions.py'>"
      ]
     },
     "execution_count": 7,
     "metadata": {},
     "output_type": "execute_result"
    }
   ],
   "source": [
    "from Scripts import EDA_functions as mt_eda\n",
    "reload(mt_eda)"
   ]
  },
  {
   "cell_type": "code",
   "execution_count": 8,
   "metadata": {},
   "outputs": [],
   "source": [
    "data_path = \"Data/data.json\""
   ]
  },
  {
   "cell_type": "code",
   "execution_count": 9,
   "metadata": {},
   "outputs": [
    {
     "data": {
      "text/plain": [
       "True"
      ]
     },
     "execution_count": 9,
     "metadata": {},
     "output_type": "execute_result"
    }
   ],
   "source": [
    "os.path.isfile(data_path)"
   ]
  },
  {
   "cell_type": "code",
   "execution_count": 10,
   "metadata": {},
   "outputs": [],
   "source": [
    "with open(data_path, \"rb\") as inp: \n",
    "    data = json.load(inp)"
   ]
  },
  {
   "cell_type": "code",
   "execution_count": 11,
   "metadata": {},
   "outputs": [
    {
     "data": {
      "text/plain": [
       "dict_keys(['Messages', 'Photos', 'Places', 'Purchases', 'Spotify', 'Usage', 'User'])"
      ]
     },
     "execution_count": 11,
     "metadata": {},
     "output_type": "execute_result"
    }
   ],
   "source": [
    "data.keys()"
   ]
  },
  {
   "cell_type": "markdown",
   "metadata": {},
   "source": [
    "## Explore Messages \"tab\""
   ]
  },
  {
   "cell_type": "code",
   "execution_count": 12,
   "metadata": {},
   "outputs": [
    {
     "data": {
      "text/plain": [
       "169"
      ]
     },
     "execution_count": 12,
     "metadata": {},
     "output_type": "execute_result"
    }
   ],
   "source": [
    "len(data['Messages'])"
   ]
  },
  {
   "cell_type": "code",
   "execution_count": 13,
   "metadata": {},
   "outputs": [
    {
     "data": {
      "text/plain": [
       "list"
      ]
     },
     "execution_count": 13,
     "metadata": {},
     "output_type": "execute_result"
    }
   ],
   "source": [
    "type(data['Messages'])"
   ]
  },
  {
   "cell_type": "code",
   "execution_count": 14,
   "metadata": {
    "scrolled": true
   },
   "outputs": [
    {
     "data": {
      "text/plain": [
       "[{'match_id': 'Match 169',\n",
       "  'messages': [{'to': '5bda0f045c67bcb02727e8c3',\n",
       "    'from': 'You',\n",
       "    'message': 'Rose!! 🌹 I get it',\n",
       "    'sent_date': 'Thu, 29 Nov 2018 06:43:33 GMT'}]},\n",
       " {'match_id': 'Match 168',\n",
       "  'messages': [{'to': '5bdc7209e53ebed626ea4a03',\n",
       "    'from': 'You',\n",
       "    'message': 'https://media0.giphy.com/media/6wpHEQNjkd74Q/giphy.gif?width=250&height=132',\n",
       "    'sent_date': 'Wed, 21 Nov 2018 01:18:37 GMT',\n",
       "    'type': 'gif',\n",
       "    'fixed_height': 'https://media0.giphy.com/media/6wpHEQNjkd74Q/200.gif?width=379&height=200'},\n",
       "   {'to': '5bdc7209e53ebed626ea4a03',\n",
       "    'from': 'You',\n",
       "    'message': 'Hahaha that was fantastic!',\n",
       "    'sent_date': 'Wed, 21 Nov 2018 01:18:55 GMT'},\n",
       "   {'to': '5bdc7209e53ebed626ea4a03',\n",
       "    'from': 'You',\n",
       "    'message': 'Also can you be the phosphorus and i have the big wooden stick 😁👍🏾😉',\n",
       "    'sent_date': 'Wed, 21 Nov 2018 01:19:30 GMT'},\n",
       "   {'to': '5bdc7209e53ebed626ea4a03',\n",
       "    'from': 'You',\n",
       "    'message': 'Big sticks don’t impress you?',\n",
       "    'sent_date': 'Wed, 21 Nov 2018 01:27:49 GMT'},\n",
       "   {'to': '5bdc7209e53ebed626ea4a03',\n",
       "    'from': 'You',\n",
       "    'message': 'That’s probably better for me anyways',\n",
       "    'sent_date': 'Wed, 21 Nov 2018 01:28:06 GMT'}]},\n",
       " {'match_id': 'Match 167',\n",
       "  'messages': [{'to': '5aa4c938ce81fc740cf975bf',\n",
       "    'from': 'You',\n",
       "    'message': 'Hey how’s it going? Happy Wednesday!',\n",
       "    'sent_date': 'Thu, 07 Jun 2018 00:57:00 GMT'},\n",
       "   {'to': '5aa4c938ce81fc740cf975bf',\n",
       "    'from': 'You',\n",
       "    'message': 'What beach is that in your pic and can we still go there?',\n",
       "    'sent_date': 'Sun, 07 Oct 2018 12:56:52 GMT'},\n",
       "   {'to': '5aa4c938ce81fc740cf975bf',\n",
       "    'from': 'You',\n",
       "    'message': 'Hey',\n",
       "    'sent_date': 'Sat, 17 Nov 2018 16:16:23 GMT'},\n",
       "   {'to': '5aa4c938ce81fc740cf975bf',\n",
       "    'from': 'You',\n",
       "    'message': 'How’s it going?',\n",
       "    'sent_date': 'Tue, 20 Nov 2018 05:33:00 GMT'}]}]"
      ]
     },
     "execution_count": 14,
     "metadata": {},
     "output_type": "execute_result"
    }
   ],
   "source": [
    "data['Messages'][:3]"
   ]
  },
  {
   "cell_type": "code",
   "execution_count": 15,
   "metadata": {},
   "outputs": [
    {
     "data": {
      "text/plain": [
       "dict"
      ]
     },
     "execution_count": 15,
     "metadata": {},
     "output_type": "execute_result"
    }
   ],
   "source": [
    "type(data['Messages'][0])"
   ]
  },
  {
   "cell_type": "code",
   "execution_count": 16,
   "metadata": {},
   "outputs": [
    {
     "data": {
      "text/plain": [
       "dict_keys(['match_id', 'messages'])"
      ]
     },
     "execution_count": 16,
     "metadata": {},
     "output_type": "execute_result"
    }
   ],
   "source": [
    "data['Messages'][1].keys()"
   ]
  },
  {
   "cell_type": "code",
   "execution_count": 17,
   "metadata": {
    "scrolled": true
   },
   "outputs": [
    {
     "data": {
      "text/plain": [
       "{'match_id': 'Match 168',\n",
       " 'messages': [{'to': '5bdc7209e53ebed626ea4a03',\n",
       "   'from': 'You',\n",
       "   'message': 'https://media0.giphy.com/media/6wpHEQNjkd74Q/giphy.gif?width=250&height=132',\n",
       "   'sent_date': 'Wed, 21 Nov 2018 01:18:37 GMT',\n",
       "   'type': 'gif',\n",
       "   'fixed_height': 'https://media0.giphy.com/media/6wpHEQNjkd74Q/200.gif?width=379&height=200'},\n",
       "  {'to': '5bdc7209e53ebed626ea4a03',\n",
       "   'from': 'You',\n",
       "   'message': 'Hahaha that was fantastic!',\n",
       "   'sent_date': 'Wed, 21 Nov 2018 01:18:55 GMT'},\n",
       "  {'to': '5bdc7209e53ebed626ea4a03',\n",
       "   'from': 'You',\n",
       "   'message': 'Also can you be the phosphorus and i have the big wooden stick 😁👍🏾😉',\n",
       "   'sent_date': 'Wed, 21 Nov 2018 01:19:30 GMT'},\n",
       "  {'to': '5bdc7209e53ebed626ea4a03',\n",
       "   'from': 'You',\n",
       "   'message': 'Big sticks don’t impress you?',\n",
       "   'sent_date': 'Wed, 21 Nov 2018 01:27:49 GMT'},\n",
       "  {'to': '5bdc7209e53ebed626ea4a03',\n",
       "   'from': 'You',\n",
       "   'message': 'That’s probably better for me anyways',\n",
       "   'sent_date': 'Wed, 21 Nov 2018 01:28:06 GMT'}]}"
      ]
     },
     "execution_count": 17,
     "metadata": {},
     "output_type": "execute_result"
    }
   ],
   "source": [
    "data['Messages'][1]"
   ]
  },
  {
   "cell_type": "code",
   "execution_count": 18,
   "metadata": {},
   "outputs": [
    {
     "data": {
      "text/plain": [
       "{'match_id': 'Match 168',\n",
       " 'messages': [{'to': '5bdc7209e53ebed626ea4a03',\n",
       "   'from': 'You',\n",
       "   'message': 'https://media0.giphy.com/media/6wpHEQNjkd74Q/giphy.gif?width=250&height=132',\n",
       "   'sent_date': 'Wed, 21 Nov 2018 01:18:37 GMT',\n",
       "   'type': 'gif',\n",
       "   'fixed_height': 'https://media0.giphy.com/media/6wpHEQNjkd74Q/200.gif?width=379&height=200'},\n",
       "  {'to': '5bdc7209e53ebed626ea4a03',\n",
       "   'from': 'You',\n",
       "   'message': 'Hahaha that was fantastic!',\n",
       "   'sent_date': 'Wed, 21 Nov 2018 01:18:55 GMT'},\n",
       "  {'to': '5bdc7209e53ebed626ea4a03',\n",
       "   'from': 'You',\n",
       "   'message': 'Also can you be the phosphorus and i have the big wooden stick 😁👍🏾😉',\n",
       "   'sent_date': 'Wed, 21 Nov 2018 01:19:30 GMT'},\n",
       "  {'to': '5bdc7209e53ebed626ea4a03',\n",
       "   'from': 'You',\n",
       "   'message': 'Big sticks don’t impress you?',\n",
       "   'sent_date': 'Wed, 21 Nov 2018 01:27:49 GMT'},\n",
       "  {'to': '5bdc7209e53ebed626ea4a03',\n",
       "   'from': 'You',\n",
       "   'message': 'That’s probably better for me anyways',\n",
       "   'sent_date': 'Wed, 21 Nov 2018 01:28:06 GMT'}]}"
      ]
     },
     "execution_count": 18,
     "metadata": {},
     "output_type": "execute_result"
    }
   ],
   "source": [
    "data['Messages'][1]"
   ]
  },
  {
   "cell_type": "code",
   "execution_count": 19,
   "metadata": {},
   "outputs": [
    {
     "data": {
      "text/plain": [
       "{'match_id': str, 'messages': list}"
      ]
     },
     "execution_count": 19,
     "metadata": {},
     "output_type": "execute_result"
    }
   ],
   "source": [
    "# Structure for each item in messages \n",
    "{k: type(v) for k, v in data['Messages'][0].items()}"
   ]
  },
  {
   "cell_type": "code",
   "execution_count": 20,
   "metadata": {},
   "outputs": [],
   "source": [
    "msg_df = pd.DataFrame(data['Messages'][10]['messages'])"
   ]
  },
  {
   "cell_type": "code",
   "execution_count": 21,
   "metadata": {},
   "outputs": [
    {
     "data": {
      "text/html": [
       "<div>\n",
       "<style scoped>\n",
       "    .dataframe tbody tr th:only-of-type {\n",
       "        vertical-align: middle;\n",
       "    }\n",
       "\n",
       "    .dataframe tbody tr th {\n",
       "        vertical-align: top;\n",
       "    }\n",
       "\n",
       "    .dataframe thead th {\n",
       "        text-align: right;\n",
       "    }\n",
       "</style>\n",
       "<table border=\"1\" class=\"dataframe\">\n",
       "  <thead>\n",
       "    <tr style=\"text-align: right;\">\n",
       "      <th></th>\n",
       "      <th>from</th>\n",
       "      <th>message</th>\n",
       "      <th>sent_date</th>\n",
       "      <th>to</th>\n",
       "    </tr>\n",
       "  </thead>\n",
       "  <tbody>\n",
       "    <tr>\n",
       "      <th>0</th>\n",
       "      <td>You</td>\n",
       "      <td>Interesting pic by the toilet.... not quite su...</td>\n",
       "      <td>Sat, 10 Nov 2018 03:50:33 GMT</td>\n",
       "      <td>5b949a891501499e1faa047e</td>\n",
       "    </tr>\n",
       "  </tbody>\n",
       "</table>\n",
       "</div>"
      ],
      "text/plain": [
       "  from                                            message  \\\n",
       "0  You  Interesting pic by the toilet.... not quite su...   \n",
       "\n",
       "                       sent_date                        to  \n",
       "0  Sat, 10 Nov 2018 03:50:33 GMT  5b949a891501499e1faa047e  "
      ]
     },
     "execution_count": 21,
     "metadata": {},
     "output_type": "execute_result"
    }
   ],
   "source": [
    "msg_df.head()"
   ]
  },
  {
   "cell_type": "code",
   "execution_count": null,
   "metadata": {},
   "outputs": [],
   "source": []
  },
  {
   "cell_type": "code",
   "execution_count": 23,
   "metadata": {},
   "outputs": [],
   "source": [
    "msg_df['sent_date'] = pd.to_datetime(msg_df['sent_date'])"
   ]
  },
  {
   "cell_type": "code",
   "execution_count": 24,
   "metadata": {},
   "outputs": [
    {
     "data": {
      "text/plain": [
       "Index(['from', 'message', 'sent_date', 'to'], dtype='object')"
      ]
     },
     "execution_count": 24,
     "metadata": {},
     "output_type": "execute_result"
    }
   ],
   "source": [
    "msg_df.columns"
   ]
  },
  {
   "cell_type": "code",
   "execution_count": 25,
   "metadata": {},
   "outputs": [],
   "source": [
    "temp_df1 = mt_eda.get_msg_df(data[\"Messages\"][1])"
   ]
  },
  {
   "cell_type": "code",
   "execution_count": 26,
   "metadata": {
    "scrolled": true
   },
   "outputs": [
    {
     "data": {
      "text/plain": [
       "[{'match_id': 'Match 62', 'messages': []},\n",
       " {'match_id': 'Match 61',\n",
       "  'messages': [{'to': '5603cbd9b2f521ea2c44916c',\n",
       "    'from': 'You',\n",
       "    'message': 'Do you believe in ghosts? ',\n",
       "    'sent_date': 'Sat, 26 Sep 2015 17:40:45 GMT'},\n",
       "   {'to': '5603cbd9b2f521ea2c44916c',\n",
       "    'from': 'You',\n",
       "    'message': \"Hey how's it going?  \",\n",
       "    'sent_date': 'Sat, 26 Sep 2015 17:46:38 GMT'}]}]"
      ]
     },
     "execution_count": 26,
     "metadata": {},
     "output_type": "execute_result"
    }
   ],
   "source": [
    "data['Messages'][107:109]"
   ]
  },
  {
   "cell_type": "code",
   "execution_count": 27,
   "metadata": {},
   "outputs": [
    {
     "data": {
      "text/html": [
       "<div>\n",
       "<style scoped>\n",
       "    .dataframe tbody tr th:only-of-type {\n",
       "        vertical-align: middle;\n",
       "    }\n",
       "\n",
       "    .dataframe tbody tr th {\n",
       "        vertical-align: top;\n",
       "    }\n",
       "\n",
       "    .dataframe thead th {\n",
       "        text-align: right;\n",
       "    }\n",
       "</style>\n",
       "<table border=\"1\" class=\"dataframe\">\n",
       "  <thead>\n",
       "    <tr style=\"text-align: right;\">\n",
       "      <th></th>\n",
       "      <th>message</th>\n",
       "      <th>sent_date</th>\n",
       "      <th>fixed_height</th>\n",
       "      <th>type</th>\n",
       "      <th>from</th>\n",
       "      <th>to</th>\n",
       "      <th>n_words_in_msg</th>\n",
       "      <th>time_since_last_msg</th>\n",
       "      <th>time_since_last_2_msgs</th>\n",
       "      <th>funny_word_in_msg</th>\n",
       "    </tr>\n",
       "  </thead>\n",
       "  <tbody>\n",
       "    <tr>\n",
       "      <th>-1</th>\n",
       "      <td>NaN</td>\n",
       "      <td>NaN</td>\n",
       "      <td>NaN</td>\n",
       "      <td>NaN</td>\n",
       "      <td>NaN</td>\n",
       "      <td>NaN</td>\n",
       "      <td>NaN</td>\n",
       "      <td>NaN</td>\n",
       "      <td>NaN</td>\n",
       "      <td>NaN</td>\n",
       "    </tr>\n",
       "  </tbody>\n",
       "</table>\n",
       "</div>"
      ],
      "text/plain": [
       "    message  sent_date  fixed_height  type  from  to  n_words_in_msg  \\\n",
       "-1      NaN        NaN           NaN   NaN   NaN NaN             NaN   \n",
       "\n",
       "    time_since_last_msg  time_since_last_2_msgs  funny_word_in_msg  \n",
       "-1                  NaN                     NaN                NaN  "
      ]
     },
     "execution_count": 27,
     "metadata": {},
     "output_type": "execute_result"
    }
   ],
   "source": [
    "# Demo case \n",
    "mt_eda.get_msg_df({\"match_id\":\"a\", \"messages\":[]})"
   ]
  },
  {
   "cell_type": "code",
   "execution_count": 139,
   "metadata": {},
   "outputs": [
    {
     "data": {
      "text/plain": [
       "<module 'Scripts.EDA_functions' from '/home/malcolm/Downloads/Tinder_analysis/Scripts/EDA_functions.py'>"
      ]
     },
     "execution_count": 139,
     "metadata": {},
     "output_type": "execute_result"
    }
   ],
   "source": [
    "reload(mt_eda)"
   ]
  },
  {
   "cell_type": "code",
   "execution_count": null,
   "metadata": {},
   "outputs": [],
   "source": []
  },
  {
   "cell_type": "code",
   "execution_count": 140,
   "metadata": {
    "scrolled": true
   },
   "outputs": [],
   "source": [
    "list_of_dfs = []\n",
    "i=0\n",
    "for x in data[\"Messages\"]:\n",
    "    i+=1\n",
    "    try:\n",
    "        list_of_dfs.append(mt_eda.get_msg_df(x))\n",
    "    except:\n",
    "        print(\"Index Number\", i)\n",
    "        print(\"Contents: \\n\", x)\n",
    "        pass\n",
    "# list_of_dfs = [mt_eda.get_msg_df(msg_dict) for msg_dict in data[\"Messages\"]]"
   ]
  },
  {
   "cell_type": "code",
   "execution_count": 141,
   "metadata": {},
   "outputs": [],
   "source": []
  },
  {
   "cell_type": "code",
   "execution_count": 146,
   "metadata": {},
   "outputs": [
    {
     "data": {
      "text/plain": [
       "169"
      ]
     },
     "execution_count": 146,
     "metadata": {},
     "output_type": "execute_result"
    }
   ],
   "source": [
    "len(list_of_dfs)"
   ]
  },
  {
   "cell_type": "code",
   "execution_count": 147,
   "metadata": {},
   "outputs": [],
   "source": [
    "n_rows = [df.shape[0] for df in list_of_dfs]"
   ]
  },
  {
   "cell_type": "code",
   "execution_count": 148,
   "metadata": {},
   "outputs": [
    {
     "data": {
      "text/plain": [
       "count    169.000000\n",
       "mean       5.710059\n",
       "std        9.289905\n",
       "min        1.000000\n",
       "25%        1.000000\n",
       "50%        2.000000\n",
       "75%        5.000000\n",
       "max       64.000000\n",
       "dtype: float64"
      ]
     },
     "execution_count": 148,
     "metadata": {},
     "output_type": "execute_result"
    }
   ],
   "source": [
    "pd.Series(n_rows).describe()"
   ]
  },
  {
   "cell_type": "code",
   "execution_count": 149,
   "metadata": {},
   "outputs": [
    {
     "data": {
      "text/plain": [
       "965"
      ]
     },
     "execution_count": 149,
     "metadata": {},
     "output_type": "execute_result"
    }
   ],
   "source": [
    "pd.Series(n_rows).sum()"
   ]
  },
  {
   "cell_type": "code",
   "execution_count": 150,
   "metadata": {},
   "outputs": [
    {
     "data": {
      "text/html": [
       "<div>\n",
       "<style scoped>\n",
       "    .dataframe tbody tr th:only-of-type {\n",
       "        vertical-align: middle;\n",
       "    }\n",
       "\n",
       "    .dataframe tbody tr th {\n",
       "        vertical-align: top;\n",
       "    }\n",
       "\n",
       "    .dataframe thead th {\n",
       "        text-align: right;\n",
       "    }\n",
       "</style>\n",
       "<table border=\"1\" class=\"dataframe\">\n",
       "  <thead>\n",
       "    <tr style=\"text-align: right;\">\n",
       "      <th></th>\n",
       "      <th></th>\n",
       "      <th>from</th>\n",
       "      <th>message</th>\n",
       "      <th>sent_date</th>\n",
       "      <th>to</th>\n",
       "      <th>fixed_height</th>\n",
       "      <th>type</th>\n",
       "      <th>n_words_in_msg</th>\n",
       "      <th>time_since_last_msg</th>\n",
       "      <th>time_since_last_2_msgs</th>\n",
       "      <th>funny_word_in_msg</th>\n",
       "      <th>question_word_in_msg</th>\n",
       "    </tr>\n",
       "    <tr>\n",
       "      <th>match_id</th>\n",
       "      <th>msg_number</th>\n",
       "      <th></th>\n",
       "      <th></th>\n",
       "      <th></th>\n",
       "      <th></th>\n",
       "      <th></th>\n",
       "      <th></th>\n",
       "      <th></th>\n",
       "      <th></th>\n",
       "      <th></th>\n",
       "      <th></th>\n",
       "      <th></th>\n",
       "    </tr>\n",
       "  </thead>\n",
       "  <tbody>\n",
       "    <tr>\n",
       "      <th rowspan=\"2\" valign=\"top\">Match 3</th>\n",
       "      <th>0</th>\n",
       "      <td>You</td>\n",
       "      <td>Hey girl how's it going?</td>\n",
       "      <td>2014-03-27 16:25:19</td>\n",
       "      <td>533379aa329c196b56000a6d</td>\n",
       "      <td>NaN</td>\n",
       "      <td>NaN</td>\n",
       "      <td>6</td>\n",
       "      <td>NaT</td>\n",
       "      <td>NaT</td>\n",
       "      <td>0</td>\n",
       "      <td>1</td>\n",
       "    </tr>\n",
       "    <tr>\n",
       "      <th>1</th>\n",
       "      <td>You</td>\n",
       "      <td>Going out tonight?</td>\n",
       "      <td>2014-03-27 22:04:16</td>\n",
       "      <td>533379aa329c196b56000a6d</td>\n",
       "      <td>NaN</td>\n",
       "      <td>NaN</td>\n",
       "      <td>4</td>\n",
       "      <td>05:38:57</td>\n",
       "      <td>NaT</td>\n",
       "      <td>0</td>\n",
       "      <td>1</td>\n",
       "    </tr>\n",
       "  </tbody>\n",
       "</table>\n",
       "</div>"
      ],
      "text/plain": [
       "                    from                    message           sent_date  \\\n",
       "match_id msg_number                                                       \n",
       "Match 3  0           You  Hey girl how's it going?  2014-03-27 16:25:19   \n",
       "         1           You        Going out tonight?  2014-03-27 22:04:16   \n",
       "\n",
       "                                           to  fixed_height  type  \\\n",
       "match_id msg_number                                                 \n",
       "Match 3  0           533379aa329c196b56000a6d           NaN   NaN   \n",
       "         1           533379aa329c196b56000a6d           NaN   NaN   \n",
       "\n",
       "                     n_words_in_msg time_since_last_msg  \\\n",
       "match_id msg_number                                       \n",
       "Match 3  0                        6                 NaT   \n",
       "         1                        4            05:38:57   \n",
       "\n",
       "                    time_since_last_2_msgs  funny_word_in_msg  \\\n",
       "match_id msg_number                                             \n",
       "Match 3  0                             NaT                  0   \n",
       "         1                             NaT                  0   \n",
       "\n",
       "                     question_word_in_msg  \n",
       "match_id msg_number                        \n",
       "Match 3  0                              1  \n",
       "         1                              1  "
      ]
     },
     "execution_count": 150,
     "metadata": {},
     "output_type": "execute_result"
    }
   ],
   "source": [
    "list_of_dfs[-3]"
   ]
  },
  {
   "cell_type": "code",
   "execution_count": 151,
   "metadata": {},
   "outputs": [
    {
     "data": {
      "text/plain": [
       "True"
      ]
     },
     "execution_count": 151,
     "metadata": {},
     "output_type": "execute_result"
    }
   ],
   "source": [
    "\"?\" in list_of_dfs[-3]['message'].iloc[1]\n"
   ]
  },
  {
   "cell_type": "code",
   "execution_count": 152,
   "metadata": {},
   "outputs": [
    {
     "data": {
      "text/html": [
       "<div>\n",
       "<style scoped>\n",
       "    .dataframe tbody tr th:only-of-type {\n",
       "        vertical-align: middle;\n",
       "    }\n",
       "\n",
       "    .dataframe tbody tr th {\n",
       "        vertical-align: top;\n",
       "    }\n",
       "\n",
       "    .dataframe thead th {\n",
       "        text-align: right;\n",
       "    }\n",
       "</style>\n",
       "<table border=\"1\" class=\"dataframe\">\n",
       "  <thead>\n",
       "    <tr style=\"text-align: right;\">\n",
       "      <th></th>\n",
       "      <th></th>\n",
       "      <th>from</th>\n",
       "      <th>message</th>\n",
       "      <th>sent_date</th>\n",
       "      <th>to</th>\n",
       "      <th>fixed_height</th>\n",
       "      <th>type</th>\n",
       "      <th>n_words_in_msg</th>\n",
       "      <th>time_since_last_msg</th>\n",
       "      <th>time_since_last_2_msgs</th>\n",
       "      <th>funny_word_in_msg</th>\n",
       "      <th>question_word_in_msg</th>\n",
       "    </tr>\n",
       "    <tr>\n",
       "      <th>match_id</th>\n",
       "      <th>msg_number</th>\n",
       "      <th></th>\n",
       "      <th></th>\n",
       "      <th></th>\n",
       "      <th></th>\n",
       "      <th></th>\n",
       "      <th></th>\n",
       "      <th></th>\n",
       "      <th></th>\n",
       "      <th></th>\n",
       "      <th></th>\n",
       "      <th></th>\n",
       "    </tr>\n",
       "  </thead>\n",
       "  <tbody>\n",
       "    <tr>\n",
       "      <th>Match 169</th>\n",
       "      <th>0</th>\n",
       "      <td>You</td>\n",
       "      <td>Rose!! 🌹 I get it</td>\n",
       "      <td>2018-11-29 06:43:33</td>\n",
       "      <td>5bda0f045c67bcb02727e8c3</td>\n",
       "      <td>NaN</td>\n",
       "      <td>NaN</td>\n",
       "      <td>5</td>\n",
       "      <td>NaT</td>\n",
       "      <td>NaT</td>\n",
       "      <td>0</td>\n",
       "      <td>0</td>\n",
       "    </tr>\n",
       "  </tbody>\n",
       "</table>\n",
       "</div>"
      ],
      "text/plain": [
       "                     from            message           sent_date  \\\n",
       "match_id  msg_number                                               \n",
       "Match 169 0           You  Rose!! 🌹 I get it 2018-11-29 06:43:33   \n",
       "\n",
       "                                            to  fixed_height  type  \\\n",
       "match_id  msg_number                                                 \n",
       "Match 169 0           5bda0f045c67bcb02727e8c3           NaN   NaN   \n",
       "\n",
       "                      n_words_in_msg time_since_last_msg  \\\n",
       "match_id  msg_number                                       \n",
       "Match 169 0                        5                 NaT   \n",
       "\n",
       "                     time_since_last_2_msgs  funny_word_in_msg  \\\n",
       "match_id  msg_number                                             \n",
       "Match 169 0                             NaT                  0   \n",
       "\n",
       "                      question_word_in_msg  \n",
       "match_id  msg_number                        \n",
       "Match 169 0                              0  "
      ]
     },
     "execution_count": 152,
     "metadata": {},
     "output_type": "execute_result"
    }
   ],
   "source": [
    "list_of_dfs[0]"
   ]
  },
  {
   "cell_type": "code",
   "execution_count": 153,
   "metadata": {},
   "outputs": [
    {
     "data": {
      "text/plain": [
       "'Match 169'"
      ]
     },
     "execution_count": 153,
     "metadata": {},
     "output_type": "execute_result"
    }
   ],
   "source": [
    "list_of_dfs[0].index.get_level_values(0)[0]"
   ]
  },
  {
   "cell_type": "code",
   "execution_count": 154,
   "metadata": {},
   "outputs": [],
   "source": [
    "all_indexes = [df.index.get_level_values(0)[0] for df in list_of_dfs]"
   ]
  },
  {
   "cell_type": "code",
   "execution_count": null,
   "metadata": {},
   "outputs": [],
   "source": []
  },
  {
   "cell_type": "code",
   "execution_count": 155,
   "metadata": {},
   "outputs": [],
   "source": [
    "all_msg_df = pd.concat(list_of_dfs, axis = 0)\n"
   ]
  },
  {
   "cell_type": "code",
   "execution_count": 156,
   "metadata": {},
   "outputs": [
    {
     "data": {
      "text/plain": [
       "(965, 12)"
      ]
     },
     "execution_count": 156,
     "metadata": {},
     "output_type": "execute_result"
    }
   ],
   "source": [
    "all_msg_df.shape"
   ]
  },
  {
   "cell_type": "code",
   "execution_count": 174,
   "metadata": {},
   "outputs": [
    {
     "data": {
      "text/html": [
       "<div>\n",
       "<style scoped>\n",
       "    .dataframe tbody tr th:only-of-type {\n",
       "        vertical-align: middle;\n",
       "    }\n",
       "\n",
       "    .dataframe tbody tr th {\n",
       "        vertical-align: top;\n",
       "    }\n",
       "\n",
       "    .dataframe thead th {\n",
       "        text-align: right;\n",
       "    }\n",
       "</style>\n",
       "<table border=\"1\" class=\"dataframe\">\n",
       "  <thead>\n",
       "    <tr style=\"text-align: right;\">\n",
       "      <th></th>\n",
       "      <th></th>\n",
       "      <th>fixed_height</th>\n",
       "      <th>from</th>\n",
       "      <th>funny_word_in_msg</th>\n",
       "      <th>message</th>\n",
       "      <th>n_words_in_msg</th>\n",
       "      <th>question_word_in_msg</th>\n",
       "      <th>sent_date</th>\n",
       "      <th>time_since_last_2_msgs</th>\n",
       "      <th>time_since_last_msg</th>\n",
       "      <th>to</th>\n",
       "      <th>type</th>\n",
       "      <th>-1</th>\n",
       "    </tr>\n",
       "    <tr>\n",
       "      <th>match_id</th>\n",
       "      <th>msg_number</th>\n",
       "      <th></th>\n",
       "      <th></th>\n",
       "      <th></th>\n",
       "      <th></th>\n",
       "      <th></th>\n",
       "      <th></th>\n",
       "      <th></th>\n",
       "      <th></th>\n",
       "      <th></th>\n",
       "      <th></th>\n",
       "      <th></th>\n",
       "      <th></th>\n",
       "    </tr>\n",
       "  </thead>\n",
       "  <tbody>\n",
       "    <tr>\n",
       "      <th>Match 169</th>\n",
       "      <th>0</th>\n",
       "      <td>NaN</td>\n",
       "      <td>You</td>\n",
       "      <td>0.0</td>\n",
       "      <td>Rose!! 🌹 I get it</td>\n",
       "      <td>5.0</td>\n",
       "      <td>0.0</td>\n",
       "      <td>2018-11-29 06:43:33</td>\n",
       "      <td>NaT</td>\n",
       "      <td>NaT</td>\n",
       "      <td>5bda0f045c67bcb02727e8c3</td>\n",
       "      <td>NaN</td>\n",
       "      <td>NaN</td>\n",
       "    </tr>\n",
       "    <tr>\n",
       "      <th rowspan=\"4\" valign=\"top\">Match 168</th>\n",
       "      <th>0</th>\n",
       "      <td>https://media0.giphy.com/media/6wpHEQNjkd74Q/2...</td>\n",
       "      <td>You</td>\n",
       "      <td>0.0</td>\n",
       "      <td>https://media0.giphy.com/media/6wpHEQNjkd74Q/g...</td>\n",
       "      <td>1.0</td>\n",
       "      <td>1.0</td>\n",
       "      <td>2018-11-21 01:18:37</td>\n",
       "      <td>NaT</td>\n",
       "      <td>NaT</td>\n",
       "      <td>5bdc7209e53ebed626ea4a03</td>\n",
       "      <td>gif</td>\n",
       "      <td>NaN</td>\n",
       "    </tr>\n",
       "    <tr>\n",
       "      <th>1</th>\n",
       "      <td>NaN</td>\n",
       "      <td>You</td>\n",
       "      <td>1.0</td>\n",
       "      <td>Hahaha that was fantastic!</td>\n",
       "      <td>4.0</td>\n",
       "      <td>0.0</td>\n",
       "      <td>2018-11-21 01:18:55</td>\n",
       "      <td>NaT</td>\n",
       "      <td>00:00:18</td>\n",
       "      <td>5bdc7209e53ebed626ea4a03</td>\n",
       "      <td>NaN</td>\n",
       "      <td>NaN</td>\n",
       "    </tr>\n",
       "    <tr>\n",
       "      <th>2</th>\n",
       "      <td>NaN</td>\n",
       "      <td>You</td>\n",
       "      <td>0.0</td>\n",
       "      <td>Also can you be the phosphorus and i have the ...</td>\n",
       "      <td>14.0</td>\n",
       "      <td>0.0</td>\n",
       "      <td>2018-11-21 01:19:30</td>\n",
       "      <td>00:00:53</td>\n",
       "      <td>00:00:35</td>\n",
       "      <td>5bdc7209e53ebed626ea4a03</td>\n",
       "      <td>NaN</td>\n",
       "      <td>NaN</td>\n",
       "    </tr>\n",
       "    <tr>\n",
       "      <th>3</th>\n",
       "      <td>NaN</td>\n",
       "      <td>You</td>\n",
       "      <td>0.0</td>\n",
       "      <td>Big sticks don’t impress you?</td>\n",
       "      <td>5.0</td>\n",
       "      <td>1.0</td>\n",
       "      <td>2018-11-21 01:27:49</td>\n",
       "      <td>00:08:54</td>\n",
       "      <td>00:08:19</td>\n",
       "      <td>5bdc7209e53ebed626ea4a03</td>\n",
       "      <td>NaN</td>\n",
       "      <td>NaN</td>\n",
       "    </tr>\n",
       "  </tbody>\n",
       "</table>\n",
       "</div>"
      ],
      "text/plain": [
       "                                                           fixed_height from  \\\n",
       "match_id  msg_number                                                           \n",
       "Match 169 0                                                         NaN  You   \n",
       "Match 168 0           https://media0.giphy.com/media/6wpHEQNjkd74Q/2...  You   \n",
       "          1                                                         NaN  You   \n",
       "          2                                                         NaN  You   \n",
       "          3                                                         NaN  You   \n",
       "\n",
       "                      funny_word_in_msg  \\\n",
       "match_id  msg_number                      \n",
       "Match 169 0                         0.0   \n",
       "Match 168 0                         0.0   \n",
       "          1                         1.0   \n",
       "          2                         0.0   \n",
       "          3                         0.0   \n",
       "\n",
       "                                                                message  \\\n",
       "match_id  msg_number                                                      \n",
       "Match 169 0                                           Rose!! 🌹 I get it   \n",
       "Match 168 0           https://media0.giphy.com/media/6wpHEQNjkd74Q/g...   \n",
       "          1                                  Hahaha that was fantastic!   \n",
       "          2           Also can you be the phosphorus and i have the ...   \n",
       "          3                               Big sticks don’t impress you?   \n",
       "\n",
       "                      n_words_in_msg  question_word_in_msg  \\\n",
       "match_id  msg_number                                         \n",
       "Match 169 0                      5.0                   0.0   \n",
       "Match 168 0                      1.0                   1.0   \n",
       "          1                      4.0                   0.0   \n",
       "          2                     14.0                   0.0   \n",
       "          3                      5.0                   1.0   \n",
       "\n",
       "                               sent_date time_since_last_2_msgs  \\\n",
       "match_id  msg_number                                              \n",
       "Match 169 0          2018-11-29 06:43:33                    NaT   \n",
       "Match 168 0          2018-11-21 01:18:37                    NaT   \n",
       "          1          2018-11-21 01:18:55                    NaT   \n",
       "          2          2018-11-21 01:19:30               00:00:53   \n",
       "          3          2018-11-21 01:27:49               00:08:54   \n",
       "\n",
       "                     time_since_last_msg                        to type  -1  \n",
       "match_id  msg_number                                                         \n",
       "Match 169 0                          NaT  5bda0f045c67bcb02727e8c3  NaN NaN  \n",
       "Match 168 0                          NaT  5bdc7209e53ebed626ea4a03  gif NaN  \n",
       "          1                     00:00:18  5bdc7209e53ebed626ea4a03  NaN NaN  \n",
       "          2                     00:00:35  5bdc7209e53ebed626ea4a03  NaN NaN  \n",
       "          3                     00:08:19  5bdc7209e53ebed626ea4a03  NaN NaN  "
      ]
     },
     "execution_count": 174,
     "metadata": {},
     "output_type": "execute_result"
    }
   ],
   "source": [
    "all_msg_df.head()"
   ]
  },
  {
   "cell_type": "code",
   "execution_count": 159,
   "metadata": {},
   "outputs": [
    {
     "data": {
      "text/plain": [
       "list"
      ]
     },
     "execution_count": 159,
     "metadata": {},
     "output_type": "execute_result"
    }
   ],
   "source": [
    "type(all_msg_df.index.tolist())"
   ]
  },
  {
   "cell_type": "code",
   "execution_count": 160,
   "metadata": {},
   "outputs": [
    {
     "data": {
      "text/plain": [
       "('Match 168', 2)"
      ]
     },
     "execution_count": 160,
     "metadata": {},
     "output_type": "execute_result"
    }
   ],
   "source": [
    "all_msg_df.index.tolist()[3]"
   ]
  },
  {
   "cell_type": "code",
   "execution_count": 161,
   "metadata": {},
   "outputs": [],
   "source": [
    "for tup in all_msg_df.index.tolist():\n",
    "    try:\n",
    "        len(tup)\n",
    "    except:\n",
    "        print(tup)"
   ]
  },
  {
   "cell_type": "code",
   "execution_count": 162,
   "metadata": {},
   "outputs": [],
   "source": [
    "demo_df = pd.DataFrame([])\n",
    "demo_df.loc[\"lol\", -1] = np.nan"
   ]
  },
  {
   "cell_type": "code",
   "execution_count": 183,
   "metadata": {},
   "outputs": [],
   "source": [
    "number = \"7185943385\"\n",
    "# find 10 digit number -- \"^\\d{10}$\"\n",
    "# re.sub('[^A-Za-z0-9]+', '', msg)"
   ]
  },
  {
   "cell_type": "code",
   "execution_count": null,
   "metadata": {},
   "outputs": [],
   "source": []
  },
  {
   "cell_type": "code",
   "execution_count": 179,
   "metadata": {},
   "outputs": [
    {
     "data": {
      "text/plain": [
       "Index([          'fixed_height',                   'from',\n",
       "            'funny_word_in_msg',                'message',\n",
       "               'n_words_in_msg',   'question_word_in_msg',\n",
       "                    'sent_date', 'time_since_last_2_msgs',\n",
       "          'time_since_last_msg',                     'to',\n",
       "                         'type',                       -1],\n",
       "      dtype='object')"
      ]
     },
     "execution_count": 179,
     "metadata": {},
     "output_type": "execute_result"
    }
   ],
   "source": [
    "all_msg_df.columns"
   ]
  },
  {
   "cell_type": "code",
   "execution_count": 185,
   "metadata": {},
   "outputs": [],
   "source": [
    "msgs = all_msg_df['message']"
   ]
  },
  {
   "cell_type": "code",
   "execution_count": 186,
   "metadata": {},
   "outputs": [
    {
     "data": {
      "text/plain": [
       "match_id   msg_number\n",
       "Match 169  0                                             Rose!! 🌹 I get it\n",
       "Match 168  0             https://media0.giphy.com/media/6wpHEQNjkd74Q/g...\n",
       "           1                                    Hahaha that was fantastic!\n",
       "Name: message, dtype: object"
      ]
     },
     "execution_count": 186,
     "metadata": {},
     "output_type": "execute_result"
    }
   ],
   "source": [
    "msgs[:3]"
   ]
  },
  {
   "cell_type": "code",
   "execution_count": 193,
   "metadata": {},
   "outputs": [
    {
     "name": "stdout",
     "output_type": "stream",
     "text": [
      "u\n"
     ]
    }
   ],
   "source": [
    "if 's' in 'silly':\n",
    "    print(\"u\")"
   ]
  },
  {
   "cell_type": "code",
   "execution_count": 201,
   "metadata": {},
   "outputs": [
    {
     "data": {
      "text/plain": [
       "['2345678910']"
      ]
     },
     "execution_count": 201,
     "metadata": {},
     "output_type": "execute_result"
    }
   ],
   "source": [
    "re.findall(\"\\d{10}$\", \"hello 2345678910\")"
   ]
  },
  {
   "cell_type": "code",
   "execution_count": null,
   "metadata": {},
   "outputs": [],
   "source": []
  },
  {
   "cell_type": "code",
   "execution_count": 196,
   "metadata": {},
   "outputs": [
    {
     "name": "stdout",
     "output_type": "stream",
     "text": [
      "My number is 7185943385\n",
      "Also do you wanna switch to texting. Tinder doesn't always notify me. My number is 7185943385\n",
      "My number is 7185943385, tinder sometimes doesn't notify me so call/text me \n",
      "I'm from NY. And yea my number is 7185943385 \n",
      "My number is 7185943385\n"
     ]
    }
   ],
   "source": [
    "i = 0\n",
    "numbers = []\n",
    "for msg in msgs.values:\n",
    "    temp_numb = re.findall(\"\\d{10}$\", \"hello 2345678910\")`"
   ]
  },
  {
   "cell_type": "code",
   "execution_count": 195,
   "metadata": {},
   "outputs": [
    {
     "data": {
      "text/plain": [
       "5"
      ]
     },
     "execution_count": 195,
     "metadata": {},
     "output_type": "execute_result"
    }
   ],
   "source": [
    "i"
   ]
  },
  {
   "cell_type": "code",
   "execution_count": 165,
   "metadata": {},
   "outputs": [],
   "source": [
    "temp_tuples = [(tup[0], str(tup[1])) for tup in all_msg_df.index.tolist()]\n",
    "all_msg_df.index = pd.MultiIndex.from_tuples(temp_tuples, names = [\"match_id\", \"msg_number\"])"
   ]
  },
  {
   "cell_type": "code",
   "execution_count": 166,
   "metadata": {},
   "outputs": [
    {
     "data": {
      "text/html": [
       "<div>\n",
       "<style scoped>\n",
       "    .dataframe tbody tr th:only-of-type {\n",
       "        vertical-align: middle;\n",
       "    }\n",
       "\n",
       "    .dataframe tbody tr th {\n",
       "        vertical-align: top;\n",
       "    }\n",
       "\n",
       "    .dataframe thead th {\n",
       "        text-align: right;\n",
       "    }\n",
       "</style>\n",
       "<table border=\"1\" class=\"dataframe\">\n",
       "  <thead>\n",
       "    <tr style=\"text-align: right;\">\n",
       "      <th></th>\n",
       "      <th></th>\n",
       "      <th>fixed_height</th>\n",
       "      <th>from</th>\n",
       "      <th>funny_word_in_msg</th>\n",
       "      <th>message</th>\n",
       "      <th>n_words_in_msg</th>\n",
       "      <th>question_word_in_msg</th>\n",
       "      <th>sent_date</th>\n",
       "      <th>time_since_last_2_msgs</th>\n",
       "      <th>time_since_last_msg</th>\n",
       "      <th>to</th>\n",
       "      <th>type</th>\n",
       "      <th>-1</th>\n",
       "    </tr>\n",
       "    <tr>\n",
       "      <th>match_id</th>\n",
       "      <th>msg_number</th>\n",
       "      <th></th>\n",
       "      <th></th>\n",
       "      <th></th>\n",
       "      <th></th>\n",
       "      <th></th>\n",
       "      <th></th>\n",
       "      <th></th>\n",
       "      <th></th>\n",
       "      <th></th>\n",
       "      <th></th>\n",
       "      <th></th>\n",
       "      <th></th>\n",
       "    </tr>\n",
       "  </thead>\n",
       "  <tbody>\n",
       "    <tr>\n",
       "      <th>Match 169</th>\n",
       "      <th>0</th>\n",
       "      <td>NaN</td>\n",
       "      <td>You</td>\n",
       "      <td>0.0</td>\n",
       "      <td>Rose!! 🌹 I get it</td>\n",
       "      <td>5.0</td>\n",
       "      <td>0.0</td>\n",
       "      <td>2018-11-29 06:43:33</td>\n",
       "      <td>NaT</td>\n",
       "      <td>NaT</td>\n",
       "      <td>5bda0f045c67bcb02727e8c3</td>\n",
       "      <td>NaN</td>\n",
       "      <td>NaN</td>\n",
       "    </tr>\n",
       "    <tr>\n",
       "      <th rowspan=\"4\" valign=\"top\">Match 168</th>\n",
       "      <th>0</th>\n",
       "      <td>https://media0.giphy.com/media/6wpHEQNjkd74Q/2...</td>\n",
       "      <td>You</td>\n",
       "      <td>0.0</td>\n",
       "      <td>https://media0.giphy.com/media/6wpHEQNjkd74Q/g...</td>\n",
       "      <td>1.0</td>\n",
       "      <td>1.0</td>\n",
       "      <td>2018-11-21 01:18:37</td>\n",
       "      <td>NaT</td>\n",
       "      <td>NaT</td>\n",
       "      <td>5bdc7209e53ebed626ea4a03</td>\n",
       "      <td>gif</td>\n",
       "      <td>NaN</td>\n",
       "    </tr>\n",
       "    <tr>\n",
       "      <th>1</th>\n",
       "      <td>NaN</td>\n",
       "      <td>You</td>\n",
       "      <td>1.0</td>\n",
       "      <td>Hahaha that was fantastic!</td>\n",
       "      <td>4.0</td>\n",
       "      <td>0.0</td>\n",
       "      <td>2018-11-21 01:18:55</td>\n",
       "      <td>NaT</td>\n",
       "      <td>00:00:18</td>\n",
       "      <td>5bdc7209e53ebed626ea4a03</td>\n",
       "      <td>NaN</td>\n",
       "      <td>NaN</td>\n",
       "    </tr>\n",
       "    <tr>\n",
       "      <th>2</th>\n",
       "      <td>NaN</td>\n",
       "      <td>You</td>\n",
       "      <td>0.0</td>\n",
       "      <td>Also can you be the phosphorus and i have the ...</td>\n",
       "      <td>14.0</td>\n",
       "      <td>0.0</td>\n",
       "      <td>2018-11-21 01:19:30</td>\n",
       "      <td>00:00:53</td>\n",
       "      <td>00:00:35</td>\n",
       "      <td>5bdc7209e53ebed626ea4a03</td>\n",
       "      <td>NaN</td>\n",
       "      <td>NaN</td>\n",
       "    </tr>\n",
       "    <tr>\n",
       "      <th>3</th>\n",
       "      <td>NaN</td>\n",
       "      <td>You</td>\n",
       "      <td>0.0</td>\n",
       "      <td>Big sticks don’t impress you?</td>\n",
       "      <td>5.0</td>\n",
       "      <td>1.0</td>\n",
       "      <td>2018-11-21 01:27:49</td>\n",
       "      <td>00:08:54</td>\n",
       "      <td>00:08:19</td>\n",
       "      <td>5bdc7209e53ebed626ea4a03</td>\n",
       "      <td>NaN</td>\n",
       "      <td>NaN</td>\n",
       "    </tr>\n",
       "  </tbody>\n",
       "</table>\n",
       "</div>"
      ],
      "text/plain": [
       "                                                           fixed_height from  \\\n",
       "match_id  msg_number                                                           \n",
       "Match 169 0                                                         NaN  You   \n",
       "Match 168 0           https://media0.giphy.com/media/6wpHEQNjkd74Q/2...  You   \n",
       "          1                                                         NaN  You   \n",
       "          2                                                         NaN  You   \n",
       "          3                                                         NaN  You   \n",
       "\n",
       "                      funny_word_in_msg  \\\n",
       "match_id  msg_number                      \n",
       "Match 169 0                         0.0   \n",
       "Match 168 0                         0.0   \n",
       "          1                         1.0   \n",
       "          2                         0.0   \n",
       "          3                         0.0   \n",
       "\n",
       "                                                                message  \\\n",
       "match_id  msg_number                                                      \n",
       "Match 169 0                                           Rose!! 🌹 I get it   \n",
       "Match 168 0           https://media0.giphy.com/media/6wpHEQNjkd74Q/g...   \n",
       "          1                                  Hahaha that was fantastic!   \n",
       "          2           Also can you be the phosphorus and i have the ...   \n",
       "          3                               Big sticks don’t impress you?   \n",
       "\n",
       "                      n_words_in_msg  question_word_in_msg  \\\n",
       "match_id  msg_number                                         \n",
       "Match 169 0                      5.0                   0.0   \n",
       "Match 168 0                      1.0                   1.0   \n",
       "          1                      4.0                   0.0   \n",
       "          2                     14.0                   0.0   \n",
       "          3                      5.0                   1.0   \n",
       "\n",
       "                               sent_date time_since_last_2_msgs  \\\n",
       "match_id  msg_number                                              \n",
       "Match 169 0          2018-11-29 06:43:33                    NaT   \n",
       "Match 168 0          2018-11-21 01:18:37                    NaT   \n",
       "          1          2018-11-21 01:18:55                    NaT   \n",
       "          2          2018-11-21 01:19:30               00:00:53   \n",
       "          3          2018-11-21 01:27:49               00:08:54   \n",
       "\n",
       "                     time_since_last_msg                        to type  -1  \n",
       "match_id  msg_number                                                         \n",
       "Match 169 0                          NaT  5bda0f045c67bcb02727e8c3  NaN NaN  \n",
       "Match 168 0                          NaT  5bdc7209e53ebed626ea4a03  gif NaN  \n",
       "          1                     00:00:18  5bdc7209e53ebed626ea4a03  NaN NaN  \n",
       "          2                     00:00:35  5bdc7209e53ebed626ea4a03  NaN NaN  \n",
       "          3                     00:08:19  5bdc7209e53ebed626ea4a03  NaN NaN  "
      ]
     },
     "execution_count": 166,
     "metadata": {},
     "output_type": "execute_result"
    }
   ],
   "source": [
    "all_msg_df.head()"
   ]
  },
  {
   "cell_type": "code",
   "execution_count": 170,
   "metadata": {
    "scrolled": true
   },
   "outputs": [
    {
     "data": {
      "text/html": [
       "<div>\n",
       "<style scoped>\n",
       "    .dataframe tbody tr th:only-of-type {\n",
       "        vertical-align: middle;\n",
       "    }\n",
       "\n",
       "    .dataframe tbody tr th {\n",
       "        vertical-align: top;\n",
       "    }\n",
       "\n",
       "    .dataframe thead th {\n",
       "        text-align: right;\n",
       "    }\n",
       "</style>\n",
       "<table border=\"1\" class=\"dataframe\">\n",
       "  <thead>\n",
       "    <tr style=\"text-align: right;\">\n",
       "      <th></th>\n",
       "      <th>fixed_height</th>\n",
       "      <th>from</th>\n",
       "      <th>funny_word_in_msg</th>\n",
       "      <th>message</th>\n",
       "      <th>n_words_in_msg</th>\n",
       "      <th>question_word_in_msg</th>\n",
       "      <th>sent_date</th>\n",
       "      <th>time_since_last_2_msgs</th>\n",
       "      <th>time_since_last_msg</th>\n",
       "      <th>to</th>\n",
       "      <th>type</th>\n",
       "      <th>-1</th>\n",
       "    </tr>\n",
       "    <tr>\n",
       "      <th>msg_number</th>\n",
       "      <th></th>\n",
       "      <th></th>\n",
       "      <th></th>\n",
       "      <th></th>\n",
       "      <th></th>\n",
       "      <th></th>\n",
       "      <th></th>\n",
       "      <th></th>\n",
       "      <th></th>\n",
       "      <th></th>\n",
       "      <th></th>\n",
       "      <th></th>\n",
       "    </tr>\n",
       "  </thead>\n",
       "  <tbody>\n",
       "    <tr>\n",
       "      <th>0</th>\n",
       "      <td>https://media2.giphy.com/media/9YKvq41UGOkCI/2...</td>\n",
       "      <td>You</td>\n",
       "      <td>0.0</td>\n",
       "      <td>https://media2.giphy.com/media/9YKvq41UGOkCI/g...</td>\n",
       "      <td>1.0</td>\n",
       "      <td>1.0</td>\n",
       "      <td>2018-11-11 15:39:31</td>\n",
       "      <td>NaT</td>\n",
       "      <td>NaT</td>\n",
       "      <td>5925d7aec7ddefdf38b4807b</td>\n",
       "      <td>gif</td>\n",
       "      <td>NaN</td>\n",
       "    </tr>\n",
       "  </tbody>\n",
       "</table>\n",
       "</div>"
      ],
      "text/plain": [
       "                                                 fixed_height from  \\\n",
       "msg_number                                                           \n",
       "0           https://media2.giphy.com/media/9YKvq41UGOkCI/2...  You   \n",
       "\n",
       "            funny_word_in_msg  \\\n",
       "msg_number                      \n",
       "0                         0.0   \n",
       "\n",
       "                                                      message  n_words_in_msg  \\\n",
       "msg_number                                                                      \n",
       "0           https://media2.giphy.com/media/9YKvq41UGOkCI/g...             1.0   \n",
       "\n",
       "            question_word_in_msg           sent_date time_since_last_2_msgs  \\\n",
       "msg_number                                                                    \n",
       "0                            1.0 2018-11-11 15:39:31                    NaT   \n",
       "\n",
       "           time_since_last_msg                        to type  -1  \n",
       "msg_number                                                         \n",
       "0                          NaT  5925d7aec7ddefdf38b4807b  gif NaN  "
      ]
     },
     "execution_count": 170,
     "metadata": {},
     "output_type": "execute_result"
    }
   ],
   "source": [
    "all_msg_df.loc[\"Match 160\"]"
   ]
  },
  {
   "cell_type": "code",
   "execution_count": null,
   "metadata": {},
   "outputs": [],
   "source": []
  },
  {
   "cell_type": "code",
   "execution_count": null,
   "metadata": {},
   "outputs": [],
   "source": []
  },
  {
   "cell_type": "code",
   "execution_count": null,
   "metadata": {},
   "outputs": [],
   "source": []
  },
  {
   "cell_type": "code",
   "execution_count": 177,
   "metadata": {},
   "outputs": [
    {
     "data": {
      "text/html": [
       "<div>\n",
       "<style scoped>\n",
       "    .dataframe tbody tr th:only-of-type {\n",
       "        vertical-align: middle;\n",
       "    }\n",
       "\n",
       "    .dataframe tbody tr th {\n",
       "        vertical-align: top;\n",
       "    }\n",
       "\n",
       "    .dataframe thead th {\n",
       "        text-align: right;\n",
       "    }\n",
       "</style>\n",
       "<table border=\"1\" class=\"dataframe\">\n",
       "  <thead>\n",
       "    <tr style=\"text-align: right;\">\n",
       "      <th></th>\n",
       "      <th>funny_word_in_msg</th>\n",
       "      <th>n_words_in_msg</th>\n",
       "      <th>question_word_in_msg</th>\n",
       "      <th>time_since_last_2_msgs</th>\n",
       "      <th>time_since_last_msg</th>\n",
       "      <th>-1</th>\n",
       "    </tr>\n",
       "  </thead>\n",
       "  <tbody>\n",
       "    <tr>\n",
       "      <th>count</th>\n",
       "      <td>961.000000</td>\n",
       "      <td>961.000000</td>\n",
       "      <td>961.000000</td>\n",
       "      <td>699</td>\n",
       "      <td>796</td>\n",
       "      <td>0.0</td>\n",
       "    </tr>\n",
       "    <tr>\n",
       "      <th>mean</th>\n",
       "      <td>0.068678</td>\n",
       "      <td>11.085328</td>\n",
       "      <td>0.575442</td>\n",
       "      <td>4 days 08:23:36.640915</td>\n",
       "      <td>3 days 03:17:56.028894</td>\n",
       "      <td>NaN</td>\n",
       "    </tr>\n",
       "    <tr>\n",
       "      <th>std</th>\n",
       "      <td>0.253038</td>\n",
       "      <td>7.042949</td>\n",
       "      <td>0.494533</td>\n",
       "      <td>19 days 18:18:55.536538</td>\n",
       "      <td>16 days 07:30:45.889065</td>\n",
       "      <td>NaN</td>\n",
       "    </tr>\n",
       "    <tr>\n",
       "      <th>min</th>\n",
       "      <td>0.000000</td>\n",
       "      <td>1.000000</td>\n",
       "      <td>0.000000</td>\n",
       "      <td>0 days 00:00:03</td>\n",
       "      <td>0 days 00:00:01</td>\n",
       "      <td>NaN</td>\n",
       "    </tr>\n",
       "    <tr>\n",
       "      <th>25%</th>\n",
       "      <td>0.000000</td>\n",
       "      <td>6.000000</td>\n",
       "      <td>0.000000</td>\n",
       "      <td>0 days 00:12:11.500000</td>\n",
       "      <td>0 days 00:01:37</td>\n",
       "      <td>NaN</td>\n",
       "    </tr>\n",
       "    <tr>\n",
       "      <th>50%</th>\n",
       "      <td>0.000000</td>\n",
       "      <td>10.000000</td>\n",
       "      <td>1.000000</td>\n",
       "      <td>0 days 02:05:47</td>\n",
       "      <td>0 days 00:17:23</td>\n",
       "      <td>NaN</td>\n",
       "    </tr>\n",
       "    <tr>\n",
       "      <th>75%</th>\n",
       "      <td>0.000000</td>\n",
       "      <td>14.000000</td>\n",
       "      <td>1.000000</td>\n",
       "      <td>1 days 02:08:38</td>\n",
       "      <td>0 days 11:26:52.750000</td>\n",
       "      <td>NaN</td>\n",
       "    </tr>\n",
       "    <tr>\n",
       "      <th>max</th>\n",
       "      <td>1.000000</td>\n",
       "      <td>47.000000</td>\n",
       "      <td>1.000000</td>\n",
       "      <td>230 days 11:35:40</td>\n",
       "      <td>228 days 13:06:03</td>\n",
       "      <td>NaN</td>\n",
       "    </tr>\n",
       "  </tbody>\n",
       "</table>\n",
       "</div>"
      ],
      "text/plain": [
       "       funny_word_in_msg  n_words_in_msg  question_word_in_msg  \\\n",
       "count         961.000000      961.000000            961.000000   \n",
       "mean            0.068678       11.085328              0.575442   \n",
       "std             0.253038        7.042949              0.494533   \n",
       "min             0.000000        1.000000              0.000000   \n",
       "25%             0.000000        6.000000              0.000000   \n",
       "50%             0.000000       10.000000              1.000000   \n",
       "75%             0.000000       14.000000              1.000000   \n",
       "max             1.000000       47.000000              1.000000   \n",
       "\n",
       "        time_since_last_2_msgs      time_since_last_msg   -1  \n",
       "count                      699                      796  0.0  \n",
       "mean    4 days 08:23:36.640915   3 days 03:17:56.028894  NaN  \n",
       "std    19 days 18:18:55.536538  16 days 07:30:45.889065  NaN  \n",
       "min            0 days 00:00:03          0 days 00:00:01  NaN  \n",
       "25%     0 days 00:12:11.500000          0 days 00:01:37  NaN  \n",
       "50%            0 days 02:05:47          0 days 00:17:23  NaN  \n",
       "75%            1 days 02:08:38   0 days 11:26:52.750000  NaN  \n",
       "max          230 days 11:35:40        228 days 13:06:03  NaN  "
      ]
     },
     "execution_count": 177,
     "metadata": {},
     "output_type": "execute_result"
    }
   ],
   "source": [
    "all_msg_df.describe()"
   ]
  },
  {
   "cell_type": "code",
   "execution_count": 173,
   "metadata": {},
   "outputs": [
    {
     "data": {
      "text/plain": [
       "Index(['Match 169', 'Match 168', 'Match 168', 'Match 168', 'Match 168',\n",
       "       'Match 168', 'Match 167', 'Match 167', 'Match 167', 'Match 167',\n",
       "       ...\n",
       "       'Match 5', 'Match 5', 'Match 4', 'Match 3', 'Match 3', 'Match 2',\n",
       "       'Match 1', 'Match 1', 'Match 1', 'Match 1'],\n",
       "      dtype='object', name='match_id', length=965)"
      ]
     },
     "execution_count": 173,
     "metadata": {},
     "output_type": "execute_result"
    }
   ],
   "source": [
    "all_msg_df.index.get_level_values(0)"
   ]
  },
  {
   "cell_type": "code",
   "execution_count": null,
   "metadata": {},
   "outputs": [],
   "source": []
  },
  {
   "cell_type": "code",
   "execution_count": 22,
   "metadata": {},
   "outputs": [],
   "source": [
    "temp_df1[\"n_words_in_msg\"] = temp_df1.apply(lambda x: len(x['message'].split(\" \")), axis = 1)"
   ]
  },
  {
   "cell_type": "code",
   "execution_count": 23,
   "metadata": {},
   "outputs": [],
   "source": [
    "time_since_last_msg = temp_df1[\"sent_date\"].diff()"
   ]
  },
  {
   "cell_type": "code",
   "execution_count": 24,
   "metadata": {},
   "outputs": [
    {
     "data": {
      "text/plain": [
       "match_id   msg_number\n",
       "Match 168  0                 NaT\n",
       "           1                 NaT\n",
       "           2            00:00:53\n",
       "           3            00:08:54\n",
       "           4            00:08:36\n",
       "Name: sent_date, dtype: timedelta64[ns]"
      ]
     },
     "execution_count": 24,
     "metadata": {},
     "output_type": "execute_result"
    }
   ],
   "source": [
    "temp_df1[\"sent_date\"].diff(2)"
   ]
  },
  {
   "cell_type": "code",
   "execution_count": 25,
   "metadata": {},
   "outputs": [
    {
     "ename": "SyntaxError",
     "evalue": "invalid syntax (<ipython-input-25-a782054bf277>, line 1)",
     "output_type": "error",
     "traceback": [
      "\u001b[0;36m  File \u001b[0;32m\"<ipython-input-25-a782054bf277>\"\u001b[0;36m, line \u001b[0;32m1\u001b[0m\n\u001b[0;31m    temp_df1.apply(lambda x: 1 if x[\"message\"])\u001b[0m\n\u001b[0m                                              ^\u001b[0m\n\u001b[0;31mSyntaxError\u001b[0m\u001b[0;31m:\u001b[0m invalid syntax\n"
     ]
    }
   ],
   "source": [
    "temp_df1.apply(lambda x: 1 if x[\"message\"])"
   ]
  },
  {
   "cell_type": "code",
   "execution_count": 26,
   "metadata": {},
   "outputs": [],
   "source": [
    "phrase_temp = temp_df1['message'][2] "
   ]
  },
  {
   "cell_type": "code",
   "execution_count": 28,
   "metadata": {},
   "outputs": [],
   "source": [
    "def word_list_in_phrase(word_list, phrase):\n",
    "    \"\"\"\n",
    "    Check if word is in phrase list -- comparing 2 lists \n",
    "    << use sets instead? >> \n",
    "    \"\"\"\n",
    "    \n",
    "    # Normalize phrase \n",
    "    phrase_list = phrase.split(\" \")\n",
    "    phrase_list = [x.lower() for x in phrase_list]\n",
    "        \n",
    "    # Compare \n",
    "    for word in word_list:\n",
    "        if word in phrase_list:\n",
    "            return 1\n",
    "    return 0"
   ]
  },
  {
   "cell_type": "code",
   "execution_count": 29,
   "metadata": {},
   "outputs": [
    {
     "data": {
      "text/plain": [
       "0"
      ]
     },
     "execution_count": 29,
     "metadata": {},
     "output_type": "execute_result"
    }
   ],
   "source": [
    "word_list_in_phrase(funny_words, phrase_temp)"
   ]
  },
  {
   "cell_type": "code",
   "execution_count": 30,
   "metadata": {},
   "outputs": [
    {
     "data": {
      "text/plain": [
       "'Also can you be the phosphorus and i have the big wooden stick 😁👍🏾😉'"
      ]
     },
     "execution_count": 30,
     "metadata": {},
     "output_type": "execute_result"
    }
   ],
   "source": [
    "phrase_temp\n"
   ]
  },
  {
   "cell_type": "code",
   "execution_count": 31,
   "metadata": {},
   "outputs": [
    {
     "data": {
      "text/plain": [
       "['hahaha', 'lol', 'haha', 'ha']"
      ]
     },
     "execution_count": 31,
     "metadata": {},
     "output_type": "execute_result"
    }
   ],
   "source": [
    "funny_words"
   ]
  },
  {
   "cell_type": "code",
   "execution_count": 32,
   "metadata": {},
   "outputs": [
    {
     "data": {
      "text/plain": [
       "match_id   msg_number\n",
       "Match 168  0             0\n",
       "           1             1\n",
       "           2             0\n",
       "           3             0\n",
       "           4             0\n",
       "dtype: int64"
      ]
     },
     "execution_count": 32,
     "metadata": {},
     "output_type": "execute_result"
    }
   ],
   "source": [
    "temp_df1.apply(lambda x: word_list_in_phrase(funny_words, x['message']), axis =1 )"
   ]
  },
  {
   "cell_type": "code",
   "execution_count": null,
   "metadata": {},
   "outputs": [],
   "source": []
  }
 ],
 "metadata": {
  "kernelspec": {
   "display_name": "Python 3",
   "language": "python",
   "name": "python3"
  },
  "language_info": {
   "codemirror_mode": {
    "name": "ipython",
    "version": 3
   },
   "file_extension": ".py",
   "mimetype": "text/x-python",
   "name": "python",
   "nbconvert_exporter": "python",
   "pygments_lexer": "ipython3",
   "version": "3.6.4"
  }
 },
 "nbformat": 4,
 "nbformat_minor": 2
}
